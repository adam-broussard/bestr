{
 "cells": [
  {
   "cell_type": "code",
   "execution_count": null,
   "id": "559fa3e7",
   "metadata": {},
   "outputs": [],
   "source": [
    "%matplotlib inline\n",
    "\n",
    "from bestreads.models import cnn\n",
    "import matplotlib as mpl\n",
    "from matplotlib import pyplot as plt"
   ]
  },
  {
   "cell_type": "markdown",
   "id": "b5149aca",
   "metadata": {},
   "source": [
    "# Generate Training and Test Dataset Split"
   ]
  },
  {
   "cell_type": "code",
   "execution_count": null,
   "id": "46a7322d",
   "metadata": {},
   "outputs": [],
   "source": [
    "data = pd.read_csv('./data/goodreads_books.csv')\n",
    "\n",
    "cnn.split_train_test_data(data, test_frac=0.2, random_seed = 983)"
   ]
  },
  {
   "cell_type": "markdown",
   "id": "fe0640d9",
   "metadata": {},
   "source": [
    "## Load the Model"
   ]
  },
  {
   "cell_type": "code",
   "execution_count": null,
   "id": "a39237b2",
   "metadata": {},
   "outputs": [],
   "source": [
    "model = cnn.read_model(read_dir = './models/')\n",
    "print(model.summary())"
   ]
  },
  {
   "cell_type": "markdown",
   "id": "910cf556",
   "metadata": {},
   "source": [
    "## Get Train and Validation Datasets"
   ]
  },
  {
   "cell_type": "code",
   "execution_count": null,
   "id": "865859ec",
   "metadata": {},
   "outputs": [],
   "source": [
    "train_dataset, val_dataset = cnn.get_train_val_datasets(val_frac=0.15, random_seed = 434)"
   ]
  },
  {
   "cell_type": "markdown",
   "id": "e97accbc",
   "metadata": {},
   "source": [
    "## Evaluate Model"
   ]
  },
  {
   "cell_type": "code",
   "execution_count": null,
   "id": "481228cd",
   "metadata": {
    "scrolled": true
   },
   "outputs": [],
   "source": [
    "predictions = model.predict(val_dataset)\n",
    "\n",
    "# Get true values from val_dataset\n",
    "# Plot vs each other"
   ]
  }
 ],
 "metadata": {
  "kernelspec": {
   "display_name": "Python 3 (ipykernel)",
   "language": "python",
   "name": "python3"
  },
  "language_info": {
   "codemirror_mode": {
    "name": "ipython",
    "version": 3
   },
   "file_extension": ".py",
   "mimetype": "text/x-python",
   "name": "python",
   "nbconvert_exporter": "python",
   "pygments_lexer": "ipython3",
   "version": "3.7.1"
  }
 },
 "nbformat": 4,
 "nbformat_minor": 5
}
