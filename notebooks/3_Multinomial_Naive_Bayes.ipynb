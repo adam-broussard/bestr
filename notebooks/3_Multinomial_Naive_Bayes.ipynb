{
 "cells": [
  {
   "cell_type": "code",
   "execution_count": 1,
   "id": "8506c4db",
   "metadata": {},
   "outputs": [],
   "source": [
    "from sklearn.naive_bayes import MultinomialNB\n",
    "from sklearn.feature_extraction.text import CountVectorizer\n",
    "import numpy as np\n",
    "import pandas as pd\n",
    "import ast"
   ]
  },
  {
   "cell_type": "markdown",
   "id": "0c63db02",
   "metadata": {},
   "source": [
    "# Training and Testing Multinomial Naive Bayes Classifier"
   ]
  },
  {
   "cell_type": "markdown",
   "id": "42a5f4b7",
   "metadata": {},
   "source": [
    "## Reading in Training Data and Simple Transforms"
   ]
  },
  {
   "cell_type": "code",
   "execution_count": 2,
   "id": "0c02425c",
   "metadata": {},
   "outputs": [
    {
     "data": {
      "text/html": [
       "<div>\n",
       "<style scoped>\n",
       "    .dataframe tbody tr th:only-of-type {\n",
       "        vertical-align: middle;\n",
       "    }\n",
       "\n",
       "    .dataframe tbody tr th {\n",
       "        vertical-align: top;\n",
       "    }\n",
       "\n",
       "    .dataframe thead th {\n",
       "        text-align: right;\n",
       "    }\n",
       "</style>\n",
       "<table border=\"1\" class=\"dataframe\">\n",
       "  <thead>\n",
       "    <tr style=\"text-align: right;\">\n",
       "      <th></th>\n",
       "      <th>is_english_description</th>\n",
       "      <th>cleaned_descriptions</th>\n",
       "      <th>genre_1</th>\n",
       "      <th>votes_1</th>\n",
       "    </tr>\n",
       "    <tr>\n",
       "      <th>index</th>\n",
       "      <th></th>\n",
       "      <th></th>\n",
       "      <th></th>\n",
       "      <th></th>\n",
       "    </tr>\n",
       "  </thead>\n",
       "  <tbody>\n",
       "    <tr>\n",
       "      <th>0</th>\n",
       "      <td>True</td>\n",
       "      <td>[angri, rebel, john, drop, school, enlist, arm...</td>\n",
       "      <td>Romance</td>\n",
       "      <td>3493.0</td>\n",
       "    </tr>\n",
       "    <tr>\n",
       "      <th>1</th>\n",
       "      <td>True</td>\n",
       "      <td>[thi, onli, complet, unabridg, one, volum, edi...</td>\n",
       "      <td>Reference</td>\n",
       "      <td>77.0</td>\n",
       "    </tr>\n",
       "    <tr>\n",
       "      <th>2</th>\n",
       "      <td>True</td>\n",
       "      <td>[maria, moran, first, inkl, troubl, wa, copper...</td>\n",
       "      <td>Thriller</td>\n",
       "      <td>32.0</td>\n",
       "    </tr>\n",
       "    <tr>\n",
       "      <th>3</th>\n",
       "      <td>True</td>\n",
       "      <td>[indi, savag, cop, daughter, rock, chick, use,...</td>\n",
       "      <td>Romance</td>\n",
       "      <td>1926.0</td>\n",
       "    </tr>\n",
       "    <tr>\n",
       "      <th>4</th>\n",
       "      <td>True</td>\n",
       "      <td>[inexplic, worldwid, event, forti, seven, extr...</td>\n",
       "      <td>Sequential Art</td>\n",
       "      <td>3214.0</td>\n",
       "    </tr>\n",
       "  </tbody>\n",
       "</table>\n",
       "</div>"
      ],
      "text/plain": [
       "       is_english_description  \\\n",
       "index                           \n",
       "0                        True   \n",
       "1                        True   \n",
       "2                        True   \n",
       "3                        True   \n",
       "4                        True   \n",
       "\n",
       "                                    cleaned_descriptions         genre_1  \\\n",
       "index                                                                      \n",
       "0      [angri, rebel, john, drop, school, enlist, arm...         Romance   \n",
       "1      [thi, onli, complet, unabridg, one, volum, edi...       Reference   \n",
       "2      [maria, moran, first, inkl, troubl, wa, copper...        Thriller   \n",
       "3      [indi, savag, cop, daughter, rock, chick, use,...         Romance   \n",
       "4      [inexplic, worldwid, event, forti, seven, extr...  Sequential Art   \n",
       "\n",
       "       votes_1  \n",
       "index           \n",
       "0       3493.0  \n",
       "1         77.0  \n",
       "2         32.0  \n",
       "3       1926.0  \n",
       "4       3214.0  "
      ]
     },
     "execution_count": 2,
     "metadata": {},
     "output_type": "execute_result"
    }
   ],
   "source": [
    "train = pd.read_csv('./data/processed/goodreads_books_train_processed.csv',\n",
    "                    converters={'cleaned_descriptions':ast.literal_eval},\n",
    "                    index_col=0)\n",
    "train.head()"
   ]
  },
  {
   "cell_type": "markdown",
   "id": "35ac3432",
   "metadata": {},
   "source": [
    "Scikit-learn has the ability to do all of the text cleaning we have done already EXCEPT stemming, so I'll use our cleaned descriptions after stitching them back together such that each description is a string.\n",
    "\n",
    "We are passing counts of unique words as features, meaning that the dimensions of `X_train` are `(number of descriptions, number of unique words)`.  The targets in `y_train` are just strings representing each genre."
   ]
  },
  {
   "cell_type": "code",
   "execution_count": 3,
   "id": "cead36f4",
   "metadata": {},
   "outputs": [
    {
     "data": {
      "text/plain": [
       "MultinomialNB()"
      ]
     },
     "execution_count": 3,
     "metadata": {},
     "output_type": "execute_result"
    }
   ],
   "source": [
    "train['mod_descriptions'] = train['cleaned_descriptions'].apply(lambda x: ' '.join(x))\n",
    "\n",
    "valid_train = train[train[['mod_descriptions', 'genre_1']].notnull().all(axis=1)]\n",
    "\n",
    "vectorizer = CountVectorizer()\n",
    "X_train = vectorizer.fit_transform(valid_train.mod_descriptions)\n",
    "y_train = valid_train['genre_1']\n",
    "\n",
    "classifier = MultinomialNB()\n",
    "classifier.fit(X_train, y_train)"
   ]
  },
  {
   "cell_type": "markdown",
   "id": "f4b6d416",
   "metadata": {},
   "source": [
    "## Read in Test Data"
   ]
  },
  {
   "cell_type": "code",
   "execution_count": 4,
   "id": "7421b4c4",
   "metadata": {
    "scrolled": true
   },
   "outputs": [
    {
     "data": {
      "text/html": [
       "<div>\n",
       "<style scoped>\n",
       "    .dataframe tbody tr th:only-of-type {\n",
       "        vertical-align: middle;\n",
       "    }\n",
       "\n",
       "    .dataframe tbody tr th {\n",
       "        vertical-align: top;\n",
       "    }\n",
       "\n",
       "    .dataframe thead th {\n",
       "        text-align: right;\n",
       "    }\n",
       "</style>\n",
       "<table border=\"1\" class=\"dataframe\">\n",
       "  <thead>\n",
       "    <tr style=\"text-align: right;\">\n",
       "      <th></th>\n",
       "      <th>is_english_description</th>\n",
       "      <th>cleaned_descriptions</th>\n",
       "      <th>genre_1</th>\n",
       "      <th>votes_1</th>\n",
       "    </tr>\n",
       "    <tr>\n",
       "      <th>index</th>\n",
       "      <th></th>\n",
       "      <th></th>\n",
       "      <th></th>\n",
       "      <th></th>\n",
       "    </tr>\n",
       "  </thead>\n",
       "  <tbody>\n",
       "    <tr>\n",
       "      <th>1</th>\n",
       "      <td>True</td>\n",
       "      <td>[jim, butcher, 1, new, york, time, bestsel, au...</td>\n",
       "      <td>Fantasy</td>\n",
       "      <td>2560.0</td>\n",
       "    </tr>\n",
       "    <tr>\n",
       "      <th>2</th>\n",
       "      <td>True</td>\n",
       "      <td>[bicker, struggl, piski, problem, liam, beth, ...</td>\n",
       "      <td>NaN</td>\n",
       "      <td>NaN</td>\n",
       "    </tr>\n",
       "    <tr>\n",
       "      <th>3</th>\n",
       "      <td>True</td>\n",
       "      <td>[hi, posit, tracker, snowdanc, pack, drew, kin...</td>\n",
       "      <td>Romance</td>\n",
       "      <td>1462.0</td>\n",
       "    </tr>\n",
       "    <tr>\n",
       "      <th>4</th>\n",
       "      <td>True</td>\n",
       "      <td>[action, doesnt, let, explos, tomorrow, book, ...</td>\n",
       "      <td>Young Adult</td>\n",
       "      <td>423.0</td>\n",
       "    </tr>\n",
       "    <tr>\n",
       "      <th>7</th>\n",
       "      <td>True</td>\n",
       "      <td>[berti, think, quest, almost, done, help, arie...</td>\n",
       "      <td>Fantasy</td>\n",
       "      <td>187.0</td>\n",
       "    </tr>\n",
       "  </tbody>\n",
       "</table>\n",
       "</div>"
      ],
      "text/plain": [
       "       is_english_description  \\\n",
       "index                           \n",
       "1                        True   \n",
       "2                        True   \n",
       "3                        True   \n",
       "4                        True   \n",
       "7                        True   \n",
       "\n",
       "                                    cleaned_descriptions      genre_1  votes_1  \n",
       "index                                                                           \n",
       "1      [jim, butcher, 1, new, york, time, bestsel, au...      Fantasy   2560.0  \n",
       "2      [bicker, struggl, piski, problem, liam, beth, ...          NaN      NaN  \n",
       "3      [hi, posit, tracker, snowdanc, pack, drew, kin...      Romance   1462.0  \n",
       "4      [action, doesnt, let, explos, tomorrow, book, ...  Young Adult    423.0  \n",
       "7      [berti, think, quest, almost, done, help, arie...      Fantasy    187.0  "
      ]
     },
     "execution_count": 4,
     "metadata": {},
     "output_type": "execute_result"
    }
   ],
   "source": [
    "test = pd.read_csv('./data/processed/goodreads_books_test_processed.csv',\n",
    "                   converters={'cleaned_descriptions':ast.literal_eval},\n",
    "                   index_col=0)\n",
    "test.head()"
   ]
  },
  {
   "cell_type": "markdown",
   "id": "a93ef9ff",
   "metadata": {},
   "source": [
    "## Make Similar Transforms and Score"
   ]
  },
  {
   "cell_type": "code",
   "execution_count": 5,
   "id": "de1a4d3d",
   "metadata": {},
   "outputs": [],
   "source": [
    "test['mod_descriptions'] = test['cleaned_descriptions'].apply(lambda x: ' '.join(x))\n",
    "valid_test = test[test[['mod_descriptions', 'genre_1']].notnull().all(axis=1)]\n",
    "X_test = vectorizer.transform(valid_test.mod_descriptions)\n",
    "y_test = valid_test[['genre_1']]"
   ]
  },
  {
   "cell_type": "code",
   "execution_count": 6,
   "id": "d619ec3e",
   "metadata": {},
   "outputs": [
    {
     "data": {
      "text/plain": [
       "0.5129518929689724"
      ]
     },
     "execution_count": 6,
     "metadata": {},
     "output_type": "execute_result"
    }
   ],
   "source": [
    "classifier.score(X_test,y_test)"
   ]
  },
  {
   "cell_type": "markdown",
   "id": "f23d049f",
   "metadata": {},
   "source": [
    "The score above is actually not bad considering how overlapping the genres are... It could probably be greatly improved just by making genres more distinct."
   ]
  }
 ],
 "metadata": {
  "kernelspec": {
   "display_name": "Python 3 (ipykernel)",
   "language": "python",
   "name": "python3"
  },
  "language_info": {
   "codemirror_mode": {
    "name": "ipython",
    "version": 3
   },
   "file_extension": ".py",
   "mimetype": "text/x-python",
   "name": "python",
   "nbconvert_exporter": "python",
   "pygments_lexer": "ipython3",
   "version": "3.7.13"
  }
 },
 "nbformat": 4,
 "nbformat_minor": 5
}
