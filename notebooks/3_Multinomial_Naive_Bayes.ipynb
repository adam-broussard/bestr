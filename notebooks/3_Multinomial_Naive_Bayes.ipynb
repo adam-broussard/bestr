{
 "cells": [
  {
   "cell_type": "code",
   "execution_count": 1,
   "id": "8506c4db",
   "metadata": {},
   "outputs": [],
   "source": [
    "from sklearn.naive_bayes import MultinomialNB\n",
    "from sklearn.feature_extraction.text import CountVectorizer\n",
    "import numpy as np\n",
    "import pandas as pd\n",
    "import ast"
   ]
  },
  {
   "cell_type": "markdown",
   "id": "0c63db02",
   "metadata": {},
   "source": [
    "# Training and Testing Multinomial Naive Bayes Classifier"
   ]
  },
  {
   "cell_type": "markdown",
   "id": "42a5f4b7",
   "metadata": {},
   "source": [
    "## Reading in Training Data and Simple Transforms"
   ]
  },
  {
   "cell_type": "code",
   "execution_count": 2,
   "id": "0c02425c",
   "metadata": {},
   "outputs": [
    {
     "data": {
      "text/html": [
       "<div>\n",
       "<style scoped>\n",
       "    .dataframe tbody tr th:only-of-type {\n",
       "        vertical-align: middle;\n",
       "    }\n",
       "\n",
       "    .dataframe tbody tr th {\n",
       "        vertical-align: top;\n",
       "    }\n",
       "\n",
       "    .dataframe thead th {\n",
       "        text-align: right;\n",
       "    }\n",
       "</style>\n",
       "<table border=\"1\" class=\"dataframe\">\n",
       "  <thead>\n",
       "    <tr style=\"text-align: right;\">\n",
       "      <th></th>\n",
       "      <th>is_english_description</th>\n",
       "      <th>cleaned_descriptions</th>\n",
       "      <th>genre_1</th>\n",
       "      <th>votes_1</th>\n",
       "    </tr>\n",
       "    <tr>\n",
       "      <th>index</th>\n",
       "      <th></th>\n",
       "      <th></th>\n",
       "      <th></th>\n",
       "      <th></th>\n",
       "    </tr>\n",
       "  </thead>\n",
       "  <tbody>\n",
       "    <tr>\n",
       "      <th>0</th>\n",
       "      <td>True</td>\n",
       "      <td>[filmmak, chase, ryan, keith, ellison, complet...</td>\n",
       "      <td>Fiction</td>\n",
       "      <td>174.0</td>\n",
       "    </tr>\n",
       "    <tr>\n",
       "      <th>2</th>\n",
       "      <td>True</td>\n",
       "      <td>[incred, nation, bestsel, chang, peopl, live, ...</td>\n",
       "      <td>Self Help</td>\n",
       "      <td>1162.0</td>\n",
       "    </tr>\n",
       "    <tr>\n",
       "      <th>3</th>\n",
       "      <td>True</td>\n",
       "      <td>[high, spirit, intellig, good, look, abigail, ...</td>\n",
       "      <td>Romance</td>\n",
       "      <td>550.0</td>\n",
       "    </tr>\n",
       "    <tr>\n",
       "      <th>4</th>\n",
       "      <td>True</td>\n",
       "      <td>[news, went, sylvest, rayn, eleg, impecc, duke...</td>\n",
       "      <td>Romance</td>\n",
       "      <td>725.0</td>\n",
       "    </tr>\n",
       "    <tr>\n",
       "      <th>5</th>\n",
       "      <td>True</td>\n",
       "      <td>[major, motion, pictur, star, nicola, cage, di...</td>\n",
       "      <td>Gothic</td>\n",
       "      <td>106.0</td>\n",
       "    </tr>\n",
       "  </tbody>\n",
       "</table>\n",
       "</div>"
      ],
      "text/plain": [
       "       is_english_description  \\\n",
       "index                           \n",
       "0                        True   \n",
       "2                        True   \n",
       "3                        True   \n",
       "4                        True   \n",
       "5                        True   \n",
       "\n",
       "                                    cleaned_descriptions    genre_1  votes_1  \n",
       "index                                                                         \n",
       "0      [filmmak, chase, ryan, keith, ellison, complet...    Fiction    174.0  \n",
       "2      [incred, nation, bestsel, chang, peopl, live, ...  Self Help   1162.0  \n",
       "3      [high, spirit, intellig, good, look, abigail, ...    Romance    550.0  \n",
       "4      [news, went, sylvest, rayn, eleg, impecc, duke...    Romance    725.0  \n",
       "5      [major, motion, pictur, star, nicola, cage, di...     Gothic    106.0  "
      ]
     },
     "execution_count": 2,
     "metadata": {},
     "output_type": "execute_result"
    }
   ],
   "source": [
    "train = pd.read_csv('./data/processed/goodreads_books_train_processed.csv',\n",
    "                    converters={'cleaned_descriptions':ast.literal_eval},\n",
    "                    index_col=0)\n",
    "train.head()"
   ]
  },
  {
   "cell_type": "markdown",
   "id": "35ac3432",
   "metadata": {},
   "source": [
    "Scikit-learn has the ability to do all of the text cleaning we have done already EXCEPT stemming, so I'll use our cleaned descriptions after stitching them back together such that each description is a string.\n",
    "\n",
    "We are passing counts of unique words as features, meaning that the dimensions of `X_train` are `(number of descriptions, number of unique words)`.  The targets in `y_train` are just strings representing each genre."
   ]
  },
  {
   "cell_type": "code",
   "execution_count": 3,
   "id": "cead36f4",
   "metadata": {},
   "outputs": [
    {
     "data": {
      "text/plain": [
       "MultinomialNB()"
      ]
     },
     "execution_count": 3,
     "metadata": {},
     "output_type": "execute_result"
    }
   ],
   "source": [
    "train['mod_descriptions'] = train['cleaned_descriptions'].apply(lambda x: ' '.join(x))\n",
    "\n",
    "valid_train = train[train[['mod_descriptions', 'genre_1']].notnull().all(axis=1)]\n",
    "\n",
    "vectorizer = CountVectorizer()\n",
    "X_train = vectorizer.fit_transform(valid_train.mod_descriptions)\n",
    "y_train = valid_train['genre_1']\n",
    "\n",
    "classifier = MultinomialNB()\n",
    "classifier.fit(X_train, y_train)"
   ]
  },
  {
   "cell_type": "markdown",
   "id": "f4b6d416",
   "metadata": {},
   "source": [
    "## Read in Validation Data"
   ]
  },
  {
   "cell_type": "code",
   "execution_count": 4,
   "id": "7421b4c4",
   "metadata": {
    "scrolled": true
   },
   "outputs": [
    {
     "data": {
      "text/html": [
       "<div>\n",
       "<style scoped>\n",
       "    .dataframe tbody tr th:only-of-type {\n",
       "        vertical-align: middle;\n",
       "    }\n",
       "\n",
       "    .dataframe tbody tr th {\n",
       "        vertical-align: top;\n",
       "    }\n",
       "\n",
       "    .dataframe thead th {\n",
       "        text-align: right;\n",
       "    }\n",
       "</style>\n",
       "<table border=\"1\" class=\"dataframe\">\n",
       "  <thead>\n",
       "    <tr style=\"text-align: right;\">\n",
       "      <th></th>\n",
       "      <th>is_english_description</th>\n",
       "      <th>cleaned_descriptions</th>\n",
       "      <th>genre_1</th>\n",
       "      <th>votes_1</th>\n",
       "      <th>genre_2</th>\n",
       "      <th>votes_2</th>\n",
       "      <th>genre_3</th>\n",
       "      <th>votes_3</th>\n",
       "      <th>genre_4</th>\n",
       "      <th>votes_4</th>\n",
       "      <th>...</th>\n",
       "      <th>genre_16</th>\n",
       "      <th>votes_16</th>\n",
       "      <th>genre_17</th>\n",
       "      <th>votes_17</th>\n",
       "      <th>genre_18</th>\n",
       "      <th>votes_18</th>\n",
       "      <th>genre_19</th>\n",
       "      <th>votes_19</th>\n",
       "      <th>genre_20</th>\n",
       "      <th>votes_20</th>\n",
       "    </tr>\n",
       "    <tr>\n",
       "      <th>index</th>\n",
       "      <th></th>\n",
       "      <th></th>\n",
       "      <th></th>\n",
       "      <th></th>\n",
       "      <th></th>\n",
       "      <th></th>\n",
       "      <th></th>\n",
       "      <th></th>\n",
       "      <th></th>\n",
       "      <th></th>\n",
       "      <th></th>\n",
       "      <th></th>\n",
       "      <th></th>\n",
       "      <th></th>\n",
       "      <th></th>\n",
       "      <th></th>\n",
       "      <th></th>\n",
       "      <th></th>\n",
       "      <th></th>\n",
       "      <th></th>\n",
       "      <th></th>\n",
       "    </tr>\n",
       "  </thead>\n",
       "  <tbody>\n",
       "    <tr>\n",
       "      <th>0</th>\n",
       "      <td>True</td>\n",
       "      <td>[1968, lynni, young, white, woman, development...</td>\n",
       "      <td>Romance</td>\n",
       "      <td>467.0</td>\n",
       "      <td>Historical</td>\n",
       "      <td>467.0</td>\n",
       "      <td>Fiction</td>\n",
       "      <td>467.0</td>\n",
       "      <td>Adult Fiction</td>\n",
       "      <td>467.0</td>\n",
       "      <td>...</td>\n",
       "      <td>NaN</td>\n",
       "      <td>NaN</td>\n",
       "      <td>NaN</td>\n",
       "      <td>NaN</td>\n",
       "      <td>NaN</td>\n",
       "      <td>NaN</td>\n",
       "      <td>NaN</td>\n",
       "      <td>NaN</td>\n",
       "      <td>NaN</td>\n",
       "      <td>NaN</td>\n",
       "    </tr>\n",
       "    <tr>\n",
       "      <th>1</th>\n",
       "      <td>True</td>\n",
       "      <td>[miranda, wake, alon, park, bench, memori, pan...</td>\n",
       "      <td>Young Adult</td>\n",
       "      <td>276.0</td>\n",
       "      <td>Science Fiction</td>\n",
       "      <td>276.0</td>\n",
       "      <td>Fantasy</td>\n",
       "      <td>276.0</td>\n",
       "      <td>NaN</td>\n",
       "      <td>NaN</td>\n",
       "      <td>...</td>\n",
       "      <td>NaN</td>\n",
       "      <td>NaN</td>\n",
       "      <td>NaN</td>\n",
       "      <td>NaN</td>\n",
       "      <td>NaN</td>\n",
       "      <td>NaN</td>\n",
       "      <td>NaN</td>\n",
       "      <td>NaN</td>\n",
       "      <td>NaN</td>\n",
       "      <td>NaN</td>\n",
       "    </tr>\n",
       "    <tr>\n",
       "      <th>2</th>\n",
       "      <td>True</td>\n",
       "      <td>[âmotherâ, dayâ, part, one, talia, al, g...</td>\n",
       "      <td>Superheroes</td>\n",
       "      <td>13.0</td>\n",
       "      <td>Sequential Art</td>\n",
       "      <td>13.0</td>\n",
       "      <td>Comics</td>\n",
       "      <td>13.0</td>\n",
       "      <td>NaN</td>\n",
       "      <td>NaN</td>\n",
       "      <td>...</td>\n",
       "      <td>NaN</td>\n",
       "      <td>NaN</td>\n",
       "      <td>NaN</td>\n",
       "      <td>NaN</td>\n",
       "      <td>NaN</td>\n",
       "      <td>NaN</td>\n",
       "      <td>NaN</td>\n",
       "      <td>NaN</td>\n",
       "      <td>NaN</td>\n",
       "      <td>NaN</td>\n",
       "    </tr>\n",
       "    <tr>\n",
       "      <th>3</th>\n",
       "      <td>True</td>\n",
       "      <td>[asin, b00dh4ssy6, ha, move, latest, edit, onc...</td>\n",
       "      <td>NaN</td>\n",
       "      <td>NaN</td>\n",
       "      <td>NaN</td>\n",
       "      <td>NaN</td>\n",
       "      <td>NaN</td>\n",
       "      <td>NaN</td>\n",
       "      <td>NaN</td>\n",
       "      <td>NaN</td>\n",
       "      <td>...</td>\n",
       "      <td>NaN</td>\n",
       "      <td>NaN</td>\n",
       "      <td>NaN</td>\n",
       "      <td>NaN</td>\n",
       "      <td>NaN</td>\n",
       "      <td>NaN</td>\n",
       "      <td>NaN</td>\n",
       "      <td>NaN</td>\n",
       "      <td>NaN</td>\n",
       "      <td>NaN</td>\n",
       "    </tr>\n",
       "    <tr>\n",
       "      <th>4</th>\n",
       "      <td>True</td>\n",
       "      <td>[ladi, evelynâ, life, chang, mother, die, st...</td>\n",
       "      <td>NaN</td>\n",
       "      <td>NaN</td>\n",
       "      <td>NaN</td>\n",
       "      <td>NaN</td>\n",
       "      <td>NaN</td>\n",
       "      <td>NaN</td>\n",
       "      <td>NaN</td>\n",
       "      <td>NaN</td>\n",
       "      <td>...</td>\n",
       "      <td>NaN</td>\n",
       "      <td>NaN</td>\n",
       "      <td>NaN</td>\n",
       "      <td>NaN</td>\n",
       "      <td>NaN</td>\n",
       "      <td>NaN</td>\n",
       "      <td>NaN</td>\n",
       "      <td>NaN</td>\n",
       "      <td>NaN</td>\n",
       "      <td>NaN</td>\n",
       "    </tr>\n",
       "  </tbody>\n",
       "</table>\n",
       "<p>5 rows × 42 columns</p>\n",
       "</div>"
      ],
      "text/plain": [
       "       is_english_description  \\\n",
       "index                           \n",
       "0                        True   \n",
       "1                        True   \n",
       "2                        True   \n",
       "3                        True   \n",
       "4                        True   \n",
       "\n",
       "                                    cleaned_descriptions      genre_1  \\\n",
       "index                                                                   \n",
       "0      [1968, lynni, young, white, woman, development...      Romance   \n",
       "1      [miranda, wake, alon, park, bench, memori, pan...  Young Adult   \n",
       "2      [âmotherâ, dayâ, part, one, talia, al, g...  Superheroes   \n",
       "3      [asin, b00dh4ssy6, ha, move, latest, edit, onc...          NaN   \n",
       "4      [ladi, evelynâ, life, chang, mother, die, st...          NaN   \n",
       "\n",
       "       votes_1          genre_2  votes_2  genre_3  votes_3        genre_4  \\\n",
       "index                                                                       \n",
       "0        467.0       Historical    467.0  Fiction    467.0  Adult Fiction   \n",
       "1        276.0  Science Fiction    276.0  Fantasy    276.0            NaN   \n",
       "2         13.0   Sequential Art     13.0   Comics     13.0            NaN   \n",
       "3          NaN              NaN      NaN      NaN      NaN            NaN   \n",
       "4          NaN              NaN      NaN      NaN      NaN            NaN   \n",
       "\n",
       "       votes_4  ... genre_16  votes_16 genre_17  votes_17 genre_18  votes_18  \\\n",
       "index           ...                                                            \n",
       "0        467.0  ...      NaN       NaN      NaN       NaN      NaN       NaN   \n",
       "1          NaN  ...      NaN       NaN      NaN       NaN      NaN       NaN   \n",
       "2          NaN  ...      NaN       NaN      NaN       NaN      NaN       NaN   \n",
       "3          NaN  ...      NaN       NaN      NaN       NaN      NaN       NaN   \n",
       "4          NaN  ...      NaN       NaN      NaN       NaN      NaN       NaN   \n",
       "\n",
       "      genre_19  votes_19 genre_20  votes_20  \n",
       "index                                        \n",
       "0          NaN       NaN      NaN       NaN  \n",
       "1          NaN       NaN      NaN       NaN  \n",
       "2          NaN       NaN      NaN       NaN  \n",
       "3          NaN       NaN      NaN       NaN  \n",
       "4          NaN       NaN      NaN       NaN  \n",
       "\n",
       "[5 rows x 42 columns]"
      ]
     },
     "execution_count": 4,
     "metadata": {},
     "output_type": "execute_result"
    }
   ],
   "source": [
    "val = pd.read_csv('./data/processed/goodreads_books_val_processed.csv',\n",
    "                   converters={'cleaned_descriptions':ast.literal_eval},\n",
    "                   index_col=0)\n",
    "val.head()"
   ]
  },
  {
   "cell_type": "markdown",
   "id": "a93ef9ff",
   "metadata": {},
   "source": [
    "## Make Similar Transforms and Score"
   ]
  },
  {
   "cell_type": "code",
   "execution_count": 5,
   "id": "b8ac5b90",
   "metadata": {},
   "outputs": [],
   "source": [
    "# temp_descriptions = cleaned_descriptions_val.sample(n=100)\n",
    "y_val = []\n",
    "\n",
    "for rownum, row in val.filter(like='genre').iterrows():\n",
    "    y_val.append(row[row.notnull()].to_list())\n",
    "\n",
    "val_descriptions = val['cleaned_descriptions'].apply(lambda x: ' '.join(x))\n",
    "X_val = vectorizer.transform(val_descriptions)"
   ]
  },
  {
   "cell_type": "code",
   "execution_count": 8,
   "id": "9f6bbd9e",
   "metadata": {},
   "outputs": [
    {
     "data": {
      "text/plain": [
       "<reversed at 0x7f604a299438>"
      ]
     },
     "execution_count": 8,
     "metadata": {},
     "output_type": "execute_result"
    }
   ],
   "source": [
    "np.sort(classifier.predict_proba(X_val[0]))"
   ]
  },
  {
   "cell_type": "code",
   "execution_count": 16,
   "id": "9958f120",
   "metadata": {},
   "outputs": [
    {
     "data": {
      "text/plain": [
       "array(['Childrens', 'Animals', 'Christian Fiction'], dtype='<U28')"
      ]
     },
     "execution_count": 16,
     "metadata": {},
     "output_type": "execute_result"
    }
   ],
   "source": [
    "classifier.classes_[:3][np.argsort([2,3,1])[::-1]]"
   ]
  },
  {
   "cell_type": "code",
   "execution_count": null,
   "id": "dccdb3de",
   "metadata": {},
   "outputs": [],
   "source": [
    "rbo_list = []\n",
    "predictions = []\n",
    "p = 0.75\n",
    "\n",
    "for genre_list, description in tqdm(zip(val_genres, val_descriptions), total=len(val_genres)):\n",
    "    result = classifier.predict_proba(description)\n",
    "    predicted_genres = classifier.classes_[np.argsort(result)[::-1]]\n",
    "    if len(predicted_genres)>0 and len(genre_list)>0:\n",
    "        predictions.append(predicted_genres)\n",
    "        rbo_list.append(rbo(predicted_genres, genre_list, p))"
   ]
  },
  {
   "cell_type": "markdown",
   "id": "e2004a2e",
   "metadata": {},
   "source": [
    "## Old Scoring Below"
   ]
  },
  {
   "cell_type": "code",
   "execution_count": 5,
   "id": "de1a4d3d",
   "metadata": {},
   "outputs": [],
   "source": [
    "val['mod_descriptions'] = val['cleaned_descriptions'].apply(lambda x: ' '.join(x))\n",
    "valid_val = val[val[['mod_descriptions', 'genre_1']].notnull().all(axis=1)]\n",
    "X_val = vectorizer.transform(valid_val.mod_descriptions)\n",
    "y_val = valid_val[['genre_1']]"
   ]
  },
  {
   "cell_type": "code",
   "execution_count": 6,
   "id": "d619ec3e",
   "metadata": {},
   "outputs": [
    {
     "data": {
      "text/plain": [
       "0.4371867979955072"
      ]
     },
     "execution_count": 6,
     "metadata": {},
     "output_type": "execute_result"
    }
   ],
   "source": [
    "classifier.score(X_val,y_val)"
   ]
  },
  {
   "cell_type": "markdown",
   "id": "f23d049f",
   "metadata": {},
   "source": [
    "The score above is actually not bad considering how overlapping the genres are... It could probably be greatly improved just by making genres more distinct."
   ]
  }
 ],
 "metadata": {
  "kernelspec": {
   "display_name": "Python 3 (ipykernel)",
   "language": "python",
   "name": "python3"
  },
  "language_info": {
   "codemirror_mode": {
    "name": "ipython",
    "version": 3
   },
   "file_extension": ".py",
   "mimetype": "text/x-python",
   "name": "python",
   "nbconvert_exporter": "python",
   "pygments_lexer": "ipython3",
   "version": "3.7.1"
  }
 },
 "nbformat": 4,
 "nbformat_minor": 5
}
