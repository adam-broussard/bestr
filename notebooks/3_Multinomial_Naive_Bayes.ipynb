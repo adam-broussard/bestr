{
 "cells": [
  {
   "cell_type": "code",
   "execution_count": 1,
   "id": "8506c4db",
   "metadata": {},
   "outputs": [],
   "source": [
    "from sklearn.naive_bayes import MultinomialNB\n",
    "from sklearn.feature_extraction.text import CountVectorizer\n",
    "import numpy as np\n",
    "import pandas as pd\n",
    "import ast"
   ]
  },
  {
   "cell_type": "markdown",
   "id": "0c63db02",
   "metadata": {},
   "source": [
    "# Training and Testing Multinomial Naive Bayes Classifier"
   ]
  },
  {
   "cell_type": "markdown",
   "id": "42a5f4b7",
   "metadata": {},
   "source": [
    "## Reading in Training Data and Simple Transforms"
   ]
  },
  {
   "cell_type": "code",
   "execution_count": 2,
   "id": "0c02425c",
   "metadata": {},
   "outputs": [
    {
     "data": {
      "text/html": [
       "<div>\n",
       "<style scoped>\n",
       "    .dataframe tbody tr th:only-of-type {\n",
       "        vertical-align: middle;\n",
       "    }\n",
       "\n",
       "    .dataframe tbody tr th {\n",
       "        vertical-align: top;\n",
       "    }\n",
       "\n",
       "    .dataframe thead th {\n",
       "        text-align: right;\n",
       "    }\n",
       "</style>\n",
       "<table border=\"1\" class=\"dataframe\">\n",
       "  <thead>\n",
       "    <tr style=\"text-align: right;\">\n",
       "      <th></th>\n",
       "      <th>is_english_description</th>\n",
       "      <th>cleaned_descriptions</th>\n",
       "      <th>genre_1</th>\n",
       "      <th>votes_1</th>\n",
       "    </tr>\n",
       "    <tr>\n",
       "      <th>index</th>\n",
       "      <th></th>\n",
       "      <th></th>\n",
       "      <th></th>\n",
       "      <th></th>\n",
       "    </tr>\n",
       "  </thead>\n",
       "  <tbody>\n",
       "    <tr>\n",
       "      <th>0</th>\n",
       "      <td>True</td>\n",
       "      <td>[filmmak, chase, ryan, keith, ellison, complet...</td>\n",
       "      <td>Fiction</td>\n",
       "      <td>174.0</td>\n",
       "    </tr>\n",
       "    <tr>\n",
       "      <th>2</th>\n",
       "      <td>True</td>\n",
       "      <td>[incred, nation, bestsel, chang, peopl, live, ...</td>\n",
       "      <td>Self Help</td>\n",
       "      <td>1162.0</td>\n",
       "    </tr>\n",
       "    <tr>\n",
       "      <th>3</th>\n",
       "      <td>True</td>\n",
       "      <td>[high, spirit, intellig, good, look, abigail, ...</td>\n",
       "      <td>Romance</td>\n",
       "      <td>550.0</td>\n",
       "    </tr>\n",
       "    <tr>\n",
       "      <th>4</th>\n",
       "      <td>True</td>\n",
       "      <td>[news, went, sylvest, rayn, eleg, impecc, duke...</td>\n",
       "      <td>Romance</td>\n",
       "      <td>725.0</td>\n",
       "    </tr>\n",
       "    <tr>\n",
       "      <th>5</th>\n",
       "      <td>True</td>\n",
       "      <td>[major, motion, pictur, star, nicola, cage, di...</td>\n",
       "      <td>Gothic</td>\n",
       "      <td>106.0</td>\n",
       "    </tr>\n",
       "  </tbody>\n",
       "</table>\n",
       "</div>"
      ],
      "text/plain": [
       "       is_english_description  \\\n",
       "index                           \n",
       "0                        True   \n",
       "2                        True   \n",
       "3                        True   \n",
       "4                        True   \n",
       "5                        True   \n",
       "\n",
       "                                    cleaned_descriptions    genre_1  votes_1  \n",
       "index                                                                         \n",
       "0      [filmmak, chase, ryan, keith, ellison, complet...    Fiction    174.0  \n",
       "2      [incred, nation, bestsel, chang, peopl, live, ...  Self Help   1162.0  \n",
       "3      [high, spirit, intellig, good, look, abigail, ...    Romance    550.0  \n",
       "4      [news, went, sylvest, rayn, eleg, impecc, duke...    Romance    725.0  \n",
       "5      [major, motion, pictur, star, nicola, cage, di...     Gothic    106.0  "
      ]
     },
     "execution_count": 2,
     "metadata": {},
     "output_type": "execute_result"
    }
   ],
   "source": [
    "train = pd.read_csv('./data/processed/goodreads_books_train_processed.csv',\n",
    "                    converters={'cleaned_descriptions':ast.literal_eval},\n",
    "                    index_col=0)\n",
    "train.head()"
   ]
  },
  {
   "cell_type": "markdown",
   "id": "35ac3432",
   "metadata": {},
   "source": [
    "Scikit-learn has the ability to do all of the text cleaning we have done already EXCEPT stemming, so I'll use our cleaned descriptions after stitching them back together such that each description is a string.\n",
    "\n",
    "We are passing counts of unique words as features, meaning that the dimensions of `X_train` are `(number of descriptions, number of unique words)`.  The targets in `y_train` are just strings representing each genre."
   ]
  },
  {
   "cell_type": "code",
   "execution_count": 3,
   "id": "cead36f4",
   "metadata": {},
   "outputs": [
    {
     "data": {
      "text/plain": [
       "MultinomialNB()"
      ]
     },
     "execution_count": 3,
     "metadata": {},
     "output_type": "execute_result"
    }
   ],
   "source": [
    "train['mod_descriptions'] = train['cleaned_descriptions'].apply(lambda x: ' '.join(x))\n",
    "\n",
    "valid_train = train[train[['mod_descriptions', 'genre_1']].notnull().all(axis=1)]\n",
    "\n",
    "vectorizer = CountVectorizer()\n",
    "X_train = vectorizer.fit_transform(valid_train.mod_descriptions)\n",
    "y_train = valid_train['genre_1']\n",
    "\n",
    "classifier = MultinomialNB()\n",
    "classifier.fit(X_train, y_train)"
   ]
  },
  {
   "cell_type": "markdown",
   "id": "f4b6d416",
   "metadata": {},
   "source": [
    "## Read in Test Data"
   ]
  },
  {
   "cell_type": "code",
   "execution_count": 4,
   "id": "7421b4c4",
   "metadata": {
    "scrolled": true
   },
   "outputs": [
    {
     "data": {
      "text/html": [
       "<div>\n",
       "<style scoped>\n",
       "    .dataframe tbody tr th:only-of-type {\n",
       "        vertical-align: middle;\n",
       "    }\n",
       "\n",
       "    .dataframe tbody tr th {\n",
       "        vertical-align: top;\n",
       "    }\n",
       "\n",
       "    .dataframe thead th {\n",
       "        text-align: right;\n",
       "    }\n",
       "</style>\n",
       "<table border=\"1\" class=\"dataframe\">\n",
       "  <thead>\n",
       "    <tr style=\"text-align: right;\">\n",
       "      <th></th>\n",
       "      <th>is_english_description</th>\n",
       "      <th>cleaned_descriptions</th>\n",
       "      <th>genre_1</th>\n",
       "      <th>votes_1</th>\n",
       "    </tr>\n",
       "    <tr>\n",
       "      <th>index</th>\n",
       "      <th></th>\n",
       "      <th></th>\n",
       "      <th></th>\n",
       "      <th></th>\n",
       "    </tr>\n",
       "  </thead>\n",
       "  <tbody>\n",
       "    <tr>\n",
       "      <th>0</th>\n",
       "      <td>True</td>\n",
       "      <td>[1968, lynni, young, white, woman, development...</td>\n",
       "      <td>Romance</td>\n",
       "      <td>467.0</td>\n",
       "    </tr>\n",
       "    <tr>\n",
       "      <th>1</th>\n",
       "      <td>True</td>\n",
       "      <td>[miranda, wake, alon, park, bench, memori, pan...</td>\n",
       "      <td>Young Adult</td>\n",
       "      <td>276.0</td>\n",
       "    </tr>\n",
       "    <tr>\n",
       "      <th>2</th>\n",
       "      <td>True</td>\n",
       "      <td>[âmotherâ, dayâ, part, one, talia, al, g...</td>\n",
       "      <td>Superheroes</td>\n",
       "      <td>13.0</td>\n",
       "    </tr>\n",
       "    <tr>\n",
       "      <th>3</th>\n",
       "      <td>True</td>\n",
       "      <td>[asin, b00dh4ssy6, ha, move, latest, edit, onc...</td>\n",
       "      <td>NaN</td>\n",
       "      <td>NaN</td>\n",
       "    </tr>\n",
       "    <tr>\n",
       "      <th>4</th>\n",
       "      <td>True</td>\n",
       "      <td>[ladi, evelynâ, life, chang, mother, die, st...</td>\n",
       "      <td>NaN</td>\n",
       "      <td>NaN</td>\n",
       "    </tr>\n",
       "  </tbody>\n",
       "</table>\n",
       "</div>"
      ],
      "text/plain": [
       "       is_english_description  \\\n",
       "index                           \n",
       "0                        True   \n",
       "1                        True   \n",
       "2                        True   \n",
       "3                        True   \n",
       "4                        True   \n",
       "\n",
       "                                    cleaned_descriptions      genre_1  votes_1  \n",
       "index                                                                           \n",
       "0      [1968, lynni, young, white, woman, development...      Romance    467.0  \n",
       "1      [miranda, wake, alon, park, bench, memori, pan...  Young Adult    276.0  \n",
       "2      [âmotherâ, dayâ, part, one, talia, al, g...  Superheroes     13.0  \n",
       "3      [asin, b00dh4ssy6, ha, move, latest, edit, onc...          NaN      NaN  \n",
       "4      [ladi, evelynâ, life, chang, mother, die, st...          NaN      NaN  "
      ]
     },
     "execution_count": 4,
     "metadata": {},
     "output_type": "execute_result"
    }
   ],
   "source": [
    "val = pd.read_csv('./data/processed/goodreads_books_val_processed.csv',\n",
    "                   converters={'cleaned_descriptions':ast.literal_eval},\n",
    "                   index_col=0)\n",
    "val.head()"
   ]
  },
  {
   "cell_type": "markdown",
   "id": "a93ef9ff",
   "metadata": {},
   "source": [
    "## Make Similar Transforms and Score"
   ]
  },
  {
   "cell_type": "code",
   "execution_count": 5,
   "id": "de1a4d3d",
   "metadata": {},
   "outputs": [],
   "source": [
    "val['mod_descriptions'] = val['cleaned_descriptions'].apply(lambda x: ' '.join(x))\n",
    "valid_val = val[val[['mod_descriptions', 'genre_1']].notnull().all(axis=1)]\n",
    "X_val = vectorizer.transform(valid_val.mod_descriptions)\n",
    "y_val = valid_val[['genre_1']]"
   ]
  },
  {
   "cell_type": "code",
   "execution_count": 6,
   "id": "d619ec3e",
   "metadata": {},
   "outputs": [
    {
     "data": {
      "text/plain": [
       "0.4371867979955072"
      ]
     },
     "execution_count": 6,
     "metadata": {},
     "output_type": "execute_result"
    }
   ],
   "source": [
    "classifier.score(X_val,y_val)"
   ]
  },
  {
   "cell_type": "markdown",
   "id": "f23d049f",
   "metadata": {},
   "source": [
    "The score above is actually not bad considering how overlapping the genres are... It could probably be greatly improved just by making genres more distinct."
   ]
  }
 ],
 "metadata": {
  "kernelspec": {
   "display_name": "Python 3 (ipykernel)",
   "language": "python",
   "name": "python3"
  },
  "language_info": {
   "codemirror_mode": {
    "name": "ipython",
    "version": 3
   },
   "file_extension": ".py",
   "mimetype": "text/x-python",
   "name": "python",
   "nbconvert_exporter": "python",
   "pygments_lexer": "ipython3",
   "version": "3.7.1"
  }
 },
 "nbformat": 4,
 "nbformat_minor": 5
}
