{
 "cells": [
  {
   "cell_type": "code",
   "execution_count": 1,
   "id": "559fa3e7",
   "metadata": {},
   "outputs": [],
   "source": [
    "from bestreads.models import cnn\n",
    "import pandas as pd\n",
    "from tensorflow import keras\n",
    "import tensorflow as tf"
   ]
  },
  {
   "cell_type": "markdown",
   "id": "b5149aca",
   "metadata": {},
   "source": [
    "# Generate Training and Test Dataset Split"
   ]
  },
  {
   "cell_type": "code",
   "execution_count": 2,
   "id": "46a7322d",
   "metadata": {},
   "outputs": [
    {
     "name": "stderr",
     "output_type": "stream",
     "text": [
      " 26%|█████████▏                          | 13407/52199 [00:34<01:32, 421.11it/s]"
     ]
    },
    {
     "name": "stdout",
     "output_type": "stream",
     "text": [
      "./data/covers/12136160.jpg unreadable.\n"
     ]
    },
    {
     "name": "stderr",
     "output_type": "stream",
     "text": [
      " 63%|██████████████████████▌             | 32742/52199 [01:22<00:52, 371.42it/s]"
     ]
    },
    {
     "name": "stdout",
     "output_type": "stream",
     "text": [
      "./data/covers/00828045.jpg unreadable.\n"
     ]
    },
    {
     "name": "stderr",
     "output_type": "stream",
     "text": [
      " 79%|████████████████████████████▎       | 41102/52199 [01:45<00:28, 387.54it/s]"
     ]
    },
    {
     "name": "stdout",
     "output_type": "stream",
     "text": [
      "./data/covers/01059928.jpg unreadable.\n"
     ]
    },
    {
     "name": "stderr",
     "output_type": "stream",
     "text": [
      "100%|████████████████████████████████████| 52199/52199 [02:19<00:00, 373.81it/s]\n",
      "/home/adam/miniconda3/envs/Research/lib/python3.7/site-packages/pandas/util/_decorators.py:311: SettingWithCopyWarning: \n",
      "A value is trying to be set on a copy of a slice from a DataFrame\n",
      "\n",
      "See the caveats in the documentation: https://pandas.pydata.org/pandas-docs/stable/user_guide/indexing.html#returning-a-view-versus-a-copy\n",
      "  return func(*args, **kwargs)\n"
     ]
    }
   ],
   "source": [
    "data = pd.read_csv('./data/goodreads_books.csv')\n",
    "\n",
    "cnn.split_train_val_test_data(data, test_frac=0.2, val_frac=0.2)"
   ]
  },
  {
   "cell_type": "markdown",
   "id": "fe0640d9",
   "metadata": {},
   "source": [
    "## Create the Model"
   ]
  },
  {
   "cell_type": "code",
   "execution_count": 3,
   "id": "a39237b2",
   "metadata": {},
   "outputs": [
    {
     "name": "stdout",
     "output_type": "stream",
     "text": [
      "Model: \"sequential\"\n",
      "_________________________________________________________________\n",
      "Layer (type)                 Output Shape              Param #   \n",
      "=================================================================\n",
      "conv2d (Conv2D)              (None, 448, 298, 64)      1792      \n",
      "_________________________________________________________________\n",
      "max_pooling2d (MaxPooling2D) (None, 112, 74, 64)       0         \n",
      "_________________________________________________________________\n",
      "conv2d_1 (Conv2D)            (None, 110, 72, 64)       36928     \n",
      "_________________________________________________________________\n",
      "max_pooling2d_1 (MaxPooling2 (None, 27, 18, 64)        0         \n",
      "_________________________________________________________________\n",
      "conv2d_2 (Conv2D)            (None, 25, 16, 32)        18464     \n",
      "_________________________________________________________________\n",
      "flatten (Flatten)            (None, 12800)             0         \n",
      "_________________________________________________________________\n",
      "dense (Dense)                (None, 64)                819264    \n",
      "_________________________________________________________________\n",
      "dropout (Dropout)            (None, 64)                0         \n",
      "_________________________________________________________________\n",
      "dense_1 (Dense)              (None, 16)                1040      \n",
      "_________________________________________________________________\n",
      "dropout_1 (Dropout)          (None, 16)                0         \n",
      "_________________________________________________________________\n",
      "dense_2 (Dense)              (None, 1)                 17        \n",
      "_________________________________________________________________\n",
      "lambda (Lambda)              (None, 1)                 0         \n",
      "=================================================================\n",
      "Total params: 877,505\n",
      "Trainable params: 877,505\n",
      "Non-trainable params: 0\n",
      "_________________________________________________________________\n",
      "None\n"
     ]
    },
    {
     "name": "stderr",
     "output_type": "stream",
     "text": [
      "2022-05-27 11:59:06.747818: I tensorflow/compiler/jit/xla_cpu_device.cc:41] Not creating XLA devices, tf_xla_enable_xla_devices not set\n",
      "2022-05-27 11:59:06.747984: I tensorflow/core/platform/cpu_feature_guard.cc:142] This TensorFlow binary is optimized with oneAPI Deep Neural Network Library (oneDNN) to use the following CPU instructions in performance-critical operations:  SSE4.1 SSE4.2 AVX AVX2 FMA\n",
      "To enable them in other operations, rebuild TensorFlow with the appropriate compiler flags.\n",
      "2022-05-27 11:59:06.748665: I tensorflow/core/common_runtime/process_util.cc:146] Creating new thread pool with default inter op setting: 2. Tune using inter_op_parallelism_threads for best performance.\n"
     ]
    }
   ],
   "source": [
    "model = cnn.build_cnn()\n",
    "print(model.summary())"
   ]
  },
  {
   "cell_type": "markdown",
   "id": "910cf556",
   "metadata": {},
   "source": [
    "## Split Train and Validation Datasets"
   ]
  },
  {
   "cell_type": "code",
   "execution_count": 4,
   "id": "865859ec",
   "metadata": {},
   "outputs": [],
   "source": [
    "# Create the tensorflow datasets\n",
    "batch_size=32\n",
    "\n",
    "train_data = pd.read_csv('./data/processed/cnn/train_ratings.csv')\n",
    "val_data = pd.read_csv('./data/processed/cnn/val_ratings.csv')\n",
    "\n",
    "# Shuffle the data\n",
    "train_data = train_data.sample(frac=1, random_state=2974)\n",
    "val_data = val_data.sample(frac=1, random_state=2143)\n",
    "\n",
    "# Create Tensorflow datasets\n",
    "train_dataset = cnn.create_dataset(train_data.file_path,\n",
    "                                   train_data.average_rating,\n",
    "                                   batch_size=batch_size)\n",
    "val_dataset = cnn.create_dataset(val_data.file_path,\n",
    "                                 val_data.average_rating,\n",
    "                                 batch_size=batch_size)"
   ]
  },
  {
   "cell_type": "markdown",
   "id": "e97accbc",
   "metadata": {},
   "source": [
    "## Train Model"
   ]
  },
  {
   "cell_type": "code",
   "execution_count": null,
   "id": "481228cd",
   "metadata": {},
   "outputs": [],
   "source": [
    "print(tf.test.is_gpu_available())\n",
    "history = model.fit(train_dataset, epochs=10, verbose=1, validation_data=val_dataset)"
   ]
  },
  {
   "cell_type": "markdown",
   "id": "de6dcaa0",
   "metadata": {},
   "source": [
    "## Save model"
   ]
  },
  {
   "cell_type": "code",
   "execution_count": null,
   "id": "0699fd3a",
   "metadata": {},
   "outputs": [],
   "source": [
    "cnn.save_model(model, save_dir = './models/')"
   ]
  },
  {
   "cell_type": "code",
   "execution_count": null,
   "id": "f8bb4fbb",
   "metadata": {},
   "outputs": [],
   "source": [
    "from matplotlib import pyplot as plt\n",
    "\n",
    "plt.plot(history.history['loss'])\n",
    "plt.plot(history.history['val_loss'])"
   ]
  },
  {
   "cell_type": "code",
   "execution_count": null,
   "id": "17df1609",
   "metadata": {},
   "outputs": [],
   "source": []
  }
 ],
 "metadata": {
  "kernelspec": {
   "display_name": "Python 3 (ipykernel)",
   "language": "python",
   "name": "python3"
  },
  "language_info": {
   "codemirror_mode": {
    "name": "ipython",
    "version": 3
   },
   "file_extension": ".py",
   "mimetype": "text/x-python",
   "name": "python",
   "nbconvert_exporter": "python",
   "pygments_lexer": "ipython3",
   "version": "3.7.1"
  }
 },
 "nbformat": 4,
 "nbformat_minor": 5
}
