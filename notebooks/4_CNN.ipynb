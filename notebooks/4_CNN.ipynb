{
 "cells": [
  {
   "cell_type": "code",
   "execution_count": 2,
   "id": "559fa3e7",
   "metadata": {},
   "outputs": [],
   "source": [
    "from bestreads.models import cnn\n",
    "import pandas as pd"
   ]
  },
  {
   "cell_type": "markdown",
   "id": "b5149aca",
   "metadata": {},
   "source": [
    "# Generate Training and Test Dataset Split"
   ]
  },
  {
   "cell_type": "code",
   "execution_count": null,
   "id": "46a7322d",
   "metadata": {},
   "outputs": [],
   "source": [
    "data = pd.read_csv('./data/goodreads_books.csv')\n",
    "\n",
    "cnn.split_train_test_data(data, test_frac=0.2)"
   ]
  },
  {
   "cell_type": "markdown",
   "id": "fe0640d9",
   "metadata": {},
   "source": [
    "## Create the Model"
   ]
  },
  {
   "cell_type": "code",
   "execution_count": 3,
   "id": "a39237b2",
   "metadata": {},
   "outputs": [
    {
     "name": "stdout",
     "output_type": "stream",
     "text": [
      "Model: \"sequential\"\n",
      "_________________________________________________________________\n",
      "Layer (type)                 Output Shape              Param #   \n",
      "=================================================================\n",
      "conv2d (Conv2D)              (None, 498, 298, 64)      1792      \n",
      "_________________________________________________________________\n",
      "max_pooling2d (MaxPooling2D) (None, 124, 74, 64)       0         \n",
      "_________________________________________________________________\n",
      "conv2d_1 (Conv2D)            (None, 122, 72, 128)      73856     \n",
      "_________________________________________________________________\n",
      "conv2d_2 (Conv2D)            (None, 120, 70, 128)      147584    \n",
      "_________________________________________________________________\n",
      "max_pooling2d_1 (MaxPooling2 (None, 60, 35, 128)       0         \n",
      "_________________________________________________________________\n",
      "conv2d_3 (Conv2D)            (None, 58, 33, 64)        73792     \n",
      "_________________________________________________________________\n",
      "flatten (Flatten)            (None, 122496)            0         \n",
      "_________________________________________________________________\n",
      "dense (Dense)                (None, 64)                7839808   \n",
      "_________________________________________________________________\n",
      "dropout (Dropout)            (None, 64)                0         \n",
      "_________________________________________________________________\n",
      "dense_1 (Dense)              (None, 16)                1040      \n",
      "_________________________________________________________________\n",
      "dropout_1 (Dropout)          (None, 16)                0         \n",
      "_________________________________________________________________\n",
      "dense_2 (Dense)              (None, 1)                 17        \n",
      "_________________________________________________________________\n",
      "lambda (Lambda)              (None, 1)                 0         \n",
      "=================================================================\n",
      "Total params: 8,137,889\n",
      "Trainable params: 8,137,889\n",
      "Non-trainable params: 0\n",
      "_________________________________________________________________\n",
      "None\n"
     ]
    },
    {
     "name": "stderr",
     "output_type": "stream",
     "text": [
      "2022-05-13 13:35:39.269722: I tensorflow/compiler/jit/xla_cpu_device.cc:41] Not creating XLA devices, tf_xla_enable_xla_devices not set\n",
      "2022-05-13 13:35:39.269953: I tensorflow/core/platform/cpu_feature_guard.cc:142] This TensorFlow binary is optimized with oneAPI Deep Neural Network Library (oneDNN) to use the following CPU instructions in performance-critical operations:  SSE4.1 SSE4.2 AVX AVX2 FMA\n",
      "To enable them in other operations, rebuild TensorFlow with the appropriate compiler flags.\n",
      "2022-05-13 13:35:39.271055: I tensorflow/core/common_runtime/process_util.cc:146] Creating new thread pool with default inter op setting: 2. Tune using inter_op_parallelism_threads for best performance.\n"
     ]
    }
   ],
   "source": [
    "model = cnn.build_cnn()\n",
    "print(model.summary())"
   ]
  },
  {
   "cell_type": "markdown",
   "id": "910cf556",
   "metadata": {},
   "source": [
    "## Split Train and Validation Datasets"
   ]
  },
  {
   "cell_type": "code",
   "execution_count": 4,
   "id": "865859ec",
   "metadata": {},
   "outputs": [],
   "source": [
    "train_dataset, val_dataset = cnn.get_train_val_datasets(val_frac=0.15)"
   ]
  },
  {
   "cell_type": "markdown",
   "id": "e97accbc",
   "metadata": {},
   "source": [
    "## Train Model"
   ]
  },
  {
   "cell_type": "code",
   "execution_count": null,
   "id": "481228cd",
   "metadata": {},
   "outputs": [],
   "source": [
    "history = model.fit(train_dataset, epochs=50, verbose=1, validation_data=val_dataset)"
   ]
  },
  {
   "cell_type": "markdown",
   "id": "de6dcaa0",
   "metadata": {},
   "source": [
    "## Save model"
   ]
  },
  {
   "cell_type": "code",
   "execution_count": null,
   "id": "0699fd3a",
   "metadata": {},
   "outputs": [],
   "source": [
    "cnn.save_model(model, save_dir = './models/')"
   ]
  }
 ],
 "metadata": {
  "kernelspec": {
   "display_name": "Python 3 (ipykernel)",
   "language": "python",
   "name": "python3"
  },
  "language_info": {
   "codemirror_mode": {
    "name": "ipython",
    "version": 3
   },
   "file_extension": ".py",
   "mimetype": "text/x-python",
   "name": "python",
   "nbconvert_exporter": "python",
   "pygments_lexer": "ipython3",
   "version": "3.7.1"
  }
 },
 "nbformat": 4,
 "nbformat_minor": 5
}
