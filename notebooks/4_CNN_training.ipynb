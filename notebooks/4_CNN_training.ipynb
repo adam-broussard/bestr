{
 "cells": [
  {
   "cell_type": "code",
   "execution_count": 1,
   "id": "559fa3e7",
   "metadata": {},
   "outputs": [],
   "source": [
    "from bestreads.models import cnn\n",
    "import pandas as pd\n",
    "from tensorflow import keras\n",
    "import tensorflow as tf"
   ]
  },
  {
   "cell_type": "markdown",
   "id": "b5149aca",
   "metadata": {},
   "source": [
    "# Generate Training and Test Dataset Split"
   ]
  },
  {
   "cell_type": "code",
   "execution_count": null,
   "id": "46a7322d",
   "metadata": {},
   "outputs": [],
   "source": [
    "data = pd.read_csv('./data/goodreads_books.csv')\n",
    "\n",
    "cnn.split_train_test_data(data, test_frac=0.2)"
   ]
  },
  {
   "cell_type": "markdown",
   "id": "fe0640d9",
   "metadata": {},
   "source": [
    "## Create the Model"
   ]
  },
  {
   "cell_type": "code",
   "execution_count": 2,
   "id": "a39237b2",
   "metadata": {},
   "outputs": [
    {
     "name": "stdout",
     "output_type": "stream",
     "text": [
      "Model: \"sequential\"\n",
      "_________________________________________________________________\n",
      "Layer (type)                 Output Shape              Param #   \n",
      "=================================================================\n",
      "conv2d (Conv2D)              (None, 498, 298, 64)      1792      \n",
      "_________________________________________________________________\n",
      "max_pooling2d (MaxPooling2D) (None, 124, 74, 64)       0         \n",
      "_________________________________________________________________\n",
      "conv2d_1 (Conv2D)            (None, 122, 72, 128)      73856     \n",
      "_________________________________________________________________\n",
      "conv2d_2 (Conv2D)            (None, 120, 70, 128)      147584    \n",
      "_________________________________________________________________\n",
      "max_pooling2d_1 (MaxPooling2 (None, 60, 35, 128)       0         \n",
      "_________________________________________________________________\n",
      "conv2d_3 (Conv2D)            (None, 58, 33, 64)        73792     \n",
      "_________________________________________________________________\n",
      "flatten (Flatten)            (None, 122496)            0         \n",
      "_________________________________________________________________\n",
      "dense (Dense)                (None, 64)                7839808   \n",
      "_________________________________________________________________\n",
      "dropout (Dropout)            (None, 64)                0         \n",
      "_________________________________________________________________\n",
      "dense_1 (Dense)              (None, 16)                1040      \n",
      "_________________________________________________________________\n",
      "dropout_1 (Dropout)          (None, 16)                0         \n",
      "_________________________________________________________________\n",
      "dense_2 (Dense)              (None, 1)                 17        \n",
      "_________________________________________________________________\n",
      "lambda (Lambda)              (None, 1)                 0         \n",
      "=================================================================\n",
      "Total params: 8,137,889\n",
      "Trainable params: 8,137,889\n",
      "Non-trainable params: 0\n",
      "_________________________________________________________________\n",
      "None\n"
     ]
    }
   ],
   "source": [
    "model = cnn.build_cnn()\n",
    "print(model.summary())"
   ]
  },
  {
   "cell_type": "markdown",
   "id": "910cf556",
   "metadata": {},
   "source": [
    "## Split Train and Validation Datasets"
   ]
  },
  {
   "cell_type": "code",
   "execution_count": 3,
   "id": "865859ec",
   "metadata": {},
   "outputs": [
    {
     "name": "stdout",
     "output_type": "stream",
     "text": [
      "WARNING:tensorflow:Entity <function _parse at 0x0000018CB63C4A68> could not be transformed and will be executed as-is. Please report this to the AutoGraph team. When filing the bug, set the verbosity to 10 (on Linux, `export AUTOGRAPH_VERBOSITY=10`) and attach the full output. Cause: No module named 'tensorflow_core.estimator'\n",
      "WARNING: Entity <function _parse at 0x0000018CB63C4A68> could not be transformed and will be executed as-is. Please report this to the AutoGraph team. When filing the bug, set the verbosity to 10 (on Linux, `export AUTOGRAPH_VERBOSITY=10`) and attach the full output. Cause: No module named 'tensorflow_core.estimator'\n"
     ]
    }
   ],
   "source": [
    "train_dataset, val_dataset = cnn.get_train_val_datasets(val_frac=0.15)"
   ]
  },
  {
   "cell_type": "markdown",
   "id": "e97accbc",
   "metadata": {},
   "source": [
    "## Train Model"
   ]
  },
  {
   "cell_type": "code",
   "execution_count": 4,
   "id": "481228cd",
   "metadata": {},
   "outputs": [
    {
     "name": "stdout",
     "output_type": "stream",
     "text": [
      "True\n",
      "Epoch 1/10\n",
      "WARNING:tensorflow:Entity <function Function._initialize_uninitialized_variables.<locals>.initialize_variables at 0x0000018E7323E4C8> could not be transformed and will be executed as-is. Please report this to the AutoGraph team. When filing the bug, set the verbosity to 10 (on Linux, `export AUTOGRAPH_VERBOSITY=10`) and attach the full output. Cause: No module named 'tensorflow_core.estimator'\n",
      "WARNING: Entity <function Function._initialize_uninitialized_variables.<locals>.initialize_variables at 0x0000018E7323E4C8> could not be transformed and will be executed as-is. Please report this to the AutoGraph team. When filing the bug, set the verbosity to 10 (on Linux, `export AUTOGRAPH_VERBOSITY=10`) and attach the full output. Cause: No module named 'tensorflow_core.estimator'\n",
      "934/934 [==============================] - 486s 520ms/step - loss: 0.3009 - val_loss: 0.0000e+00\n",
      "Epoch 2/10\n",
      "934/934 [==============================] - 233s 249ms/step - loss: 0.1305 - val_loss: 0.0817\n",
      "Epoch 3/10\n",
      "934/934 [==============================] - 229s 245ms/step - loss: 0.0988 - val_loss: 0.0815\n",
      "Epoch 4/10\n",
      "934/934 [==============================] - 233s 249ms/step - loss: 0.0860 - val_loss: 0.0812\n",
      "Epoch 5/10\n",
      "934/934 [==============================] - 206s 220ms/step - loss: 0.0821 - val_loss: 0.0813\n",
      "Epoch 6/10\n",
      "934/934 [==============================] - 217s 232ms/step - loss: 0.0810 - val_loss: 0.0812\n",
      "Epoch 7/10\n",
      "934/934 [==============================] - 213s 228ms/step - loss: 0.0807 - val_loss: 0.0811\n",
      "Epoch 8/10\n",
      "934/934 [==============================] - 221s 236ms/step - loss: 0.0807 - val_loss: 0.0812\n",
      "Epoch 9/10\n",
      "934/934 [==============================] - 218s 233ms/step - loss: 0.0806 - val_loss: 0.0812\n",
      "Epoch 10/10\n",
      "934/934 [==============================] - 210s 225ms/step - loss: 0.0806 - val_loss: 0.0812\n"
     ]
    }
   ],
   "source": [
    "print(tf.test.is_gpu_available())\n",
    "history = model.fit(train_dataset, epochs=10, verbose=1, validation_data=val_dataset)"
   ]
  },
  {
   "cell_type": "markdown",
   "id": "de6dcaa0",
   "metadata": {},
   "source": [
    "## Save model"
   ]
  },
  {
   "cell_type": "code",
   "execution_count": 8,
   "id": "0699fd3a",
   "metadata": {},
   "outputs": [
    {
     "name": "stdout",
     "output_type": "stream",
     "text": [
      "ERROR! Session/line number was not unique in database. History logging moved to new session 32\n"
     ]
    }
   ],
   "source": [
    "cnn.save_model(model, save_dir = './models/')"
   ]
  },
  {
   "cell_type": "code",
   "execution_count": 7,
   "id": "f8bb4fbb",
   "metadata": {},
   "outputs": [
    {
     "name": "stdout",
     "output_type": "stream",
     "text": [
      "ERROR! Session/line number was not unique in database. History logging moved to new session 31\n"
     ]
    },
    {
     "data": {
      "text/plain": [
       "[<matplotlib.lines.Line2D at 0x18e7f648fc8>]"
      ]
     },
     "execution_count": 7,
     "metadata": {},
     "output_type": "execute_result"
    },
    {
     "data": {
      "image/png": "[encoded data removed]",
      "text/plain": [
       "<Figure size 432x288 with 1 Axes>"
      ]
     },
     "metadata": {
      "needs_background": "light"
     },
     "output_type": "display_data"
    }
   ],
   "source": [
    "from matplotlib import pyplot as plt\n",
    "\n",
    "plt.plot(history.history['loss'])\n",
    "plt.plot(history.history['val_loss'])"
   ]
  },
  {
   "cell_type": "code",
   "execution_count": null,
   "id": "17df1609",
   "metadata": {},
   "outputs": [],
   "source": []
  }
 ],
 "metadata": {
  "kernelspec": {
   "display_name": "Python 3 (ipykernel)",
   "language": "python",
   "name": "python3"
  },
  "language_info": {
   "codemirror_mode": {
    "name": "ipython",
    "version": 3
   },
   "file_extension": ".py",
   "mimetype": "text/x-python",
   "name": "python",
   "nbconvert_exporter": "python",
   "pygments_lexer": "ipython3",
   "version": "3.7.13"
  }
 },
 "nbformat": 4,
 "nbformat_minor": 5
}
