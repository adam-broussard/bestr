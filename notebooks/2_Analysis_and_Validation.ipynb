{
 "cells": [
  {
   "cell_type": "markdown",
   "id": "9c5889cc",
   "metadata": {},
   "source": [
    "# Reading in Results"
   ]
  },
  {
   "cell_type": "code",
   "execution_count": 23,
   "id": "f0212a3b",
   "metadata": {},
   "outputs": [],
   "source": [
    "import math\n",
    "from bestreads import text\n",
    "from bestreads.text.metrics import rbo\n",
    "import pandas as pd\n",
    "import numpy as np\n",
    "from tqdm import tqdm\n",
    "from matplotlib import pyplot as plt\n",
    "import matplotlib as mpl\n",
    "import matplotlib.patheffects as pe\n",
    "import seaborn as sbn\n",
    "\n",
    "sbn.set_style('whitegrid')\n",
    "\n",
    "data_dir = './data/processed/'\n",
    "processed_data_train = pd.read_csv(\n",
    "    data_dir + 'goodreads_books_train_processed.csv', index_col=0)\n",
    "processed_data_val = pd.read_csv(\n",
    "    data_dir + 'goodreads_books_val_processed.csv', index_col=0)\n",
    "tf_idf_table = pd.read_csv(\n",
    "    data_dir + 'tf_idf_table_train.csv', index_col=0)"
   ]
  },
  {
   "cell_type": "code",
   "execution_count": 2,
   "id": "d39de952",
   "metadata": {},
   "outputs": [],
   "source": [
    "genre_and_votes_val = processed_data_val[['genre_1', 'votes_1']]\n",
    "cleaned_descriptions_val = processed_data_val['cleaned_descriptions']"
   ]
  },
  {
   "cell_type": "code",
   "execution_count": 3,
   "id": "d00dec9c",
   "metadata": {},
   "outputs": [
    {
     "data": {
      "text/html": [
       "<div>\n",
       "<style scoped>\n",
       "    .dataframe tbody tr th:only-of-type {\n",
       "        vertical-align: middle;\n",
       "    }\n",
       "\n",
       "    .dataframe tbody tr th {\n",
       "        vertical-align: top;\n",
       "    }\n",
       "\n",
       "    .dataframe thead th {\n",
       "        text-align: right;\n",
       "    }\n",
       "</style>\n",
       "<table border=\"1\" class=\"dataframe\">\n",
       "  <thead>\n",
       "    <tr style=\"text-align: right;\">\n",
       "      <th></th>\n",
       "      <th>Speculative Fiction</th>\n",
       "      <th>Historical</th>\n",
       "      <th>Writing</th>\n",
       "      <th>Reference</th>\n",
       "      <th>War</th>\n",
       "      <th>Shapeshifters</th>\n",
       "      <th>Race</th>\n",
       "      <th>Plays</th>\n",
       "      <th>Horror</th>\n",
       "      <th>Holiday</th>\n",
       "      <th>...</th>\n",
       "      <th>Politics</th>\n",
       "      <th>Poetry</th>\n",
       "      <th>LGBT</th>\n",
       "      <th>Literature</th>\n",
       "      <th>Paranormal</th>\n",
       "      <th>Science Fiction</th>\n",
       "      <th>Romance</th>\n",
       "      <th>Fantasy</th>\n",
       "      <th>Space</th>\n",
       "      <th>Literary Fiction</th>\n",
       "    </tr>\n",
       "    <tr>\n",
       "      <th>word</th>\n",
       "      <th></th>\n",
       "      <th></th>\n",
       "      <th></th>\n",
       "      <th></th>\n",
       "      <th></th>\n",
       "      <th></th>\n",
       "      <th></th>\n",
       "      <th></th>\n",
       "      <th></th>\n",
       "      <th></th>\n",
       "      <th></th>\n",
       "      <th></th>\n",
       "      <th></th>\n",
       "      <th></th>\n",
       "      <th></th>\n",
       "      <th></th>\n",
       "      <th></th>\n",
       "      <th></th>\n",
       "      <th></th>\n",
       "      <th></th>\n",
       "      <th></th>\n",
       "    </tr>\n",
       "  </thead>\n",
       "  <tbody>\n",
       "    <tr>\n",
       "      <th>thi</th>\n",
       "      <td>0.000000</td>\n",
       "      <td>0.000000</td>\n",
       "      <td>0.000000</td>\n",
       "      <td>0.000000</td>\n",
       "      <td>0.000000</td>\n",
       "      <td>0.000000</td>\n",
       "      <td>0.000000</td>\n",
       "      <td>0.000000</td>\n",
       "      <td>0.000000</td>\n",
       "      <td>0.000000</td>\n",
       "      <td>...</td>\n",
       "      <td>0.000000</td>\n",
       "      <td>0.000000</td>\n",
       "      <td>0.000000</td>\n",
       "      <td>0.000000</td>\n",
       "      <td>0.000000</td>\n",
       "      <td>0.000000</td>\n",
       "      <td>0.000000</td>\n",
       "      <td>0.000000</td>\n",
       "      <td>0.000000</td>\n",
       "      <td>0.000000</td>\n",
       "    </tr>\n",
       "    <tr>\n",
       "      <th>futur</th>\n",
       "      <td>0.000277</td>\n",
       "      <td>0.000045</td>\n",
       "      <td>0.000029</td>\n",
       "      <td>0.000005</td>\n",
       "      <td>0.000038</td>\n",
       "      <td>0.000052</td>\n",
       "      <td>0.000017</td>\n",
       "      <td>0.000043</td>\n",
       "      <td>0.000014</td>\n",
       "      <td>0.000000</td>\n",
       "      <td>...</td>\n",
       "      <td>0.000054</td>\n",
       "      <td>0.000010</td>\n",
       "      <td>0.000028</td>\n",
       "      <td>0.000014</td>\n",
       "      <td>0.000006</td>\n",
       "      <td>0.000125</td>\n",
       "      <td>0.000063</td>\n",
       "      <td>0.000065</td>\n",
       "      <td>0.000108</td>\n",
       "      <td>0.000022</td>\n",
       "    </tr>\n",
       "    <tr>\n",
       "      <th>peopl</th>\n",
       "      <td>0.000064</td>\n",
       "      <td>0.000040</td>\n",
       "      <td>0.000030</td>\n",
       "      <td>0.000020</td>\n",
       "      <td>0.000029</td>\n",
       "      <td>0.000018</td>\n",
       "      <td>0.000059</td>\n",
       "      <td>0.000022</td>\n",
       "      <td>0.000046</td>\n",
       "      <td>0.000000</td>\n",
       "      <td>...</td>\n",
       "      <td>0.000040</td>\n",
       "      <td>0.000008</td>\n",
       "      <td>0.000023</td>\n",
       "      <td>0.000027</td>\n",
       "      <td>0.000012</td>\n",
       "      <td>0.000034</td>\n",
       "      <td>0.000022</td>\n",
       "      <td>0.000026</td>\n",
       "      <td>0.000028</td>\n",
       "      <td>0.000027</td>\n",
       "    </tr>\n",
       "    <tr>\n",
       "      <th>need</th>\n",
       "      <td>0.000059</td>\n",
       "      <td>0.000037</td>\n",
       "      <td>0.000044</td>\n",
       "      <td>0.000131</td>\n",
       "      <td>0.000075</td>\n",
       "      <td>0.000195</td>\n",
       "      <td>0.000012</td>\n",
       "      <td>0.000026</td>\n",
       "      <td>0.000085</td>\n",
       "      <td>0.000000</td>\n",
       "      <td>...</td>\n",
       "      <td>0.000073</td>\n",
       "      <td>0.000023</td>\n",
       "      <td>0.000131</td>\n",
       "      <td>0.000017</td>\n",
       "      <td>0.000079</td>\n",
       "      <td>0.000080</td>\n",
       "      <td>0.000156</td>\n",
       "      <td>0.000097</td>\n",
       "      <td>0.000047</td>\n",
       "      <td>0.000040</td>\n",
       "    </tr>\n",
       "    <tr>\n",
       "      <th>sleep</th>\n",
       "      <td>0.000193</td>\n",
       "      <td>0.000035</td>\n",
       "      <td>0.000036</td>\n",
       "      <td>0.000123</td>\n",
       "      <td>0.000050</td>\n",
       "      <td>0.000053</td>\n",
       "      <td>0.000000</td>\n",
       "      <td>0.000021</td>\n",
       "      <td>0.000124</td>\n",
       "      <td>0.000222</td>\n",
       "      <td>...</td>\n",
       "      <td>0.000000</td>\n",
       "      <td>0.000017</td>\n",
       "      <td>0.000000</td>\n",
       "      <td>0.000024</td>\n",
       "      <td>0.000054</td>\n",
       "      <td>0.000023</td>\n",
       "      <td>0.000040</td>\n",
       "      <td>0.000000</td>\n",
       "      <td>0.000085</td>\n",
       "      <td>0.000000</td>\n",
       "    </tr>\n",
       "  </tbody>\n",
       "</table>\n",
       "<p>5 rows × 52 columns</p>\n",
       "</div>"
      ],
      "text/plain": [
       "       Speculative Fiction  Historical   Writing  Reference       War  \\\n",
       "word                                                                    \n",
       "thi               0.000000    0.000000  0.000000   0.000000  0.000000   \n",
       "futur             0.000277    0.000045  0.000029   0.000005  0.000038   \n",
       "peopl             0.000064    0.000040  0.000030   0.000020  0.000029   \n",
       "need              0.000059    0.000037  0.000044   0.000131  0.000075   \n",
       "sleep             0.000193    0.000035  0.000036   0.000123  0.000050   \n",
       "\n",
       "       Shapeshifters      Race     Plays    Horror   Holiday  ...  Politics  \\\n",
       "word                                                          ...             \n",
       "thi         0.000000  0.000000  0.000000  0.000000  0.000000  ...  0.000000   \n",
       "futur       0.000052  0.000017  0.000043  0.000014  0.000000  ...  0.000054   \n",
       "peopl       0.000018  0.000059  0.000022  0.000046  0.000000  ...  0.000040   \n",
       "need        0.000195  0.000012  0.000026  0.000085  0.000000  ...  0.000073   \n",
       "sleep       0.000053  0.000000  0.000021  0.000124  0.000222  ...  0.000000   \n",
       "\n",
       "         Poetry      LGBT  Literature  Paranormal  Science Fiction   Romance  \\\n",
       "word                                                                           \n",
       "thi    0.000000  0.000000    0.000000    0.000000         0.000000  0.000000   \n",
       "futur  0.000010  0.000028    0.000014    0.000006         0.000125  0.000063   \n",
       "peopl  0.000008  0.000023    0.000027    0.000012         0.000034  0.000022   \n",
       "need   0.000023  0.000131    0.000017    0.000079         0.000080  0.000156   \n",
       "sleep  0.000017  0.000000    0.000024    0.000054         0.000023  0.000040   \n",
       "\n",
       "        Fantasy     Space  Literary Fiction  \n",
       "word                                         \n",
       "thi    0.000000  0.000000          0.000000  \n",
       "futur  0.000065  0.000108          0.000022  \n",
       "peopl  0.000026  0.000028          0.000027  \n",
       "need   0.000097  0.000047          0.000040  \n",
       "sleep  0.000000  0.000085          0.000000  \n",
       "\n",
       "[5 rows x 52 columns]"
      ]
     },
     "execution_count": 3,
     "metadata": {},
     "output_type": "execute_result"
    }
   ],
   "source": [
    "tf_idf_table.head()"
   ]
  },
  {
   "cell_type": "markdown",
   "id": "7ac82701",
   "metadata": {},
   "source": [
    "## Metrics\n",
    "\n",
    "We can plot what the weighting of the rank-biased order (RBO) evaluation metric cumulative weight looks like for different choices of the parameter p."
   ]
  },
  {
   "cell_type": "code",
   "execution_count": 3,
   "id": "1986cbac",
   "metadata": {},
   "outputs": [],
   "source": [
    "# This function is a hot mess, but it calculates the fraction of the total weight in the RBO\n",
    "# that is associated with the first d terms given a choice of 0 < p < 1.  Large values of p\n",
    "# will give more weight to terms lower down the list while smaller values weight the top\n",
    "# values more heavily.\n",
    "\n",
    "def rbo_weight(p, d):\n",
    "    def sum_series(p, d):\n",
    "        # tail recursive helper function\n",
    "        def helper(ret, p, d, i):\n",
    "            term = math.pow(p, i)/i\n",
    "            if d == i:\n",
    "                return ret + term\n",
    "            return helper(ret + term, p, d, i+1)\n",
    "        return helper(0, p, d, 1)\n",
    "\n",
    "    return (1 - math.pow(p, d-1) \n",
    "            + (((1-p)/p) * d *(np.log(1/(1-p))\n",
    "                               - sum_series(p, d-1))))"
   ]
  },
  {
   "cell_type": "code",
   "execution_count": 27,
   "id": "d7bfb109",
   "metadata": {},
   "outputs": [
    {
     "data": {
      "text/plain": [
       "Text(0, 0.5, 'Cumulative Weight')"
      ]
     },
     "execution_count": 27,
     "metadata": {},
     "output_type": "execute_result"
    },
    {
     "data": {
      "image/png": "[encoded data removed]",
      "text/plain": [
       "<Figure size 576x576 with 1 Axes>"
      ]
     },
     "metadata": {},
     "output_type": "display_data"
    }
   ],
   "source": [
    "fig = plt.figure(figsize = (8, 8))\n",
    "sp = fig.add_subplot(111)\n",
    "\n",
    "d_grid = np.arange(18)+2\n",
    "p_grid = np.arange(0.6, 0.95, 0.05)\n",
    "colors = [mpl.cm.inferno(int(place)) for place in np.linspace(0, mpl.cm.inferno.N, len(p_grid))]\n",
    "\n",
    "for p, color in zip(p_grid, colors):\n",
    "    weight_list = []\n",
    "    for d in d_grid:\n",
    "        weight_list.append(rbo_weight(p,d))\n",
    "    \n",
    "    sp.plot(d_grid, weight_list, color=color, \n",
    "            path_effects=[pe.Stroke(linewidth = 4, foreground = 'k'), pe.Normal()],\n",
    "            linewidth=2.5)\n",
    "\n",
    "sp.set_xlim(0, 20)\n",
    "sp.set_xlabel('Depth')\n",
    "sp.set_ylabel('Cumulative Weight')"
   ]
  },
  {
   "cell_type": "markdown",
   "id": "2b29b032",
   "metadata": {},
   "source": [
    "## Validation"
   ]
  },
  {
   "cell_type": "code",
   "execution_count": 9,
   "id": "4751c6f1",
   "metadata": {},
   "outputs": [
    {
     "ename": "NameError",
     "evalue": "name 'cleaned_descriptions_val' is not defined",
     "output_type": "error",
     "traceback": [
      "\u001b[0;31m---------------------------------------------------------------------------\u001b[0m",
      "\u001b[0;31mNameError\u001b[0m                                 Traceback (most recent call last)",
      "\u001b[0;32m/tmp/ipykernel_11359/386737990.py\u001b[0m in \u001b[0;36m<module>\u001b[0;34m\u001b[0m\n\u001b[1;32m      1\u001b[0m \u001b[0mrbo_list\u001b[0m \u001b[0;34m=\u001b[0m \u001b[0;34m[\u001b[0m\u001b[0;34m]\u001b[0m\u001b[0;34m\u001b[0m\u001b[0;34m\u001b[0m\u001b[0m\n\u001b[1;32m      2\u001b[0m \u001b[0;34m\u001b[0m\u001b[0m\n\u001b[0;32m----> 3\u001b[0;31m \u001b[0mtemp_descriptions\u001b[0m \u001b[0;34m=\u001b[0m \u001b[0mcleaned_descriptions_val\u001b[0m\u001b[0;34m.\u001b[0m\u001b[0msample\u001b[0m\u001b[0;34m(\u001b[0m\u001b[0mn\u001b[0m\u001b[0;34m=\u001b[0m\u001b[0;36m100\u001b[0m\u001b[0;34m)\u001b[0m\u001b[0;34m\u001b[0m\u001b[0;34m\u001b[0m\u001b[0m\n\u001b[0m\u001b[1;32m      4\u001b[0m \u001b[0;34m\u001b[0m\u001b[0m\n\u001b[1;32m      5\u001b[0m \u001b[0;32mfor\u001b[0m \u001b[0mdescription\u001b[0m \u001b[0;32min\u001b[0m \u001b[0mtqdm\u001b[0m\u001b[0;34m(\u001b[0m\u001b[0mtemp_descriptions\u001b[0m\u001b[0;34m)\u001b[0m\u001b[0;34m:\u001b[0m\u001b[0;34m\u001b[0m\u001b[0;34m\u001b[0m\u001b[0m\n",
      "\u001b[0;31mNameError\u001b[0m: name 'cleaned_descriptions_val' is not defined"
     ]
    }
   ],
   "source": [
    "rbo_list = []\n",
    "\n",
    "temp_descriptions = cleaned_descriptions_val.sample(n=100)\n",
    "\n",
    "for description in tqdm(temp_descriptions):\n",
    "    result = text.query(description, tf_idf_table)\n",
    "    rbo_list.append(rbo(result, genre_and_votes_val.filter(like='genre')))\n",
    "\n"
   ]
  },
  {
   "cell_type": "code",
   "execution_count": null,
   "id": "b9445d77",
   "metadata": {},
   "outputs": [],
   "source": [
    "## Plot the histogram of RBO values"
   ]
  },
  {
   "cell_type": "markdown",
   "id": "77433738",
   "metadata": {},
   "source": [
    "# Old Validation (delete later)"
   ]
  },
  {
   "cell_type": "code",
   "execution_count": 4,
   "id": "7967c9e1",
   "metadata": {},
   "outputs": [
    {
     "name": "stderr",
     "output_type": "stream",
     "text": [
      "100%|█████████████████████████████████████████| 100/100 [10:42<00:00,  6.42s/it]\n"
     ]
    }
   ],
   "source": [
    "# Here, I will pull from the top 5 genres, but this could be modified later\n",
    "n=5\n",
    "column_names = [f'{stub}_{num+1}' \n",
    "                for num in range(n)\n",
    "                for stub in ['genre', 'score']]\n",
    "predicted_genres_and_scores = {key:[] for key in column_names}\n",
    "\n",
    "temp_descriptions = cleaned_descriptions_val.sample(n=100)\n",
    "\n",
    "for description in tqdm(temp_descriptions):\n",
    "    result = text.query(description, tf_idf_table).iloc[:n]\n",
    "    for idx in range(n):\n",
    "        predicted_genres_and_scores[f'genre_{idx+1}'].append(result.index[idx])\n",
    "        predicted_genres_and_scores[f'score_{idx+1}'].append(result.iloc[idx])\n",
    "predicted_genres_and_scores = pd.DataFrame.from_dict(predicted_genres_and_scores)\n",
    "predicted_genres_and_scores.index = temp_descriptions.index"
   ]
  },
  {
   "cell_type": "code",
   "execution_count": 5,
   "id": "ca7ad237",
   "metadata": {},
   "outputs": [],
   "source": [
    "correct = []\n",
    "for true_genre, predicted_genres in zip(genre_and_votes_val['genre_1'].loc[predicted_genres_and_scores.index],\n",
    "                                        predicted_genres_and_scores\n",
    "                                        .filter(like='genre').values):\n",
    "    if true_genre in predicted_genres:\n",
    "        correct.append(True)\n",
    "    elif true_genre is not np.nan:\n",
    "        correct.append(False)"
   ]
  },
  {
   "cell_type": "code",
   "execution_count": 6,
   "id": "912b4a42",
   "metadata": {},
   "outputs": [
    {
     "data": {
      "text/plain": [
       "0.6352941176470588"
      ]
     },
     "execution_count": 6,
     "metadata": {},
     "output_type": "execute_result"
    }
   ],
   "source": [
    "sum(correct)/len(correct)"
   ]
  },
  {
   "cell_type": "code",
   "execution_count": null,
   "id": "0246dae3",
   "metadata": {},
   "outputs": [],
   "source": []
  }
 ],
 "metadata": {
  "kernelspec": {
   "display_name": "Python 3 (ipykernel)",
   "language": "python",
   "name": "python3"
  },
  "language_info": {
   "codemirror_mode": {
    "name": "ipython",
    "version": 3
   },
   "file_extension": ".py",
   "mimetype": "text/x-python",
   "name": "python",
   "nbconvert_exporter": "python",
   "pygments_lexer": "ipython3",
   "version": "3.7.1"
  }
 },
 "nbformat": 4,
 "nbformat_minor": 5
}
