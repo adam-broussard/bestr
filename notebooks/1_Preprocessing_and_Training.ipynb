{
 "cells": [
  {
   "cell_type": "markdown",
   "id": "9c5889cc",
   "metadata": {},
   "source": [
    "# Preprocessing"
   ]
  },
  {
   "cell_type": "code",
   "execution_count": 1,
   "id": "26ea6f89",
   "metadata": {},
   "outputs": [],
   "source": [
    "import os\n",
    "import bestreads.text as text\n",
    "import pandas as pd\n",
    "\n",
    "data = pd.read_csv('./data/goodreads_books.csv')\n",
    "data_train = data.sample(frac = 0.9, random_state = 111)\n",
    "data_test = data.drop(data_train.index)"
   ]
  },
  {
   "cell_type": "markdown",
   "id": "73b66253",
   "metadata": {},
   "source": [
    "## Train-Test Set Splits"
   ]
  },
  {
   "cell_type": "code",
   "execution_count": 2,
   "id": "f0212a3b",
   "metadata": {},
   "outputs": [],
   "source": [
    "save_dir = './data/processed/'\n",
    "os.makedirs(save_dir, exist_ok=True)\n",
    "data_train.to_csv(save_dir + 'goodreads_books_train.csv', index = False)\n",
    "data_test.to_csv(save_dir + 'goodreads_books_test.csv', index = False)\n",
    "data_train.reset_index(inplace=True)\n",
    "data_test.reset_index(inplace=True)"
   ]
  },
  {
   "cell_type": "markdown",
   "id": "afbe8710",
   "metadata": {},
   "source": [
    "## Text Cleaning"
   ]
  },
  {
   "cell_type": "code",
   "execution_count": 3,
   "id": "c5cc918d",
   "metadata": {},
   "outputs": [],
   "source": [
    "is_english_description_train = text.is_english(data_train['description'])\n",
    "english_descriptions_train = data_train.description[is_english_description_train]\n",
    "cleaned_descriptions_train = text.clean_text(english_descriptions_train)\n",
    "is_english_description_train = is_english_description_train.rename('is_english_description',)\n",
    "cleaned_descriptions_train = cleaned_descriptions_train.rename('cleaned_descriptions')\n",
    "\n",
    "is_english_description_test = text.is_english(data_test['description'])\n",
    "english_descriptions_test = data_test.description[is_english_description_test]\n",
    "cleaned_descriptions_test = text.clean_text(english_descriptions_test)\n",
    "is_english_description_test = is_english_description_test.rename('is_english_description')\n",
    "cleaned_descriptions_test = cleaned_descriptions_test.rename('cleaned_descriptions')"
   ]
  },
  {
   "cell_type": "markdown",
   "id": "e12809e8",
   "metadata": {},
   "source": [
    "## Grouping Descriptions by Genre"
   ]
  },
  {
   "cell_type": "code",
   "execution_count": 4,
   "id": "680680e7",
   "metadata": {},
   "outputs": [
    {
     "name": "stderr",
     "output_type": "stream",
     "text": [
      "/home/adam/Documents/bestreads/bestreads/text.py:142: RuntimeWarning: NaN values detected in genre_and_votes; these will beskipped\n",
      "  + 'skipped', category=RuntimeWarning)\n",
      "100%|████████████████████████████████████████████████| 39528/39528 [00:02<00:00, 16213.76it/s]\n",
      "100%|██████████████████████████████████████████████████| 4409/4409 [00:00<00:00, 15330.36it/s]\n"
     ]
    }
   ],
   "source": [
    "genre_and_votes_train = text.get_genres(data_train.genre_and_votes[is_english_description_train])\n",
    "genre_and_votes_test = text.get_genres(data_test.genre_and_votes[is_english_description_test])\n",
    "combined = text.combine_genres(genre_and_votes_train.genre_1, cleaned_descriptions_train)"
   ]
  },
  {
   "cell_type": "markdown",
   "id": "fcaa2ec3",
   "metadata": {},
   "source": [
    "## Calculating TF-IDF"
   ]
  },
  {
   "cell_type": "code",
   "execution_count": 5,
   "id": "da387d30",
   "metadata": {
    "scrolled": true
   },
   "outputs": [
    {
     "name": "stderr",
     "output_type": "stream",
     "text": [
      "100%|█████████████████████████████████████████████████████████| 60/60 [00:14<00:00,  4.13it/s]\n"
     ]
    },
    {
     "data": {
      "text/html": [
       "<div>\n",
       "<style scoped>\n",
       "    .dataframe tbody tr th:only-of-type {\n",
       "        vertical-align: middle;\n",
       "    }\n",
       "\n",
       "    .dataframe tbody tr th {\n",
       "        vertical-align: top;\n",
       "    }\n",
       "\n",
       "    .dataframe thead th {\n",
       "        text-align: right;\n",
       "    }\n",
       "</style>\n",
       "<table border=\"1\" class=\"dataframe\">\n",
       "  <thead>\n",
       "    <tr style=\"text-align: right;\">\n",
       "      <th></th>\n",
       "      <th>Religion</th>\n",
       "      <th>Christian</th>\n",
       "      <th>Westerns</th>\n",
       "      <th>Historical</th>\n",
       "      <th>Animals</th>\n",
       "      <th>Spirituality</th>\n",
       "      <th>Psychology</th>\n",
       "      <th>Science Fiction</th>\n",
       "      <th>Plays</th>\n",
       "      <th>Realistic Fiction</th>\n",
       "      <th>...</th>\n",
       "      <th>Adult Fiction</th>\n",
       "      <th>Travel</th>\n",
       "      <th>Philosophy</th>\n",
       "      <th>Poetry</th>\n",
       "      <th>History</th>\n",
       "      <th>Adventure</th>\n",
       "      <th>Paranormal</th>\n",
       "      <th>Thriller</th>\n",
       "      <th>Mystery</th>\n",
       "      <th>Sequential Art</th>\n",
       "    </tr>\n",
       "  </thead>\n",
       "  <tbody>\n",
       "    <tr>\n",
       "      <th>much</th>\n",
       "      <td>0.000000</td>\n",
       "      <td>0.000000</td>\n",
       "      <td>0.000000</td>\n",
       "      <td>0.000000</td>\n",
       "      <td>0.000000</td>\n",
       "      <td>0.000000</td>\n",
       "      <td>0.000000</td>\n",
       "      <td>0.000000</td>\n",
       "      <td>0.000000</td>\n",
       "      <td>0.000000</td>\n",
       "      <td>...</td>\n",
       "      <td>0.000000</td>\n",
       "      <td>0.000000</td>\n",
       "      <td>0.000000</td>\n",
       "      <td>0.000000</td>\n",
       "      <td>0.000000</td>\n",
       "      <td>0.000000</td>\n",
       "      <td>0.000000</td>\n",
       "      <td>0.000000</td>\n",
       "      <td>0.000000</td>\n",
       "      <td>0.000000</td>\n",
       "    </tr>\n",
       "    <tr>\n",
       "      <th>public</th>\n",
       "      <td>0.000036</td>\n",
       "      <td>0.000018</td>\n",
       "      <td>0.000015</td>\n",
       "      <td>0.000013</td>\n",
       "      <td>0.000012</td>\n",
       "      <td>0.000014</td>\n",
       "      <td>0.000070</td>\n",
       "      <td>0.000010</td>\n",
       "      <td>0.000037</td>\n",
       "      <td>0.000051</td>\n",
       "      <td>...</td>\n",
       "      <td>0.000033</td>\n",
       "      <td>0.000025</td>\n",
       "      <td>0.000074</td>\n",
       "      <td>0.000033</td>\n",
       "      <td>0.000042</td>\n",
       "      <td>0.000014</td>\n",
       "      <td>0.000000</td>\n",
       "      <td>0.000014</td>\n",
       "      <td>0.000012</td>\n",
       "      <td>0.000017</td>\n",
       "    </tr>\n",
       "    <tr>\n",
       "      <th>debat</th>\n",
       "      <td>0.000323</td>\n",
       "      <td>0.000000</td>\n",
       "      <td>0.000000</td>\n",
       "      <td>0.000015</td>\n",
       "      <td>0.000000</td>\n",
       "      <td>0.000000</td>\n",
       "      <td>0.000258</td>\n",
       "      <td>0.000012</td>\n",
       "      <td>0.000000</td>\n",
       "      <td>0.000000</td>\n",
       "      <td>...</td>\n",
       "      <td>0.000000</td>\n",
       "      <td>0.000062</td>\n",
       "      <td>0.000566</td>\n",
       "      <td>0.000074</td>\n",
       "      <td>0.000199</td>\n",
       "      <td>0.000000</td>\n",
       "      <td>0.000000</td>\n",
       "      <td>0.000000</td>\n",
       "      <td>0.000007</td>\n",
       "      <td>0.000006</td>\n",
       "    </tr>\n",
       "    <tr>\n",
       "      <th>unit</th>\n",
       "      <td>0.000084</td>\n",
       "      <td>0.000029</td>\n",
       "      <td>0.000000</td>\n",
       "      <td>0.000105</td>\n",
       "      <td>0.000056</td>\n",
       "      <td>0.000000</td>\n",
       "      <td>0.000100</td>\n",
       "      <td>0.000148</td>\n",
       "      <td>0.000070</td>\n",
       "      <td>0.000000</td>\n",
       "      <td>...</td>\n",
       "      <td>0.000000</td>\n",
       "      <td>0.000194</td>\n",
       "      <td>0.000027</td>\n",
       "      <td>0.000063</td>\n",
       "      <td>0.000365</td>\n",
       "      <td>0.000100</td>\n",
       "      <td>0.000016</td>\n",
       "      <td>0.000233</td>\n",
       "      <td>0.000064</td>\n",
       "      <td>0.000069</td>\n",
       "    </tr>\n",
       "    <tr>\n",
       "      <th>state</th>\n",
       "      <td>0.000098</td>\n",
       "      <td>0.000025</td>\n",
       "      <td>0.000000</td>\n",
       "      <td>0.000067</td>\n",
       "      <td>0.000033</td>\n",
       "      <td>0.000019</td>\n",
       "      <td>0.000206</td>\n",
       "      <td>0.000089</td>\n",
       "      <td>0.000103</td>\n",
       "      <td>0.000000</td>\n",
       "      <td>...</td>\n",
       "      <td>0.000000</td>\n",
       "      <td>0.000142</td>\n",
       "      <td>0.000145</td>\n",
       "      <td>0.000064</td>\n",
       "      <td>0.000316</td>\n",
       "      <td>0.000118</td>\n",
       "      <td>0.000009</td>\n",
       "      <td>0.000151</td>\n",
       "      <td>0.000056</td>\n",
       "      <td>0.000047</td>\n",
       "    </tr>\n",
       "  </tbody>\n",
       "</table>\n",
       "<p>5 rows × 60 columns</p>\n",
       "</div>"
      ],
      "text/plain": [
       "        Religion  Christian  Westerns  Historical   Animals  Spirituality  \\\n",
       "much    0.000000   0.000000  0.000000    0.000000  0.000000      0.000000   \n",
       "public  0.000036   0.000018  0.000015    0.000013  0.000012      0.000014   \n",
       "debat   0.000323   0.000000  0.000000    0.000015  0.000000      0.000000   \n",
       "unit    0.000084   0.000029  0.000000    0.000105  0.000056      0.000000   \n",
       "state   0.000098   0.000025  0.000000    0.000067  0.000033      0.000019   \n",
       "\n",
       "        Psychology  Science Fiction     Plays  Realistic Fiction  ...  \\\n",
       "much      0.000000         0.000000  0.000000           0.000000  ...   \n",
       "public    0.000070         0.000010  0.000037           0.000051  ...   \n",
       "debat     0.000258         0.000012  0.000000           0.000000  ...   \n",
       "unit      0.000100         0.000148  0.000070           0.000000  ...   \n",
       "state     0.000206         0.000089  0.000103           0.000000  ...   \n",
       "\n",
       "        Adult Fiction    Travel  Philosophy    Poetry   History  Adventure  \\\n",
       "much         0.000000  0.000000    0.000000  0.000000  0.000000   0.000000   \n",
       "public       0.000033  0.000025    0.000074  0.000033  0.000042   0.000014   \n",
       "debat        0.000000  0.000062    0.000566  0.000074  0.000199   0.000000   \n",
       "unit         0.000000  0.000194    0.000027  0.000063  0.000365   0.000100   \n",
       "state        0.000000  0.000142    0.000145  0.000064  0.000316   0.000118   \n",
       "\n",
       "        Paranormal  Thriller   Mystery  Sequential Art  \n",
       "much      0.000000  0.000000  0.000000        0.000000  \n",
       "public    0.000000  0.000014  0.000012        0.000017  \n",
       "debat     0.000000  0.000000  0.000007        0.000006  \n",
       "unit      0.000016  0.000233  0.000064        0.000069  \n",
       "state     0.000009  0.000151  0.000056        0.000047  \n",
       "\n",
       "[5 rows x 60 columns]"
      ]
     },
     "execution_count": 5,
     "metadata": {},
     "output_type": "execute_result"
    }
   ],
   "source": [
    "tf_idf_table_train = text.tf_idf(combined)\n",
    "\n",
    "# Here, we save the index because each index is a word\n",
    "tf_idf_table_train.to_csv(save_dir + 'tf_idf_table_train.csv', index_label='word')\n",
    "tf_idf_table_train.head()"
   ]
  },
  {
   "cell_type": "code",
   "execution_count": 6,
   "id": "a41a0dff",
   "metadata": {
    "scrolled": true
   },
   "outputs": [],
   "source": [
    "# Save the training data\n",
    "processed_data_train = (is_english_description_train.to_frame()\n",
    "                        .merge(cleaned_descriptions_train,\n",
    "                               left_index=True, right_index=True,\n",
    "                               validate='1:1')\n",
    "                        .merge(genre_and_votes_train,\n",
    "                               left_index=True, right_index=True,\n",
    "                               validate='1:1'))\n",
    "\n",
    "# Here, we save the index because some rows are now missing due to\n",
    "# english language selection\n",
    "processed_data_train.to_csv(save_dir + 'goodreads_books_train_processed.csv', \n",
    "                            index_label='index')\n",
    "\n",
    "# Save the test data\n",
    "processed_data_test = (is_english_description_test.to_frame()\n",
    "                        .merge(cleaned_descriptions_test,\n",
    "                               left_index=True, right_index=True,\n",
    "                               validate='1:1')\n",
    "                        .merge(genre_and_votes_test,\n",
    "                               left_index=True, right_index=True,\n",
    "                               validate='1:1'))\n",
    "\n",
    "# Here, we save the index because some rows are now missing due to\n",
    "# english language selection\n",
    "processed_data_test.to_csv(save_dir + 'goodreads_books_test_processed.csv', \n",
    "                           index_label='index')"
   ]
  }
 ],
 "metadata": {
  "kernelspec": {
   "display_name": "Python 3 (ipykernel)",
   "language": "python",
   "name": "python3"
  },
  "language_info": {
   "codemirror_mode": {
    "name": "ipython",
    "version": 3
   },
   "file_extension": ".py",
   "mimetype": "text/x-python",
   "name": "python",
   "nbconvert_exporter": "python",
   "pygments_lexer": "ipython3",
   "version": "3.7.13"
  }
 },
 "nbformat": 4,
 "nbformat_minor": 5
}
