{
 "cells": [
  {
   "cell_type": "markdown",
   "metadata": {},
   "source": [
    "# Summary of Data"
   ]
  },
  {
   "cell_type": "markdown",
   "metadata": {},
   "source": [
    "Let's start by loading the data."
   ]
  },
  {
   "cell_type": "code",
   "execution_count": 1,
   "metadata": {},
   "outputs": [],
   "source": [
    "import pandas as pd\n",
    "from tqdm import tqdm\n",
    "import numpy as np\n",
    "from matplotlib import pyplot as plt\n",
    "from bestreads.dataset_ops import convert_str_array"
   ]
  },
  {
   "cell_type": "code",
   "execution_count": 2,
   "metadata": {},
   "outputs": [
    {
     "data": {
      "text/html": [
       "<div>\n",
       "<style scoped>\n",
       "    .dataframe tbody tr th:only-of-type {\n",
       "        vertical-align: middle;\n",
       "    }\n",
       "\n",
       "    .dataframe tbody tr th {\n",
       "        vertical-align: top;\n",
       "    }\n",
       "\n",
       "    .dataframe thead th {\n",
       "        text-align: right;\n",
       "    }\n",
       "</style>\n",
       "<table border=\"1\" class=\"dataframe\">\n",
       "  <thead>\n",
       "    <tr style=\"text-align: right;\">\n",
       "      <th></th>\n",
       "      <th>id</th>\n",
       "      <th>title</th>\n",
       "      <th>link</th>\n",
       "      <th>series</th>\n",
       "      <th>cover_link</th>\n",
       "      <th>author</th>\n",
       "      <th>author_link</th>\n",
       "      <th>rating_count</th>\n",
       "      <th>review_count</th>\n",
       "      <th>average_rating</th>\n",
       "      <th>...</th>\n",
       "      <th>isbn13</th>\n",
       "      <th>asin</th>\n",
       "      <th>settings</th>\n",
       "      <th>characters</th>\n",
       "      <th>awards</th>\n",
       "      <th>amazon_redirect_link</th>\n",
       "      <th>worldcat_redirect_link</th>\n",
       "      <th>recommended_books</th>\n",
       "      <th>books_in_series</th>\n",
       "      <th>description</th>\n",
       "    </tr>\n",
       "  </thead>\n",
       "  <tbody>\n",
       "    <tr>\n",
       "      <th>0</th>\n",
       "      <td>630104</td>\n",
       "      <td>Inner Circle</td>\n",
       "      <td>https://www.goodreads.com//book/show/630104.In...</td>\n",
       "      <td>(Private #5)</td>\n",
       "      <td>https://i.gr-assets.com/images/S/compressed.ph...</td>\n",
       "      <td>Kate Brian, Julian Peploe</td>\n",
       "      <td>https://www.goodreads.com/author/show/94091.Ka...</td>\n",
       "      <td>7597</td>\n",
       "      <td>196</td>\n",
       "      <td>4.03</td>\n",
       "      <td>...</td>\n",
       "      <td>9781416950417</td>\n",
       "      <td>NaN</td>\n",
       "      <td>NaN</td>\n",
       "      <td>NaN</td>\n",
       "      <td>NaN</td>\n",
       "      <td>https://www.goodreads.com//book_link/follow/17...</td>\n",
       "      <td>https://www.goodreads.com//book_link/follow/8?...</td>\n",
       "      <td>726458, 726458, 1537534, 3047848, 1651302, 304...</td>\n",
       "      <td>381489, 381501, 352428, 630103, 1783281, 17832...</td>\n",
       "      <td>Reed Brennan arrived at Easton Academy expecti...</td>\n",
       "    </tr>\n",
       "    <tr>\n",
       "      <th>1</th>\n",
       "      <td>9487</td>\n",
       "      <td>A Time to Embrace</td>\n",
       "      <td>https://www.goodreads.com//book/show/9487.A_Ti...</td>\n",
       "      <td>(Timeless Love #2)</td>\n",
       "      <td>https://i.gr-assets.com/images/S/compressed.ph...</td>\n",
       "      <td>Karen Kingsbury</td>\n",
       "      <td>https://www.goodreads.com/author/show/3159984....</td>\n",
       "      <td>4179</td>\n",
       "      <td>177</td>\n",
       "      <td>4.35</td>\n",
       "      <td>...</td>\n",
       "      <td>9781595542328</td>\n",
       "      <td>NaN</td>\n",
       "      <td>NaN</td>\n",
       "      <td>NaN</td>\n",
       "      <td>NaN</td>\n",
       "      <td>https://www.goodreads.com//book_link/follow/17...</td>\n",
       "      <td>https://www.goodreads.com//book_link/follow/8?...</td>\n",
       "      <td>127352, 127352, 40642197, 127353, 127354, 3891...</td>\n",
       "      <td>115036</td>\n",
       "      <td>Ideje az Ã¶lelÃ©snek TÃ¶rtÃ©net a remÃ©nyrÅl,...</td>\n",
       "    </tr>\n",
       "    <tr>\n",
       "      <th>2</th>\n",
       "      <td>6050894</td>\n",
       "      <td>Take Two</td>\n",
       "      <td>https://www.goodreads.com//book/show/6050894-t...</td>\n",
       "      <td>(Above the Line #2)</td>\n",
       "      <td>https://i.gr-assets.com/images/S/compressed.ph...</td>\n",
       "      <td>Karen Kingsbury</td>\n",
       "      <td>https://www.goodreads.com/author/show/3159984....</td>\n",
       "      <td>6288</td>\n",
       "      <td>218</td>\n",
       "      <td>4.23</td>\n",
       "      <td>...</td>\n",
       "      <td>NaN</td>\n",
       "      <td>NaN</td>\n",
       "      <td>Bloomington, Indiana(United States)</td>\n",
       "      <td>NaN</td>\n",
       "      <td>NaN</td>\n",
       "      <td>https://www.goodreads.com//book_link/follow/17...</td>\n",
       "      <td>https://www.goodreads.com//book_link/follow/8?...</td>\n",
       "      <td>706250, 706250, 666481, 11942636, 706241, 1273...</td>\n",
       "      <td>4010795, 40792877, 7306261</td>\n",
       "      <td>Filmmakers Chase Ryan and Keith Ellison have c...</td>\n",
       "    </tr>\n",
       "    <tr>\n",
       "      <th>3</th>\n",
       "      <td>39030</td>\n",
       "      <td>Reliquary</td>\n",
       "      <td>https://www.goodreads.com//book/show/39030.Rel...</td>\n",
       "      <td>(Pendergast #2)</td>\n",
       "      <td>https://i.gr-assets.com/images/S/compressed.ph...</td>\n",
       "      <td>Douglas Preston, Lincoln Child</td>\n",
       "      <td>https://www.goodreads.com/author/show/12577.Do...</td>\n",
       "      <td>38382</td>\n",
       "      <td>1424</td>\n",
       "      <td>4.01</td>\n",
       "      <td>...</td>\n",
       "      <td>9780765354952</td>\n",
       "      <td>NaN</td>\n",
       "      <td>New York State(United States) New York City, N...</td>\n",
       "      <td>Aloysius X.L. Pendergast, Margo Green, William...</td>\n",
       "      <td>NaN</td>\n",
       "      <td>https://www.goodreads.com//book_link/follow/17...</td>\n",
       "      <td>https://www.goodreads.com//book_link/follow/8?...</td>\n",
       "      <td>39026, 39026, 11007668, 3986318, 51887330, 194...</td>\n",
       "      <td>67035, 39031, 39033, 136637, 136638, 30068, 39...</td>\n",
       "      <td>NaN</td>\n",
       "    </tr>\n",
       "    <tr>\n",
       "      <th>4</th>\n",
       "      <td>998</td>\n",
       "      <td>The Millionaire Next Door: The Surprising Secr...</td>\n",
       "      <td>https://www.goodreads.com//book/show/998.The_M...</td>\n",
       "      <td>NaN</td>\n",
       "      <td>https://i.gr-assets.com/images/S/compressed.ph...</td>\n",
       "      <td>Thomas J. Stanley, William D. Danko</td>\n",
       "      <td>https://www.goodreads.com/author/show/659.Thom...</td>\n",
       "      <td>72168</td>\n",
       "      <td>3217</td>\n",
       "      <td>4.04</td>\n",
       "      <td>...</td>\n",
       "      <td>9780671015206</td>\n",
       "      <td>NaN</td>\n",
       "      <td>NaN</td>\n",
       "      <td>NaN</td>\n",
       "      <td>Independent Publisher Book Award (IPPY) Nomine...</td>\n",
       "      <td>https://www.goodreads.com//book_link/follow/17...</td>\n",
       "      <td>https://www.goodreads.com//book_link/follow/8?...</td>\n",
       "      <td>1052, 1052, 763362, 69571, 78427, 30186948, 10...</td>\n",
       "      <td>NaN</td>\n",
       "      <td>The incredible national bestseller that is cha...</td>\n",
       "    </tr>\n",
       "  </tbody>\n",
       "</table>\n",
       "<p>5 rows × 31 columns</p>\n",
       "</div>"
      ],
      "text/plain": [
       "        id                                              title  \\\n",
       "0   630104                                       Inner Circle   \n",
       "1     9487                                  A Time to Embrace   \n",
       "2  6050894                                           Take Two   \n",
       "3    39030                                          Reliquary   \n",
       "4      998  The Millionaire Next Door: The Surprising Secr...   \n",
       "\n",
       "                                                link               series  \\\n",
       "0  https://www.goodreads.com//book/show/630104.In...         (Private #5)   \n",
       "1  https://www.goodreads.com//book/show/9487.A_Ti...   (Timeless Love #2)   \n",
       "2  https://www.goodreads.com//book/show/6050894-t...  (Above the Line #2)   \n",
       "3  https://www.goodreads.com//book/show/39030.Rel...      (Pendergast #2)   \n",
       "4  https://www.goodreads.com//book/show/998.The_M...                  NaN   \n",
       "\n",
       "                                          cover_link  \\\n",
       "0  https://i.gr-assets.com/images/S/compressed.ph...   \n",
       "1  https://i.gr-assets.com/images/S/compressed.ph...   \n",
       "2  https://i.gr-assets.com/images/S/compressed.ph...   \n",
       "3  https://i.gr-assets.com/images/S/compressed.ph...   \n",
       "4  https://i.gr-assets.com/images/S/compressed.ph...   \n",
       "\n",
       "                                author  \\\n",
       "0            Kate Brian, Julian Peploe   \n",
       "1                      Karen Kingsbury   \n",
       "2                      Karen Kingsbury   \n",
       "3       Douglas Preston, Lincoln Child   \n",
       "4  Thomas J. Stanley, William D. Danko   \n",
       "\n",
       "                                         author_link  rating_count  \\\n",
       "0  https://www.goodreads.com/author/show/94091.Ka...          7597   \n",
       "1  https://www.goodreads.com/author/show/3159984....          4179   \n",
       "2  https://www.goodreads.com/author/show/3159984....          6288   \n",
       "3  https://www.goodreads.com/author/show/12577.Do...         38382   \n",
       "4  https://www.goodreads.com/author/show/659.Thom...         72168   \n",
       "\n",
       "   review_count  average_rating  ...         isbn13  asin  \\\n",
       "0           196            4.03  ...  9781416950417   NaN   \n",
       "1           177            4.35  ...  9781595542328   NaN   \n",
       "2           218            4.23  ...            NaN   NaN   \n",
       "3          1424            4.01  ...  9780765354952   NaN   \n",
       "4          3217            4.04  ...  9780671015206   NaN   \n",
       "\n",
       "                                            settings  \\\n",
       "0                                                NaN   \n",
       "1                                                NaN   \n",
       "2                Bloomington, Indiana(United States)   \n",
       "3  New York State(United States) New York City, N...   \n",
       "4                                                NaN   \n",
       "\n",
       "                                          characters  \\\n",
       "0                                                NaN   \n",
       "1                                                NaN   \n",
       "2                                                NaN   \n",
       "3  Aloysius X.L. Pendergast, Margo Green, William...   \n",
       "4                                                NaN   \n",
       "\n",
       "                                              awards  \\\n",
       "0                                                NaN   \n",
       "1                                                NaN   \n",
       "2                                                NaN   \n",
       "3                                                NaN   \n",
       "4  Independent Publisher Book Award (IPPY) Nomine...   \n",
       "\n",
       "                                amazon_redirect_link  \\\n",
       "0  https://www.goodreads.com//book_link/follow/17...   \n",
       "1  https://www.goodreads.com//book_link/follow/17...   \n",
       "2  https://www.goodreads.com//book_link/follow/17...   \n",
       "3  https://www.goodreads.com//book_link/follow/17...   \n",
       "4  https://www.goodreads.com//book_link/follow/17...   \n",
       "\n",
       "                              worldcat_redirect_link  \\\n",
       "0  https://www.goodreads.com//book_link/follow/8?...   \n",
       "1  https://www.goodreads.com//book_link/follow/8?...   \n",
       "2  https://www.goodreads.com//book_link/follow/8?...   \n",
       "3  https://www.goodreads.com//book_link/follow/8?...   \n",
       "4  https://www.goodreads.com//book_link/follow/8?...   \n",
       "\n",
       "                                   recommended_books  \\\n",
       "0  726458, 726458, 1537534, 3047848, 1651302, 304...   \n",
       "1  127352, 127352, 40642197, 127353, 127354, 3891...   \n",
       "2  706250, 706250, 666481, 11942636, 706241, 1273...   \n",
       "3  39026, 39026, 11007668, 3986318, 51887330, 194...   \n",
       "4  1052, 1052, 763362, 69571, 78427, 30186948, 10...   \n",
       "\n",
       "                                     books_in_series  \\\n",
       "0  381489, 381501, 352428, 630103, 1783281, 17832...   \n",
       "1                                             115036   \n",
       "2                         4010795, 40792877, 7306261   \n",
       "3  67035, 39031, 39033, 136637, 136638, 30068, 39...   \n",
       "4                                                NaN   \n",
       "\n",
       "                                         description  \n",
       "0  Reed Brennan arrived at Easton Academy expecti...  \n",
       "1  Ideje az Ã¶lelÃ©snek TÃ¶rtÃ©net a remÃ©nyrÅl,...  \n",
       "2  Filmmakers Chase Ryan and Keith Ellison have c...  \n",
       "3                                                NaN  \n",
       "4  The incredible national bestseller that is cha...  \n",
       "\n",
       "[5 rows x 31 columns]"
      ]
     },
     "execution_count": 2,
     "metadata": {},
     "output_type": "execute_result"
    }
   ],
   "source": [
    "data = pd.read_csv('../data/goodreads_books.csv')\n",
    "data.head()"
   ]
  },
  {
   "cell_type": "markdown",
   "metadata": {},
   "source": [
    "Now that we have read the data in properly, let's explore some of the values.  For example, we can see that there is a column where Goodreads recommends similar books.  Let's see what the distribution of the number of recommendations looks like!  First, we will need to write a function that can parse the book ID's into a list."
   ]
  },
  {
   "cell_type": "code",
   "execution_count": 4,
   "metadata": {},
   "outputs": [
    {
     "name": "stderr",
     "output_type": "stream",
     "text": [
      "/home/adam/Documents/bestreads/bestreads/dataset_ops.py:42: RuntimeWarning: NaN value detected in convert_str_array(string)\n",
      "  category=RuntimeWarning)\n"
     ]
    },
    {
     "data": {
      "text/plain": [
       "Text(0, 0.5, 'Frequency')"
      ]
     },
     "execution_count": 4,
     "metadata": {},
     "output_type": "execute_result"
    },
    {
     "data": {
      "image/png": "[encoded data removed]",
      "text/plain": [
       "<Figure size 576x576 with 1 Axes>"
      ]
     },
     "metadata": {
      "needs_background": "light"
     },
     "output_type": "display_data"
    }
   ],
   "source": [
    "book_recommendations = []\n",
    "for book_rec in data.recommended_books:\n",
    "    book_recommendations.append(len(convert_str_array(book_rec)))\n",
    "\n",
    "fig = plt.figure(figsize=(8, 8))\n",
    "sp = fig.add_subplot(111)\n",
    "sp.hist(book_recommendations, histtype='step', range=(0, 20), bins=(21))\n",
    "sp.set_xlabel('# of Recommendations')\n",
    "sp.set_ylabel('Frequency')"
   ]
  },
  {
   "cell_type": "code",
   "execution_count": 11,
   "metadata": {},
   "outputs": [
    {
     "ename": "TypeError",
     "evalue": "object of type 'float' has no len()",
     "output_type": "error",
     "traceback": [
      "\u001b[0;31m---------------------------------------------------------------------------\u001b[0m",
      "\u001b[0;31mTypeError\u001b[0m                                 Traceback (most recent call last)",
      "\u001b[0;32m<ipython-input-11-286f534a99fd>\u001b[0m in \u001b[0;36m<module>\u001b[0;34m\u001b[0m\n\u001b[1;32m      1\u001b[0m \u001b[0mfig\u001b[0m \u001b[0;34m=\u001b[0m \u001b[0mplt\u001b[0m\u001b[0;34m.\u001b[0m\u001b[0mfigure\u001b[0m\u001b[0;34m(\u001b[0m\u001b[0mfigsize\u001b[0m\u001b[0;34m=\u001b[0m\u001b[0;34m(\u001b[0m\u001b[0;36m8\u001b[0m\u001b[0;34m,\u001b[0m \u001b[0;36m8\u001b[0m\u001b[0;34m)\u001b[0m\u001b[0;34m)\u001b[0m\u001b[0;34m\u001b[0m\u001b[0;34m\u001b[0m\u001b[0m\n\u001b[1;32m      2\u001b[0m \u001b[0msp\u001b[0m \u001b[0;34m=\u001b[0m \u001b[0mfig\u001b[0m\u001b[0;34m.\u001b[0m\u001b[0madd_subplot\u001b[0m\u001b[0;34m(\u001b[0m\u001b[0;36m111\u001b[0m\u001b[0;34m)\u001b[0m\u001b[0;34m\u001b[0m\u001b[0;34m\u001b[0m\u001b[0m\n\u001b[0;32m----> 3\u001b[0;31m \u001b[0msp\u001b[0m\u001b[0;34m.\u001b[0m\u001b[0mhist\u001b[0m\u001b[0;34m(\u001b[0m\u001b[0mdata\u001b[0m\u001b[0;34m.\u001b[0m\u001b[0mrecommended_books\u001b[0m\u001b[0;34m.\u001b[0m\u001b[0mapply\u001b[0m\u001b[0;34m(\u001b[0m\u001b[0mlen\u001b[0m\u001b[0;34m)\u001b[0m\u001b[0;34m,\u001b[0m \u001b[0mbins\u001b[0m \u001b[0;34m=\u001b[0m \u001b[0;36m100\u001b[0m\u001b[0;34m)\u001b[0m\u001b[0;34m\u001b[0m\u001b[0;34m\u001b[0m\u001b[0m\n\u001b[0m\u001b[1;32m      4\u001b[0m \u001b[0;34m\u001b[0m\u001b[0m\n\u001b[1;32m      5\u001b[0m \u001b[0msp\u001b[0m\u001b[0;34m.\u001b[0m\u001b[0mset_xlabel\u001b[0m\u001b[0;34m(\u001b[0m\u001b[0;34m'Number of Recommendations'\u001b[0m\u001b[0;34m)\u001b[0m\u001b[0;34m\u001b[0m\u001b[0;34m\u001b[0m\u001b[0m\n",
      "\u001b[0;32m~/miniconda3/envs/Research/lib/python3.7/site-packages/pandas/core/series.py\u001b[0m in \u001b[0;36mapply\u001b[0;34m(self, func, convert_dtype, args, **kwds)\u001b[0m\n\u001b[1;32m   3589\u001b[0m             \u001b[0;32melse\u001b[0m\u001b[0;34m:\u001b[0m\u001b[0;34m\u001b[0m\u001b[0;34m\u001b[0m\u001b[0m\n\u001b[1;32m   3590\u001b[0m                 \u001b[0mvalues\u001b[0m \u001b[0;34m=\u001b[0m \u001b[0mself\u001b[0m\u001b[0;34m.\u001b[0m\u001b[0mastype\u001b[0m\u001b[0;34m(\u001b[0m\u001b[0mobject\u001b[0m\u001b[0;34m)\u001b[0m\u001b[0;34m.\u001b[0m\u001b[0mvalues\u001b[0m\u001b[0;34m\u001b[0m\u001b[0;34m\u001b[0m\u001b[0m\n\u001b[0;32m-> 3591\u001b[0;31m                 \u001b[0mmapped\u001b[0m \u001b[0;34m=\u001b[0m \u001b[0mlib\u001b[0m\u001b[0;34m.\u001b[0m\u001b[0mmap_infer\u001b[0m\u001b[0;34m(\u001b[0m\u001b[0mvalues\u001b[0m\u001b[0;34m,\u001b[0m \u001b[0mf\u001b[0m\u001b[0;34m,\u001b[0m \u001b[0mconvert\u001b[0m\u001b[0;34m=\u001b[0m\u001b[0mconvert_dtype\u001b[0m\u001b[0;34m)\u001b[0m\u001b[0;34m\u001b[0m\u001b[0;34m\u001b[0m\u001b[0m\n\u001b[0m\u001b[1;32m   3592\u001b[0m \u001b[0;34m\u001b[0m\u001b[0m\n\u001b[1;32m   3593\u001b[0m         \u001b[0;32mif\u001b[0m \u001b[0mlen\u001b[0m\u001b[0;34m(\u001b[0m\u001b[0mmapped\u001b[0m\u001b[0;34m)\u001b[0m \u001b[0;32mand\u001b[0m \u001b[0misinstance\u001b[0m\u001b[0;34m(\u001b[0m\u001b[0mmapped\u001b[0m\u001b[0;34m[\u001b[0m\u001b[0;36m0\u001b[0m\u001b[0;34m]\u001b[0m\u001b[0;34m,\u001b[0m \u001b[0mSeries\u001b[0m\u001b[0;34m)\u001b[0m\u001b[0;34m:\u001b[0m\u001b[0;34m\u001b[0m\u001b[0;34m\u001b[0m\u001b[0m\n",
      "\u001b[0;32mpandas/_libs/lib.pyx\u001b[0m in \u001b[0;36mpandas._libs.lib.map_infer\u001b[0;34m()\u001b[0m\n",
      "\u001b[0;31mTypeError\u001b[0m: object of type 'float' has no len()"
     ]
    },
    {
     "data": {
      "image/png": "[encoded data removed]",
      "text/plain": [
       "<Figure size 576x576 with 1 Axes>"
      ]
     },
     "metadata": {
      "needs_background": "light"
     },
     "output_type": "display_data"
    }
   ],
   "source": [
    "fig = plt.figure(figsize=(8, 8))\n",
    "sp = fig.add_subplot(111)\n",
    "sp.hist(data.recommended_books.apply(len), bins = 100)\n",
    "\n",
    "sp.set_xlabel('Number of Recommendations')\n",
    "sp.set_ylabel('Frequency')"
   ]
  },
  {
   "cell_type": "code",
   "execution_count": 13,
   "metadata": {},
   "outputs": [
    {
     "data": {
      "text/plain": [
       "'726458, 726458, 1537534, 3047848, 1651302, 3047851, 561403, 162085, 3047849, 3047850, 162089, 9528186, 6443321, 9893331, 37487, 43207845, 37856897, 52589893, 37486'"
      ]
     },
     "execution_count": 13,
     "metadata": {},
     "output_type": "execute_result"
    }
   ],
   "source": [
    "data.recommended_books[0]"
   ]
  },
  {
   "cell_type": "code",
   "execution_count": null,
   "metadata": {},
   "outputs": [],
   "source": []
  }
 ],
 "metadata": {
  "kernelspec": {
   "display_name": "Python 3",
   "language": "python",
   "name": "python3"
  },
  "language_info": {
   "codemirror_mode": {
    "name": "ipython",
    "version": 3
   },
   "file_extension": ".py",
   "mimetype": "text/x-python",
   "name": "python",
   "nbconvert_exporter": "python",
   "pygments_lexer": "ipython3",
   "version": "3.7.1"
  }
 },
 "nbformat": 4,
 "nbformat_minor": 4
}
