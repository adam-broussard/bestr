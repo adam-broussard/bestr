{
 "cells": [
  {
   "cell_type": "markdown",
   "metadata": {},
   "source": [
    "# Summary of Data"
   ]
  },
  {
   "cell_type": "markdown",
   "metadata": {},
   "source": [
    "Let's start by loading the data."
   ]
  },
  {
   "cell_type": "code",
   "execution_count": 2,
   "metadata": {},
   "outputs": [],
   "source": [
    "import pandas as pd\n",
    "from tqdm import tqdm\n",
    "import numpy as np\n",
    "from matplotlib import pyplot as plt\n",
    "from bestreads.dataset_ops import convert_str_array"
   ]
  },
  {
   "cell_type": "code",
   "execution_count": 3,
   "metadata": {},
   "outputs": [
    {
     "data": {
      "text/html": [
       "<div>\n",
       "<style scoped>\n",
       "    .dataframe tbody tr th:only-of-type {\n",
       "        vertical-align: middle;\n",
       "    }\n",
       "\n",
       "    .dataframe tbody tr th {\n",
       "        vertical-align: top;\n",
       "    }\n",
       "\n",
       "    .dataframe thead th {\n",
       "        text-align: right;\n",
       "    }\n",
       "</style>\n",
       "<table border=\"1\" class=\"dataframe\">\n",
       "  <thead>\n",
       "    <tr style=\"text-align: right;\">\n",
       "      <th></th>\n",
       "      <th>id</th>\n",
       "      <th>title</th>\n",
       "      <th>link</th>\n",
       "      <th>series</th>\n",
       "      <th>cover_link</th>\n",
       "      <th>author</th>\n",
       "      <th>author_link</th>\n",
       "      <th>rating_count</th>\n",
       "      <th>review_count</th>\n",
       "      <th>average_rating</th>\n",
       "      <th>...</th>\n",
       "      <th>isbn13</th>\n",
       "      <th>asin</th>\n",
       "      <th>settings</th>\n",
       "      <th>characters</th>\n",
       "      <th>awards</th>\n",
       "      <th>amazon_redirect_link</th>\n",
       "      <th>worldcat_redirect_link</th>\n",
       "      <th>recommended_books</th>\n",
       "      <th>books_in_series</th>\n",
       "      <th>description</th>\n",
       "    </tr>\n",
       "  </thead>\n",
       "  <tbody>\n",
       "    <tr>\n",
       "      <th>0</th>\n",
       "      <td>630104</td>\n",
       "      <td>Inner Circle</td>\n",
       "      <td>https://www.goodreads.com//book/show/630104.In...</td>\n",
       "      <td>(Private #5)</td>\n",
       "      <td>https://i.gr-assets.com/images/S/compressed.ph...</td>\n",
       "      <td>Kate Brian, Julian Peploe</td>\n",
       "      <td>https://www.goodreads.com/author/show/94091.Ka...</td>\n",
       "      <td>7597</td>\n",
       "      <td>196</td>\n",
       "      <td>4.03</td>\n",
       "      <td>...</td>\n",
       "      <td>9781416950417</td>\n",
       "      <td>NaN</td>\n",
       "      <td>NaN</td>\n",
       "      <td>NaN</td>\n",
       "      <td>NaN</td>\n",
       "      <td>https://www.goodreads.com//book_link/follow/17...</td>\n",
       "      <td>https://www.goodreads.com//book_link/follow/8?...</td>\n",
       "      <td>726458, 726458, 1537534, 3047848, 1651302, 304...</td>\n",
       "      <td>381489, 381501, 352428, 630103, 1783281, 17832...</td>\n",
       "      <td>Reed Brennan arrived at Easton Academy expecti...</td>\n",
       "    </tr>\n",
       "    <tr>\n",
       "      <th>1</th>\n",
       "      <td>9487</td>\n",
       "      <td>A Time to Embrace</td>\n",
       "      <td>https://www.goodreads.com//book/show/9487.A_Ti...</td>\n",
       "      <td>(Timeless Love #2)</td>\n",
       "      <td>https://i.gr-assets.com/images/S/compressed.ph...</td>\n",
       "      <td>Karen Kingsbury</td>\n",
       "      <td>https://www.goodreads.com/author/show/3159984....</td>\n",
       "      <td>4179</td>\n",
       "      <td>177</td>\n",
       "      <td>4.35</td>\n",
       "      <td>...</td>\n",
       "      <td>9781595542328</td>\n",
       "      <td>NaN</td>\n",
       "      <td>NaN</td>\n",
       "      <td>NaN</td>\n",
       "      <td>NaN</td>\n",
       "      <td>https://www.goodreads.com//book_link/follow/17...</td>\n",
       "      <td>https://www.goodreads.com//book_link/follow/8?...</td>\n",
       "      <td>127352, 127352, 40642197, 127353, 127354, 3891...</td>\n",
       "      <td>115036</td>\n",
       "      <td>Ideje az Ã¶lelÃ©snek TÃ¶rtÃ©net a remÃ©nyrÅl,...</td>\n",
       "    </tr>\n",
       "    <tr>\n",
       "      <th>2</th>\n",
       "      <td>6050894</td>\n",
       "      <td>Take Two</td>\n",
       "      <td>https://www.goodreads.com//book/show/6050894-t...</td>\n",
       "      <td>(Above the Line #2)</td>\n",
       "      <td>https://i.gr-assets.com/images/S/compressed.ph...</td>\n",
       "      <td>Karen Kingsbury</td>\n",
       "      <td>https://www.goodreads.com/author/show/3159984....</td>\n",
       "      <td>6288</td>\n",
       "      <td>218</td>\n",
       "      <td>4.23</td>\n",
       "      <td>...</td>\n",
       "      <td>NaN</td>\n",
       "      <td>NaN</td>\n",
       "      <td>Bloomington, Indiana(United States)</td>\n",
       "      <td>NaN</td>\n",
       "      <td>NaN</td>\n",
       "      <td>https://www.goodreads.com//book_link/follow/17...</td>\n",
       "      <td>https://www.goodreads.com//book_link/follow/8?...</td>\n",
       "      <td>706250, 706250, 666481, 11942636, 706241, 1273...</td>\n",
       "      <td>4010795, 40792877, 7306261</td>\n",
       "      <td>Filmmakers Chase Ryan and Keith Ellison have c...</td>\n",
       "    </tr>\n",
       "    <tr>\n",
       "      <th>3</th>\n",
       "      <td>39030</td>\n",
       "      <td>Reliquary</td>\n",
       "      <td>https://www.goodreads.com//book/show/39030.Rel...</td>\n",
       "      <td>(Pendergast #2)</td>\n",
       "      <td>https://i.gr-assets.com/images/S/compressed.ph...</td>\n",
       "      <td>Douglas Preston, Lincoln Child</td>\n",
       "      <td>https://www.goodreads.com/author/show/12577.Do...</td>\n",
       "      <td>38382</td>\n",
       "      <td>1424</td>\n",
       "      <td>4.01</td>\n",
       "      <td>...</td>\n",
       "      <td>9780765354952</td>\n",
       "      <td>NaN</td>\n",
       "      <td>New York State(United States) New York City, N...</td>\n",
       "      <td>Aloysius X.L. Pendergast, Margo Green, William...</td>\n",
       "      <td>NaN</td>\n",
       "      <td>https://www.goodreads.com//book_link/follow/17...</td>\n",
       "      <td>https://www.goodreads.com//book_link/follow/8?...</td>\n",
       "      <td>39026, 39026, 11007668, 3986318, 51887330, 194...</td>\n",
       "      <td>67035, 39031, 39033, 136637, 136638, 30068, 39...</td>\n",
       "      <td>NaN</td>\n",
       "    </tr>\n",
       "    <tr>\n",
       "      <th>4</th>\n",
       "      <td>998</td>\n",
       "      <td>The Millionaire Next Door: The Surprising Secr...</td>\n",
       "      <td>https://www.goodreads.com//book/show/998.The_M...</td>\n",
       "      <td>NaN</td>\n",
       "      <td>https://i.gr-assets.com/images/S/compressed.ph...</td>\n",
       "      <td>Thomas J. Stanley, William D. Danko</td>\n",
       "      <td>https://www.goodreads.com/author/show/659.Thom...</td>\n",
       "      <td>72168</td>\n",
       "      <td>3217</td>\n",
       "      <td>4.04</td>\n",
       "      <td>...</td>\n",
       "      <td>9780671015206</td>\n",
       "      <td>NaN</td>\n",
       "      <td>NaN</td>\n",
       "      <td>NaN</td>\n",
       "      <td>Independent Publisher Book Award (IPPY) Nomine...</td>\n",
       "      <td>https://www.goodreads.com//book_link/follow/17...</td>\n",
       "      <td>https://www.goodreads.com//book_link/follow/8?...</td>\n",
       "      <td>1052, 1052, 763362, 69571, 78427, 30186948, 10...</td>\n",
       "      <td>NaN</td>\n",
       "      <td>The incredible national bestseller that is cha...</td>\n",
       "    </tr>\n",
       "  </tbody>\n",
       "</table>\n",
       "<p>5 rows × 31 columns</p>\n",
       "</div>"
      ],
      "text/plain": [
       "        id                                              title  \\\n",
       "0   630104                                       Inner Circle   \n",
       "1     9487                                  A Time to Embrace   \n",
       "2  6050894                                           Take Two   \n",
       "3    39030                                          Reliquary   \n",
       "4      998  The Millionaire Next Door: The Surprising Secr...   \n",
       "\n",
       "                                                link               series  \\\n",
       "0  https://www.goodreads.com//book/show/630104.In...         (Private #5)   \n",
       "1  https://www.goodreads.com//book/show/9487.A_Ti...   (Timeless Love #2)   \n",
       "2  https://www.goodreads.com//book/show/6050894-t...  (Above the Line #2)   \n",
       "3  https://www.goodreads.com//book/show/39030.Rel...      (Pendergast #2)   \n",
       "4  https://www.goodreads.com//book/show/998.The_M...                  NaN   \n",
       "\n",
       "                                          cover_link  \\\n",
       "0  https://i.gr-assets.com/images/S/compressed.ph...   \n",
       "1  https://i.gr-assets.com/images/S/compressed.ph...   \n",
       "2  https://i.gr-assets.com/images/S/compressed.ph...   \n",
       "3  https://i.gr-assets.com/images/S/compressed.ph...   \n",
       "4  https://i.gr-assets.com/images/S/compressed.ph...   \n",
       "\n",
       "                                author  \\\n",
       "0            Kate Brian, Julian Peploe   \n",
       "1                      Karen Kingsbury   \n",
       "2                      Karen Kingsbury   \n",
       "3       Douglas Preston, Lincoln Child   \n",
       "4  Thomas J. Stanley, William D. Danko   \n",
       "\n",
       "                                         author_link  rating_count  \\\n",
       "0  https://www.goodreads.com/author/show/94091.Ka...          7597   \n",
       "1  https://www.goodreads.com/author/show/3159984....          4179   \n",
       "2  https://www.goodreads.com/author/show/3159984....          6288   \n",
       "3  https://www.goodreads.com/author/show/12577.Do...         38382   \n",
       "4  https://www.goodreads.com/author/show/659.Thom...         72168   \n",
       "\n",
       "   review_count  average_rating  ...         isbn13  asin  \\\n",
       "0           196            4.03  ...  9781416950417   NaN   \n",
       "1           177            4.35  ...  9781595542328   NaN   \n",
       "2           218            4.23  ...            NaN   NaN   \n",
       "3          1424            4.01  ...  9780765354952   NaN   \n",
       "4          3217            4.04  ...  9780671015206   NaN   \n",
       "\n",
       "                                            settings  \\\n",
       "0                                                NaN   \n",
       "1                                                NaN   \n",
       "2                Bloomington, Indiana(United States)   \n",
       "3  New York State(United States) New York City, N...   \n",
       "4                                                NaN   \n",
       "\n",
       "                                          characters  \\\n",
       "0                                                NaN   \n",
       "1                                                NaN   \n",
       "2                                                NaN   \n",
       "3  Aloysius X.L. Pendergast, Margo Green, William...   \n",
       "4                                                NaN   \n",
       "\n",
       "                                              awards  \\\n",
       "0                                                NaN   \n",
       "1                                                NaN   \n",
       "2                                                NaN   \n",
       "3                                                NaN   \n",
       "4  Independent Publisher Book Award (IPPY) Nomine...   \n",
       "\n",
       "                                amazon_redirect_link  \\\n",
       "0  https://www.goodreads.com//book_link/follow/17...   \n",
       "1  https://www.goodreads.com//book_link/follow/17...   \n",
       "2  https://www.goodreads.com//book_link/follow/17...   \n",
       "3  https://www.goodreads.com//book_link/follow/17...   \n",
       "4  https://www.goodreads.com//book_link/follow/17...   \n",
       "\n",
       "                              worldcat_redirect_link  \\\n",
       "0  https://www.goodreads.com//book_link/follow/8?...   \n",
       "1  https://www.goodreads.com//book_link/follow/8?...   \n",
       "2  https://www.goodreads.com//book_link/follow/8?...   \n",
       "3  https://www.goodreads.com//book_link/follow/8?...   \n",
       "4  https://www.goodreads.com//book_link/follow/8?...   \n",
       "\n",
       "                                   recommended_books  \\\n",
       "0  726458, 726458, 1537534, 3047848, 1651302, 304...   \n",
       "1  127352, 127352, 40642197, 127353, 127354, 3891...   \n",
       "2  706250, 706250, 666481, 11942636, 706241, 1273...   \n",
       "3  39026, 39026, 11007668, 3986318, 51887330, 194...   \n",
       "4  1052, 1052, 763362, 69571, 78427, 30186948, 10...   \n",
       "\n",
       "                                     books_in_series  \\\n",
       "0  381489, 381501, 352428, 630103, 1783281, 17832...   \n",
       "1                                             115036   \n",
       "2                         4010795, 40792877, 7306261   \n",
       "3  67035, 39031, 39033, 136637, 136638, 30068, 39...   \n",
       "4                                                NaN   \n",
       "\n",
       "                                         description  \n",
       "0  Reed Brennan arrived at Easton Academy expecti...  \n",
       "1  Ideje az Ã¶lelÃ©snek TÃ¶rtÃ©net a remÃ©nyrÅl,...  \n",
       "2  Filmmakers Chase Ryan and Keith Ellison have c...  \n",
       "3                                                NaN  \n",
       "4  The incredible national bestseller that is cha...  \n",
       "\n",
       "[5 rows x 31 columns]"
      ]
     },
     "execution_count": 3,
     "metadata": {},
     "output_type": "execute_result"
    }
   ],
   "source": [
    "data = pd.read_csv('../data/goodreads_books.csv')\n",
    "data.head()"
   ]
  },
  {
   "cell_type": "markdown",
   "metadata": {},
   "source": [
    "## Book Recommendations\n",
    "\n",
    "Now that we have read the data in properly, let's explore some of the values.  For example, we can see that there is a column where Goodreads recommends similar books.  Let's see what the distribution of the number of recommendations looks like!  First, we will need to write a function that can parse the book ID's into a list."
   ]
  },
  {
   "cell_type": "code",
   "execution_count": 4,
   "metadata": {},
   "outputs": [
    {
     "name": "stderr",
     "output_type": "stream",
     "text": [
      "/home/adam/Documents/bestreads/bestreads/dataset_ops.py:42: RuntimeWarning: NaN value detected in convert_str_array(string)\n",
      "  category=RuntimeWarning)\n"
     ]
    },
    {
     "data": {
      "text/plain": [
       "Text(0, 0.5, 'Frequency')"
      ]
     },
     "execution_count": 4,
     "metadata": {},
     "output_type": "execute_result"
    },
    {
     "data": {
      "image/png": "[encoded data removed]",
      "text/plain": [
       "<Figure size 576x576 with 1 Axes>"
      ]
     },
     "metadata": {
      "needs_background": "light"
     },
     "output_type": "display_data"
    }
   ],
   "source": [
    "book_recommendations = []\n",
    "for book_rec in data.recommended_books:\n",
    "    book_recommendations.append(len(convert_str_array(book_rec)))\n",
    "\n",
    "fig = plt.figure(figsize=(8, 8))\n",
    "sp = fig.add_subplot(111)\n",
    "sp.hist(book_recommendations, histtype='step', range=(0, 20), bins=(21))\n",
    "sp.set_xlabel('# of Recommendations')\n",
    "sp.set_ylabel('Frequency')"
   ]
  },
  {
   "cell_type": "markdown",
   "metadata": {},
   "source": [
    "It appears that almost all of the books have exactly 18 book recommendations, with a small number containing fewer or zero.  This may be due to the fact that this isn't a comprehensive dataset and book ID's for books outside of the dataset are not included.  We could verify this by checking to see if every recommended book has a corresponding ID in the dataset:"
   ]
  },
  {
   "cell_type": "code",
   "execution_count": 14,
   "metadata": {},
   "outputs": [
    {
     "name": "stdout",
     "output_type": "stream",
     "text": [
      "206166 of 236274 (87.26%) recommended books aren't in our dataset.\n"
     ]
    }
   ],
   "source": [
    "book_rec_ids = set()\n",
    "for book_rec in data.recommended_books:\n",
    "    book_rec_ids.update(convert_str_array(book_rec))\n",
    "    \n",
    "rec_not_in_data = set()\n",
    "for this_id in book_rec_ids:\n",
    "    if this_id not in data.id.values:\n",
    "        rec_not_in_data.add(this_id)\n",
    "\n",
    "print(f'{len(rec_not_in_data)} of {len(book_rec_ids)} '\n",
    "      + f'({100.*len(not_in_data)/len(book_rec_ids):.2f}%) recommended books aren\\'t in our dataset.')"
   ]
  },
  {
   "cell_type": "markdown",
   "metadata": {},
   "source": [
    "It seems that this dataset does, in fact, contain references to books that are not in the dataset.  Further, because the overwhelming majority of the recommended books aren't in our dataset, we can assume that ours is a relatively small sample (if that wasn't already abundantly clear)."
   ]
  },
  {
   "cell_type": "markdown",
   "metadata": {},
   "source": [
    "## Book Series\n",
    "\n",
    "We can perform a similar exploratory analysis on the books in series to see how likely a book is to be in a series, what the typical series length is, and how good our dataset is at keeping all or most books in the same series."
   ]
  },
  {
   "cell_type": "markdown",
   "metadata": {},
   "source": [
    "To start with, we can see how long the typical series is by counting the elements in each list without repetition:"
   ]
  },
  {
   "cell_type": "code",
   "execution_count": 17,
   "metadata": {},
   "outputs": [
    {
     "name": "stdout",
     "output_type": "stream",
     "text": [
      "29827 of 42706 (87.26%) serial books aren't in our dataset.\n"
     ]
    }
   ],
   "source": [
    "# Note that one element in our series set is going to be empty because of NaN values\n",
    "# for books that have no series\n",
    "set_of_series = set(frozenset(convert_str_array(series_ids)) for series_ids in data.books_in_series)\n",
    "\n",
    "all_serial_ids = set()\n",
    "serial_not_in_data = set()\n",
    "for this_series in set_of_series:\n",
    "    all_serial_ids.update(this_series)\n",
    "    for this_id in this_series:\n",
    "        if this_id not in data.id.values:\n",
    "            serial_not_in_data.add(this_id)\n",
    "            \n",
    "print(f'{len(serial_not_in_data)} of {len(all_serial_ids)} '\n",
    "      + f'({100.*len(not_in_data)/len(book_rec_ids):.2f}%) serial books aren\\'t in our dataset.')"
   ]
  },
  {
   "cell_type": "markdown",
   "metadata": {},
   "source": [
    "Thus we find that an identical portion of our serial books are also outside of the sample.  Now, we can see how long the average series is by taking the length of each element of `set_of_series`:"
   ]
  },
  {
   "cell_type": "code",
   "execution_count": 18,
   "metadata": {},
   "outputs": [
    {
     "data": {
      "text/plain": [
       "Text(0, 0.5, 'Frequency')"
      ]
     },
     "execution_count": 18,
     "metadata": {},
     "output_type": "execute_result"
    },
    {
     "data": {
      "image/png": "[encoded data removed]",
      "text/plain": [
       "<Figure size 576x576 with 1 Axes>"
      ]
     },
     "metadata": {
      "needs_background": "light"
     },
     "output_type": "display_data"
    }
   ],
   "source": [
    "series_lengths = [len(this_series) for this_series in set_of_series]\n",
    "\n",
    "fig = plt.figure(figsize=(8, 8))\n",
    "sp = fig.add_subplot(111)\n",
    "sp.hist(series_lengths, histtype='step', range=(0, 20), bins=(21))\n",
    "sp.set_xlabel('# of Books in Series')\n",
    "sp.set_ylabel('Frequency')"
   ]
  },
  {
   "cell_type": "markdown",
   "metadata": {},
   "source": [
    "Interestingly enough, we see that most series are approximately 2 books long or exactly 10 books long.  It would be a good idea to verify that the hard cutoff at 10 books isn't an artificial feature introduced by a limit in the string length of our dataset or similar.\n",
    "\n",
    "Addditionally, it can be seen that many books are in a series of size 1.  It may be that these are new series in the making where only the first book has been released so far.  It should not include books that are not in a series entirely, as they will have NaN values in the `books_in_series` column rather than a single value.\n",
    "\n",
    "Finally, we can examine what fraction of our books are not in series:"
   ]
  },
  {
   "cell_type": "code",
   "execution_count": 20,
   "metadata": {},
   "outputs": [
    {
     "name": "stdout",
     "output_type": "stream",
     "text": [
      "30121 of 52199 (57.70%) books in this dataset aren't in series.\n"
     ]
    }
   ],
   "source": [
    "not_in_series = data.books_in_series.isnull()\n",
    "\n",
    "print(f'{sum(not_in_series)} of {len(not_in_series)} '\n",
    "      + f'({100.*sum(not_in_series)/len(not_in_series):.2f}%) books in this dataset aren\\'t in series.')"
   ]
  },
  {
   "cell_type": "markdown",
   "metadata": {},
   "source": [
    "## A Few Final Stats\n",
    "\n",
    "We can round out the summary of our data by counting the number of valid entries in each column:"
   ]
  },
  {
   "cell_type": "code",
   "execution_count": 37,
   "metadata": {},
   "outputs": [
    {
     "name": "stdout",
     "output_type": "stream",
     "text": [
      "                         NaNs  frac_NaNs\n",
      "id                          0   0.000000\n",
      "title                       0   0.000000\n",
      "link                        0   0.000000\n",
      "series                  28880   0.553267\n",
      "cover_link                607   0.011629\n",
      "author                      0   0.000000\n",
      "author_link                 0   0.000000\n",
      "rating_count                0   0.000000\n",
      "review_count                0   0.000000\n",
      "average_rating              0   0.000000\n",
      "five_star_ratings           0   0.000000\n",
      "four_star_ratings           0   0.000000\n",
      "three_star_ratings          0   0.000000\n",
      "two_star_ratings            0   0.000000\n",
      "one_star_ratings            0   0.000000\n",
      "number_of_pages          2330   0.044637\n",
      "date_published            860   0.016475\n",
      "publisher                3636   0.069657\n",
      "original_title          12949   0.248070\n",
      "genre_and_votes          2840   0.054407\n",
      "isbn                    11883   0.227648\n",
      "isbn13                  12692   0.243146\n",
      "asin                    46963   0.899692\n",
      "settings                40684   0.779402\n",
      "characters              38504   0.737639\n",
      "awards                  41573   0.796433\n",
      "amazon_redirect_link        0   0.000000\n",
      "worldcat_redirect_link   3985   0.076342\n",
      "recommended_books        3994   0.076515\n",
      "books_in_series         30121   0.577042\n",
      "description              2575   0.049330\n"
     ]
    }
   ],
   "source": [
    "print(data.apply(lambda x: \n",
    "                 pd.Series([\n",
    "                     x.isnull().sum(),\n",
    "                     x.isnull().sum()/float(len(x))]\n",
    "                    , index=['NaNs', 'frac_NaNs']\n",
    "                          )).transpose()\n",
    "                            .astype({'NaNs':'int', 'frac_NaNs':'float'}))"
   ]
  },
  {
   "cell_type": "markdown",
   "metadata": {},
   "source": [
    "Note that the number of NaNs in the `series` column is different from the number of NaNs in the `books_in_series` column.  This could be that some elements of a series may not be on Goodreads entirely and therefore lack an ID to put in `books_in_series`."
   ]
  },
  {
   "cell_type": "code",
   "execution_count": null,
   "metadata": {},
   "outputs": [],
   "source": []
  }
 ],
 "metadata": {
  "kernelspec": {
   "display_name": "Python 3",
   "language": "python",
   "name": "python3"
  },
  "language_info": {
   "codemirror_mode": {
    "name": "ipython",
    "version": 3
   },
   "file_extension": ".py",
   "mimetype": "text/x-python",
   "name": "python",
   "nbconvert_exporter": "python",
   "pygments_lexer": "ipython3",
   "version": "3.7.1"
  }
 },
 "nbformat": 4,
 "nbformat_minor": 4
}
