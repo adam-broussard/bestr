{
 "cells": [
  {
   "cell_type": "markdown",
   "id": "218e3905",
   "metadata": {},
   "source": [
    "# CNN Preprocessing"
   ]
  },
  {
   "cell_type": "code",
   "execution_count": 1,
   "id": "493ed43a",
   "metadata": {},
   "outputs": [
    {
     "name": "stderr",
     "output_type": "stream",
     "text": [
      "2022-07-01 13:34:07.317369: I tensorflow/stream_executor/platform/default/dso_loader.cc:49] Successfully opened dynamic library libcudart.so.10.1\n"
     ]
    }
   ],
   "source": [
    "from bestreads.dataset import subsample_json, get_img_info_json, download_covers\n",
    "from bestreads.models import cnn"
   ]
  },
  {
   "cell_type": "markdown",
   "id": "4b92e1c8",
   "metadata": {},
   "source": [
    "## Download the dataset"
   ]
  },
  {
   "cell_type": "code",
   "execution_count": 2,
   "id": "f323f89c",
   "metadata": {},
   "outputs": [],
   "source": [
    "## Insert code for downloading the ORIGINAL json file"
   ]
  },
  {
   "cell_type": "markdown",
   "id": "2a3d5b97",
   "metadata": {},
   "source": [
    "## Subsample the Dataset\n",
    "\n",
    "Because this dataset contains 2.3 million entries, we will subsample down to 100,000 so that we don't have to download too many book covers."
   ]
  },
  {
   "cell_type": "code",
   "execution_count": 3,
   "id": "a10febc9",
   "metadata": {
    "scrolled": true
   },
   "outputs": [
    {
     "name": "stdout",
     "output_type": "stream",
     "text": [
      "63672 of 100000 drawn.\n",
      "86939 of 100000 drawn.\n",
      "95347 of 100000 drawn.\n",
      "98301 of 100000 drawn.\n",
      "100457 of 100000 drawn.\n",
      "Paring down samples to 100000.\n"
     ]
    }
   ],
   "source": [
    "subsample_json('./data/goodreads_books.json', './data/goodreads_books_100000.json', min_ratings=100, samples=100000)"
   ]
  },
  {
   "cell_type": "markdown",
   "id": "06c00524",
   "metadata": {},
   "source": [
    "## Download the Associated Book Covers"
   ]
  },
  {
   "cell_type": "code",
   "execution_count": 4,
   "id": "aef5cefb",
   "metadata": {
    "scrolled": true
   },
   "outputs": [
    {
     "name": "stdout",
     "output_type": "stream",
     "text": [
      "Downloading cover art with multithreading to \"/home/adam/Documents/bestreads/notebooks/data/covers\"...\n"
     ]
    },
    {
     "name": "stderr",
     "output_type": "stream",
     "text": [
      "100%|███████████████████████████████████| 100000/100000 [28:36<00:00, 58.27it/s]\n"
     ]
    }
   ],
   "source": [
    "cover_info = get_img_info_json('./data/goodreads_books_100000.json')\n",
    "download_covers(cover_info['image_url'], cover_info['book_id'])"
   ]
  },
  {
   "cell_type": "markdown",
   "id": "586ddb6b",
   "metadata": {},
   "source": [
    "## Perform Train-Test-Validation Splitting"
   ]
  },
  {
   "cell_type": "code",
   "execution_count": 7,
   "id": "eea711eb",
   "metadata": {
    "scrolled": true
   },
   "outputs": [
    {
     "name": "stderr",
     "output_type": "stream",
     "text": [
      "  2%|▌                                  | 1549/100000 [00:00<00:45, 2179.57it/s]"
     ]
    },
    {
     "name": "stdout",
     "output_type": "stream",
     "text": [
      "./data/covers/26170028.jpg unreadable.\n"
     ]
    },
    {
     "name": "stderr",
     "output_type": "stream",
     "text": [
      " 17%|█████▊                            | 16924/100000 [00:07<00:37, 2194.30it/s]"
     ]
    },
    {
     "name": "stdout",
     "output_type": "stream",
     "text": [
      "./data/covers/18870315.jpg unreadable.\n"
     ]
    },
    {
     "name": "stderr",
     "output_type": "stream",
     "text": [
      " 33%|███████████                       | 32696/100000 [00:15<00:32, 2042.45it/s]"
     ]
    },
    {
     "name": "stdout",
     "output_type": "stream",
     "text": [
      "./data/covers/07898607.jpg unreadable.\n"
     ]
    },
    {
     "name": "stderr",
     "output_type": "stream",
     "text": [
      "100%|█████████████████████████████████| 100000/100000 [00:47<00:00, 2085.45it/s]\n"
     ]
    }
   ],
   "source": [
    "book_data = cnn.get_data_from_json('./data/goodreads_books_100000.json')\n",
    "cnn.split_train_val_test_data(book_data)"
   ]
  },
  {
   "cell_type": "code",
   "execution_count": null,
   "id": "64d17624",
   "metadata": {},
   "outputs": [],
   "source": []
  }
 ],
 "metadata": {
  "kernelspec": {
   "display_name": "Python 3 (ipykernel)",
   "language": "python",
   "name": "python3"
  },
  "language_info": {
   "codemirror_mode": {
    "name": "ipython",
    "version": 3
   },
   "file_extension": ".py",
   "mimetype": "text/x-python",
   "name": "python",
   "nbconvert_exporter": "python",
   "pygments_lexer": "ipython3",
   "version": "3.7.1"
  }
 },
 "nbformat": 4,
 "nbformat_minor": 5
}
