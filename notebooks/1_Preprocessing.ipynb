{
 "cells": [
  {
   "cell_type": "markdown",
   "id": "9c5889cc",
   "metadata": {},
   "source": [
    "# Preprocessing"
   ]
  },
  {
   "cell_type": "code",
   "execution_count": 1,
   "id": "26ea6f89",
   "metadata": {},
   "outputs": [],
   "source": [
    "import os\n",
    "import bestreads.text as text\n",
    "import pandas as pd\n",
    "from sklearn.model_selection import train_test_split\n",
    "\n",
    "data = pd.read_csv('../data/goodreads_books.csv')\n",
    "data_train = data.sample(frac = 0.9, random_state = 111)\n",
    "data_test = data.drop(data_train.index)"
   ]
  },
  {
   "cell_type": "markdown",
   "id": "73b66253",
   "metadata": {},
   "source": [
    "## Train-Test Set Splits"
   ]
  },
  {
   "cell_type": "code",
   "execution_count": 2,
   "id": "f0212a3b",
   "metadata": {},
   "outputs": [],
   "source": [
    "savedir = '../data/processed/'\n",
    "os.makedirs(savedir, exist_ok=True)\n",
    "data_train.to_csv(savedir + 'goodreads_books_train.csv', index = False)\n",
    "data_test.to_csv(savedir + 'goodreads_books_test.csv', index = False)\n",
    "data_train.reset_index(inplace=True)\n",
    "data_test.reset_index(inplace=True)"
   ]
  },
  {
   "cell_type": "markdown",
   "id": "afbe8710",
   "metadata": {},
   "source": [
    "## Text Cleaning"
   ]
  },
  {
   "cell_type": "code",
   "execution_count": 3,
   "id": "c5cc918d",
   "metadata": {},
   "outputs": [],
   "source": [
    "is_english_description_train = text.is_english(data_train['description'])\n",
    "english_descriptions_train = data_train.description[is_english_description_train]\n",
    "cleaned_descriptions_train = text.clean_text(english_descriptions_train)\n",
    "is_english_description_train = is_english_description_train.rename('is_english_description',)\n",
    "cleaned_descriptions_train = cleaned_descriptions_train.rename('cleaned_descriptions')\n",
    "\n",
    "is_english_description_test = text.is_english(data_test['description'])\n",
    "english_descriptions_test = data_test.description[is_english_description_test]\n",
    "cleaned_descriptions_test = text.clean_text(english_descriptions_test)\n",
    "is_english_description_test = is_english_description_test.rename('is_english_description')\n",
    "cleaned_descriptions_test = cleaned_descriptions_test.rename('cleaned_descriptions')"
   ]
  },
  {
   "cell_type": "markdown",
   "id": "e12809e8",
   "metadata": {},
   "source": [
    "## Grouping Descriptions by Genre"
   ]
  },
  {
   "cell_type": "code",
   "execution_count": 4,
   "id": "680680e7",
   "metadata": {},
   "outputs": [
    {
     "name": "stderr",
     "output_type": "stream",
     "text": [
      "/Users/ajy/GDrive/code/dsml/projects/br/bestreads/bestreads/text.py:134: RuntimeWarning: NaN values detected in genre_and_votes; these will beskipped\n",
      "  warnings.warn('NaN values detected in genre_and_votes; these will be'\n",
      "100%|██████████| 39529/39529 [00:00<00:00, 42109.55it/s]\n",
      "100%|██████████| 4408/4408 [00:00<00:00, 41277.34it/s]\n"
     ]
    }
   ],
   "source": [
    "genre_and_votes_train = text.get_genres(data_train.genre_and_votes[is_english_description_train])\n",
    "genre_and_votes_test = text.get_genres(data_test.genre_and_votes[is_english_description_test])\n",
    "combined = text.combine_genres(genre_and_votes_train.genre_1, cleaned_descriptions_train)"
   ]
  },
  {
   "cell_type": "markdown",
   "id": "fcaa2ec3",
   "metadata": {},
   "source": [
    "## Calculating TF-IDF"
   ]
  },
  {
   "cell_type": "code",
   "execution_count": 10,
   "id": "da387d30",
   "metadata": {
    "scrolled": true
   },
   "outputs": [
    {
     "name": "stderr",
     "output_type": "stream",
     "text": [
      "100%|██████████| 186/186 [00:53<00:00,  3.49it/s]\n"
     ]
    },
    {
     "data": {
      "text/html": [
       "<div>\n",
       "<style scoped>\n",
       "    .dataframe tbody tr th:only-of-type {\n",
       "        vertical-align: middle;\n",
       "    }\n",
       "\n",
       "    .dataframe tbody tr th {\n",
       "        vertical-align: top;\n",
       "    }\n",
       "\n",
       "    .dataframe thead th {\n",
       "        text-align: right;\n",
       "    }\n",
       "</style>\n",
       "<table border=\"1\" class=\"dataframe\">\n",
       "  <thead>\n",
       "    <tr style=\"text-align: right;\">\n",
       "      <th></th>\n",
       "      <th>Social Issues</th>\n",
       "      <th>Textbooks</th>\n",
       "      <th>Philosophy</th>\n",
       "      <th>Suspense</th>\n",
       "      <th>World War II</th>\n",
       "      <th>Adult Fiction</th>\n",
       "      <th>Paranormal</th>\n",
       "      <th>Epic</th>\n",
       "      <th>Womens Fiction</th>\n",
       "      <th>Love</th>\n",
       "      <th>...</th>\n",
       "      <th>New York</th>\n",
       "      <th>Realistic Fiction</th>\n",
       "      <th>Linguistics</th>\n",
       "      <th>Teaching</th>\n",
       "      <th>Fan Fiction</th>\n",
       "      <th>Inspirational</th>\n",
       "      <th>Combat</th>\n",
       "      <th>Biography Memoir</th>\n",
       "      <th>Historical</th>\n",
       "      <th>Nurses</th>\n",
       "    </tr>\n",
       "  </thead>\n",
       "  <tbody>\n",
       "    <tr>\n",
       "      <th>jimmi</th>\n",
       "      <td>0.029893</td>\n",
       "      <td>0.000000</td>\n",
       "      <td>0.000000</td>\n",
       "      <td>0.000000</td>\n",
       "      <td>0.000000</td>\n",
       "      <td>0.000000</td>\n",
       "      <td>0.000000</td>\n",
       "      <td>0.000000</td>\n",
       "      <td>0.000211</td>\n",
       "      <td>0.000000</td>\n",
       "      <td>...</td>\n",
       "      <td>0.000000</td>\n",
       "      <td>0.000599</td>\n",
       "      <td>0.0</td>\n",
       "      <td>0.000000</td>\n",
       "      <td>0.000000</td>\n",
       "      <td>0.0</td>\n",
       "      <td>0.00000</td>\n",
       "      <td>0.000000</td>\n",
       "      <td>0.000105</td>\n",
       "      <td>0.000000</td>\n",
       "    </tr>\n",
       "    <tr>\n",
       "      <th>reev</th>\n",
       "      <td>0.066318</td>\n",
       "      <td>0.000000</td>\n",
       "      <td>0.000000</td>\n",
       "      <td>0.000000</td>\n",
       "      <td>0.000000</td>\n",
       "      <td>0.000000</td>\n",
       "      <td>0.000000</td>\n",
       "      <td>0.000000</td>\n",
       "      <td>0.000000</td>\n",
       "      <td>0.000000</td>\n",
       "      <td>...</td>\n",
       "      <td>0.000000</td>\n",
       "      <td>0.000000</td>\n",
       "      <td>0.0</td>\n",
       "      <td>0.000000</td>\n",
       "      <td>0.000000</td>\n",
       "      <td>0.0</td>\n",
       "      <td>0.00000</td>\n",
       "      <td>0.000000</td>\n",
       "      <td>0.000000</td>\n",
       "      <td>0.000000</td>\n",
       "    </tr>\n",
       "    <tr>\n",
       "      <th>hi</th>\n",
       "      <td>0.009979</td>\n",
       "      <td>0.001744</td>\n",
       "      <td>0.003034</td>\n",
       "      <td>0.004364</td>\n",
       "      <td>0.001421</td>\n",
       "      <td>0.003667</td>\n",
       "      <td>0.002613</td>\n",
       "      <td>0.003647</td>\n",
       "      <td>0.000906</td>\n",
       "      <td>0.000769</td>\n",
       "      <td>...</td>\n",
       "      <td>0.001648</td>\n",
       "      <td>0.002439</td>\n",
       "      <td>0.0</td>\n",
       "      <td>0.000898</td>\n",
       "      <td>0.002154</td>\n",
       "      <td>0.0</td>\n",
       "      <td>0.01031</td>\n",
       "      <td>0.000422</td>\n",
       "      <td>0.002976</td>\n",
       "      <td>0.001988</td>\n",
       "    </tr>\n",
       "    <tr>\n",
       "      <th>luck</th>\n",
       "      <td>0.021380</td>\n",
       "      <td>0.000000</td>\n",
       "      <td>0.000000</td>\n",
       "      <td>0.000000</td>\n",
       "      <td>0.000666</td>\n",
       "      <td>0.000102</td>\n",
       "      <td>0.000088</td>\n",
       "      <td>0.000000</td>\n",
       "      <td>0.000252</td>\n",
       "      <td>0.000000</td>\n",
       "      <td>...</td>\n",
       "      <td>0.000000</td>\n",
       "      <td>0.000000</td>\n",
       "      <td>0.0</td>\n",
       "      <td>0.000000</td>\n",
       "      <td>0.000000</td>\n",
       "      <td>0.0</td>\n",
       "      <td>0.00000</td>\n",
       "      <td>0.000000</td>\n",
       "      <td>0.000144</td>\n",
       "      <td>0.000000</td>\n",
       "    </tr>\n",
       "    <tr>\n",
       "      <th>wildlif</th>\n",
       "      <td>0.032555</td>\n",
       "      <td>0.000000</td>\n",
       "      <td>0.000000</td>\n",
       "      <td>0.000000</td>\n",
       "      <td>0.000000</td>\n",
       "      <td>0.000000</td>\n",
       "      <td>0.000000</td>\n",
       "      <td>0.000000</td>\n",
       "      <td>0.000000</td>\n",
       "      <td>0.000000</td>\n",
       "      <td>...</td>\n",
       "      <td>0.000000</td>\n",
       "      <td>0.000000</td>\n",
       "      <td>0.0</td>\n",
       "      <td>0.000000</td>\n",
       "      <td>0.000000</td>\n",
       "      <td>0.0</td>\n",
       "      <td>0.00000</td>\n",
       "      <td>0.000000</td>\n",
       "      <td>0.000021</td>\n",
       "      <td>0.000000</td>\n",
       "    </tr>\n",
       "  </tbody>\n",
       "</table>\n",
       "<p>5 rows × 186 columns</p>\n",
       "</div>"
      ],
      "text/plain": [
       "         Social Issues  Textbooks  Philosophy  Suspense  World War II  \\\n",
       "jimmi         0.029893   0.000000    0.000000  0.000000      0.000000   \n",
       "reev          0.066318   0.000000    0.000000  0.000000      0.000000   \n",
       "hi            0.009979   0.001744    0.003034  0.004364      0.001421   \n",
       "luck          0.021380   0.000000    0.000000  0.000000      0.000666   \n",
       "wildlif       0.032555   0.000000    0.000000  0.000000      0.000000   \n",
       "\n",
       "         Adult Fiction  Paranormal      Epic  Womens Fiction      Love  ...  \\\n",
       "jimmi         0.000000    0.000000  0.000000        0.000211  0.000000  ...   \n",
       "reev          0.000000    0.000000  0.000000        0.000000  0.000000  ...   \n",
       "hi            0.003667    0.002613  0.003647        0.000906  0.000769  ...   \n",
       "luck          0.000102    0.000088  0.000000        0.000252  0.000000  ...   \n",
       "wildlif       0.000000    0.000000  0.000000        0.000000  0.000000  ...   \n",
       "\n",
       "         New York  Realistic Fiction  Linguistics  Teaching  Fan Fiction  \\\n",
       "jimmi    0.000000           0.000599          0.0  0.000000     0.000000   \n",
       "reev     0.000000           0.000000          0.0  0.000000     0.000000   \n",
       "hi       0.001648           0.002439          0.0  0.000898     0.002154   \n",
       "luck     0.000000           0.000000          0.0  0.000000     0.000000   \n",
       "wildlif  0.000000           0.000000          0.0  0.000000     0.000000   \n",
       "\n",
       "         Inspirational   Combat  Biography Memoir  Historical    Nurses  \n",
       "jimmi              0.0  0.00000          0.000000    0.000105  0.000000  \n",
       "reev               0.0  0.00000          0.000000    0.000000  0.000000  \n",
       "hi                 0.0  0.01031          0.000422    0.002976  0.001988  \n",
       "luck               0.0  0.00000          0.000000    0.000144  0.000000  \n",
       "wildlif            0.0  0.00000          0.000000    0.000021  0.000000  \n",
       "\n",
       "[5 rows x 186 columns]"
      ]
     },
     "execution_count": 10,
     "metadata": {},
     "output_type": "execute_result"
    }
   ],
   "source": [
    "tf_idf_table_train = text.tf_idf(combined)\n",
    "\n",
    "# Here, we save the index because each index is a word\n",
    "tf_idf_table_train.to_csv(savedir + 'tf_idf_table_train.csv', index_label='word')\n",
    "tf_idf_table_train.head()"
   ]
  },
  {
   "cell_type": "code",
   "execution_count": 6,
   "id": "a41a0dff",
   "metadata": {
    "scrolled": true
   },
   "outputs": [],
   "source": [
    "# Save the training data\n",
    "processed_data_train = (is_english_description_train.to_frame()\n",
    "                        .merge(cleaned_descriptions_train,\n",
    "                               left_index=True, right_index=True,\n",
    "                               validate='1:1')\n",
    "                        .merge(genre_and_votes_train,\n",
    "                               left_index=True, right_index=True,\n",
    "                               validate='1:1'))\n",
    "\n",
    "# Here, we save the index because some rows are now missing due to\n",
    "# english language selection\n",
    "processed_data_train.to_csv(savedir + 'goodreads_books_train_processed.csv', \n",
    "                            index_label='index')\n",
    "\n",
    "# Save the test data\n",
    "processed_data_test = (is_english_description_test.to_frame()\n",
    "                        .merge(cleaned_descriptions_test,\n",
    "                               left_index=True, right_index=True,\n",
    "                               validate='1:1')\n",
    "                        .merge(genre_and_votes_test,\n",
    "                               left_index=True, right_index=True,\n",
    "                               validate='1:1'))\n",
    "\n",
    "# Here, we save the index because some rows are now missing due to\n",
    "# english language selection\n",
    "processed_data_test.to_csv(savedir + 'goodreads_books_test_processed.csv', \n",
    "                           index_label='index')"
   ]
  },
  {
   "cell_type": "code",
   "execution_count": null,
   "id": "ea14375d",
   "metadata": {},
   "outputs": [],
   "source": []
  }
 ],
 "metadata": {
  "kernelspec": {
   "display_name": "Python 3 (ipykernel)",
   "language": "python",
   "name": "python3"
  },
  "language_info": {
   "codemirror_mode": {
    "name": "ipython",
    "version": 3
   },
   "file_extension": ".py",
   "mimetype": "text/x-python",
   "name": "python",
   "nbconvert_exporter": "python",
   "pygments_lexer": "ipython3",
   "version": "3.10.4"
  }
 },
 "nbformat": 4,
 "nbformat_minor": 5
}
