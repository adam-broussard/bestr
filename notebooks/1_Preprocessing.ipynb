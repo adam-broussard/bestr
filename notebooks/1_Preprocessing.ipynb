{
 "cells": [
  {
   "cell_type": "markdown",
   "id": "9c5889cc",
   "metadata": {},
   "source": [
    "# Preprocessing"
   ]
  },
  {
   "cell_type": "code",
   "execution_count": 1,
   "id": "26ea6f89",
   "metadata": {},
   "outputs": [],
   "source": [
    "import os\n",
    "import bestreads.text as text\n",
    "import pandas as pd\n",
    "from sklearn.model_selection import train_test_split\n",
    "\n",
    "data = pd.read_csv('./data/goodreads_books.csv')\n",
    "data_train = data.sample(frac = 0.9, random_state = 111)\n",
    "data_test = data.drop(data_train.index)"
   ]
  },
  {
   "cell_type": "markdown",
   "id": "73b66253",
   "metadata": {},
   "source": [
    "## Train-Test Set Splits"
   ]
  },
  {
   "cell_type": "code",
   "execution_count": 2,
   "id": "f0212a3b",
   "metadata": {},
   "outputs": [],
   "source": [
    "savedir = './data/processed/'\n",
    "os.makedirs(savedir, exist_ok=True)\n",
    "data_train.to_csv(savedir + 'goodreads_books_train.csv', index = False)\n",
    "data_test.to_csv(savedir + 'goodreads_books_test.csv', index = False)\n",
    "data_train.reset_index(inplace=True)\n",
    "data_test.reset_index(inplace=True)"
   ]
  },
  {
   "cell_type": "markdown",
   "id": "afbe8710",
   "metadata": {},
   "source": [
    "## Text Cleaning"
   ]
  },
  {
   "cell_type": "code",
   "execution_count": 3,
   "id": "c5cc918d",
   "metadata": {},
   "outputs": [],
   "source": [
    "data_train = text.add_english_column(data_train)\n",
    "english_descriptions = data_train.description[data_train.english_description]\n",
    "cleaned_descriptions = text.clean_text(english_descriptions)"
   ]
  },
  {
   "cell_type": "markdown",
   "id": "e12809e8",
   "metadata": {},
   "source": [
    "## Grouping Descriptions by Genre"
   ]
  },
  {
   "cell_type": "code",
   "execution_count": 4,
   "id": "680680e7",
   "metadata": {},
   "outputs": [
    {
     "name": "stderr",
     "output_type": "stream",
     "text": [
      "/home/adam/Documents/bestreads/bestreads/text.py:81: RuntimeWarning: NaN values detected in genre_and_votes; these will beskipped\n",
      "  + 'skipped', category=RuntimeWarning)\n",
      "100%|████████████████████████████████████████████████| 39530/39530 [00:01<00:00, 30413.75it/s]\n"
     ]
    }
   ],
   "source": [
    "genre_and_votes = text.get_genres(data_train.genre_and_votes[data_train.english_description])\n",
    "combined = text.combine_genres(genre_and_votes.genre_1, cleaned_descriptions)"
   ]
  },
  {
   "cell_type": "markdown",
   "id": "fcaa2ec3",
   "metadata": {},
   "source": [
    "## Calculating TF-IDF"
   ]
  },
  {
   "cell_type": "code",
   "execution_count": 5,
   "id": "da387d30",
   "metadata": {
    "scrolled": true
   },
   "outputs": [
    {
     "name": "stderr",
     "output_type": "stream",
     "text": [
      "100%|███████████████████████████████████████████████████████| 186/186 [00:55<00:00,  3.32it/s]\n"
     ]
    },
    {
     "data": {
      "text/html": [
       "<div>\n",
       "<style scoped>\n",
       "    .dataframe tbody tr th:only-of-type {\n",
       "        vertical-align: middle;\n",
       "    }\n",
       "\n",
       "    .dataframe tbody tr th {\n",
       "        vertical-align: top;\n",
       "    }\n",
       "\n",
       "    .dataframe thead th {\n",
       "        text-align: right;\n",
       "    }\n",
       "</style>\n",
       "<table border=\"1\" class=\"dataframe\">\n",
       "  <thead>\n",
       "    <tr style=\"text-align: right;\">\n",
       "      <th></th>\n",
       "      <th>Adult</th>\n",
       "      <th>Realistic Fiction</th>\n",
       "      <th>Dungeons and Dragons</th>\n",
       "      <th>Music</th>\n",
       "      <th>Philosophy</th>\n",
       "      <th>Anthropology</th>\n",
       "      <th>Family</th>\n",
       "      <th>Polyamorous</th>\n",
       "      <th>Historical</th>\n",
       "      <th>Parenting</th>\n",
       "      <th>...</th>\n",
       "      <th>Science Fiction</th>\n",
       "      <th>Central Africa</th>\n",
       "      <th>Military History</th>\n",
       "      <th>Currency</th>\n",
       "      <th>Law</th>\n",
       "      <th>Manga</th>\n",
       "      <th>History</th>\n",
       "      <th>Academic</th>\n",
       "      <th>Military</th>\n",
       "      <th>Audiobook</th>\n",
       "    </tr>\n",
       "  </thead>\n",
       "  <tbody>\n",
       "    <tr>\n",
       "      <th>karma</th>\n",
       "      <td>0.004611</td>\n",
       "      <td>0.000000</td>\n",
       "      <td>0.0</td>\n",
       "      <td>0.000000</td>\n",
       "      <td>0.000000</td>\n",
       "      <td>0.0</td>\n",
       "      <td>0.000000</td>\n",
       "      <td>0.0</td>\n",
       "      <td>0.000000</td>\n",
       "      <td>0.0</td>\n",
       "      <td>...</td>\n",
       "      <td>0.000000</td>\n",
       "      <td>0.0</td>\n",
       "      <td>0.0</td>\n",
       "      <td>0.0</td>\n",
       "      <td>0.0</td>\n",
       "      <td>0.0</td>\n",
       "      <td>0.000000</td>\n",
       "      <td>0.0</td>\n",
       "      <td>0.000000</td>\n",
       "      <td>0.0</td>\n",
       "    </tr>\n",
       "    <tr>\n",
       "      <th>bitch</th>\n",
       "      <td>0.003954</td>\n",
       "      <td>0.000000</td>\n",
       "      <td>0.0</td>\n",
       "      <td>0.000000</td>\n",
       "      <td>0.000000</td>\n",
       "      <td>0.0</td>\n",
       "      <td>0.000000</td>\n",
       "      <td>0.0</td>\n",
       "      <td>0.000000</td>\n",
       "      <td>0.0</td>\n",
       "      <td>...</td>\n",
       "      <td>0.000029</td>\n",
       "      <td>0.0</td>\n",
       "      <td>0.0</td>\n",
       "      <td>0.0</td>\n",
       "      <td>0.0</td>\n",
       "      <td>0.0</td>\n",
       "      <td>0.000000</td>\n",
       "      <td>0.0</td>\n",
       "      <td>0.000000</td>\n",
       "      <td>0.0</td>\n",
       "    </tr>\n",
       "    <tr>\n",
       "      <th>jgail</th>\n",
       "      <td>0.009057</td>\n",
       "      <td>0.000000</td>\n",
       "      <td>0.0</td>\n",
       "      <td>0.000000</td>\n",
       "      <td>0.000000</td>\n",
       "      <td>0.0</td>\n",
       "      <td>0.000000</td>\n",
       "      <td>0.0</td>\n",
       "      <td>0.000000</td>\n",
       "      <td>0.0</td>\n",
       "      <td>...</td>\n",
       "      <td>0.000000</td>\n",
       "      <td>0.0</td>\n",
       "      <td>0.0</td>\n",
       "      <td>0.0</td>\n",
       "      <td>0.0</td>\n",
       "      <td>0.0</td>\n",
       "      <td>0.000000</td>\n",
       "      <td>0.0</td>\n",
       "      <td>0.000000</td>\n",
       "      <td>0.0</td>\n",
       "    </tr>\n",
       "    <tr>\n",
       "      <th>ruin</th>\n",
       "      <td>0.002020</td>\n",
       "      <td>0.000227</td>\n",
       "      <td>0.0</td>\n",
       "      <td>0.000162</td>\n",
       "      <td>0.000051</td>\n",
       "      <td>0.0</td>\n",
       "      <td>0.001812</td>\n",
       "      <td>0.0</td>\n",
       "      <td>0.000316</td>\n",
       "      <td>0.0</td>\n",
       "      <td>...</td>\n",
       "      <td>0.000328</td>\n",
       "      <td>0.0</td>\n",
       "      <td>0.0</td>\n",
       "      <td>0.0</td>\n",
       "      <td>0.0</td>\n",
       "      <td>0.0</td>\n",
       "      <td>0.000115</td>\n",
       "      <td>0.0</td>\n",
       "      <td>0.000000</td>\n",
       "      <td>0.0</td>\n",
       "    </tr>\n",
       "    <tr>\n",
       "      <th>5th</th>\n",
       "      <td>0.002182</td>\n",
       "      <td>0.000000</td>\n",
       "      <td>0.0</td>\n",
       "      <td>0.000000</td>\n",
       "      <td>0.000000</td>\n",
       "      <td>0.0</td>\n",
       "      <td>0.000000</td>\n",
       "      <td>0.0</td>\n",
       "      <td>0.000024</td>\n",
       "      <td>0.0</td>\n",
       "      <td>...</td>\n",
       "      <td>0.000031</td>\n",
       "      <td>0.0</td>\n",
       "      <td>0.0</td>\n",
       "      <td>0.0</td>\n",
       "      <td>0.0</td>\n",
       "      <td>0.0</td>\n",
       "      <td>0.000000</td>\n",
       "      <td>0.0</td>\n",
       "      <td>0.029276</td>\n",
       "      <td>0.0</td>\n",
       "    </tr>\n",
       "  </tbody>\n",
       "</table>\n",
       "<p>5 rows × 186 columns</p>\n",
       "</div>"
      ],
      "text/plain": [
       "          Adult  Realistic Fiction  Dungeons and Dragons     Music  \\\n",
       "karma  0.004611           0.000000                   0.0  0.000000   \n",
       "bitch  0.003954           0.000000                   0.0  0.000000   \n",
       "jgail  0.009057           0.000000                   0.0  0.000000   \n",
       "ruin   0.002020           0.000227                   0.0  0.000162   \n",
       "5th    0.002182           0.000000                   0.0  0.000000   \n",
       "\n",
       "       Philosophy  Anthropology    Family  Polyamorous  Historical  Parenting  \\\n",
       "karma    0.000000           0.0  0.000000          0.0    0.000000        0.0   \n",
       "bitch    0.000000           0.0  0.000000          0.0    0.000000        0.0   \n",
       "jgail    0.000000           0.0  0.000000          0.0    0.000000        0.0   \n",
       "ruin     0.000051           0.0  0.001812          0.0    0.000316        0.0   \n",
       "5th      0.000000           0.0  0.000000          0.0    0.000024        0.0   \n",
       "\n",
       "       ...  Science Fiction  Central Africa  Military History  Currency  Law  \\\n",
       "karma  ...         0.000000             0.0               0.0       0.0  0.0   \n",
       "bitch  ...         0.000029             0.0               0.0       0.0  0.0   \n",
       "jgail  ...         0.000000             0.0               0.0       0.0  0.0   \n",
       "ruin   ...         0.000328             0.0               0.0       0.0  0.0   \n",
       "5th    ...         0.000031             0.0               0.0       0.0  0.0   \n",
       "\n",
       "       Manga   History  Academic  Military  Audiobook  \n",
       "karma    0.0  0.000000       0.0  0.000000        0.0  \n",
       "bitch    0.0  0.000000       0.0  0.000000        0.0  \n",
       "jgail    0.0  0.000000       0.0  0.000000        0.0  \n",
       "ruin     0.0  0.000115       0.0  0.000000        0.0  \n",
       "5th      0.0  0.000000       0.0  0.029276        0.0  \n",
       "\n",
       "[5 rows x 186 columns]"
      ]
     },
     "execution_count": 5,
     "metadata": {},
     "output_type": "execute_result"
    }
   ],
   "source": [
    "tf_idf_table_train = text.tf_idf(combined)\n",
    "\n",
    "# Here, we save the index because each index is a word\n",
    "tf_idf_table_train.to_csv(savedir + 'tf_idf_table_train.csv')\n",
    "tf_idf_table_train.head()"
   ]
  },
  {
   "cell_type": "code",
   "execution_count": 6,
   "id": "a41a0dff",
   "metadata": {
    "scrolled": true
   },
   "outputs": [],
   "source": [
    "processed_data_train = (data_train.english_description.to_frame()\n",
    "                        .merge(cleaned_descriptions,\n",
    "                               left_index=True, right_index=True,\n",
    "                               validate='1:1')\n",
    "                        .merge(genre_and_votes,\n",
    "                               left_index=True, right_index=True,\n",
    "                               validate='1:1'))\n",
    "\n",
    "# Here, we save the index because some rows are now missing due to\n",
    "# english language selection\n",
    "processed_data_train.to_csv(savedir + 'goodreads_books_train_processed.csv')"
   ]
  },
  {
   "cell_type": "code",
   "execution_count": null,
   "id": "4b7a87e3",
   "metadata": {},
   "outputs": [],
   "source": []
  }
 ],
 "metadata": {
  "kernelspec": {
   "display_name": "Python 3 (ipykernel)",
   "language": "python",
   "name": "python3"
  },
  "language_info": {
   "codemirror_mode": {
    "name": "ipython",
    "version": 3
   },
   "file_extension": ".py",
   "mimetype": "text/x-python",
   "name": "python",
   "nbconvert_exporter": "python",
   "pygments_lexer": "ipython3",
   "version": "3.7.13"
  }
 },
 "nbformat": 4,
 "nbformat_minor": 5
}
