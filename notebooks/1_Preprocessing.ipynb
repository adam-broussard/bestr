{
 "cells": [
  {
   "cell_type": "markdown",
   "id": "9c5889cc",
   "metadata": {},
   "source": [
    "# Preprocessing"
   ]
  },
  {
   "cell_type": "code",
   "execution_count": 3,
   "id": "26ea6f89",
   "metadata": {},
   "outputs": [],
   "source": [
    "import os\n",
    "import bestreads.text as text\n",
    "import pandas as pd\n",
    "from sklearn.model_selection import train_test_split\n",
    "\n",
    "data = pd.read_csv('../data/goodreads_books.csv')\n",
    "data_train = data.sample(frac = 0.9, random_state = 111)\n",
    "data_test = data.drop(data_train.index)"
   ]
  },
  {
   "cell_type": "markdown",
   "id": "73b66253",
   "metadata": {},
   "source": [
    "## Train-Test Set Splits"
   ]
  },
  {
   "cell_type": "code",
   "execution_count": 4,
   "id": "f0212a3b",
   "metadata": {},
   "outputs": [],
   "source": [
    "savedir = '../data/processed/'\n",
    "os.makedirs(savedir, exist_ok=True)\n",
    "data_train.to_csv(savedir + 'goodreads_books_train.csv', index = False)\n",
    "data_test.to_csv(savedir + 'goodreads_books_test.csv', index = False)\n",
    "data_train.reset_index(inplace=True)\n",
    "data_test.reset_index(inplace=True)"
   ]
  },
  {
   "cell_type": "markdown",
   "id": "afbe8710",
   "metadata": {},
   "source": [
    "## Text Cleaning"
   ]
  },
  {
   "cell_type": "code",
   "execution_count": 5,
   "id": "c5cc918d",
   "metadata": {},
   "outputs": [],
   "source": [
    "is_english_description = text.is_english(data_train['description'])\n",
    "english_descriptions = data_train.description[is_english_description]\n",
    "cleaned_descriptions = text.clean_text(english_descriptions)"
   ]
  },
  {
   "cell_type": "markdown",
   "id": "e12809e8",
   "metadata": {},
   "source": [
    "## Grouping Descriptions by Genre"
   ]
  },
  {
   "cell_type": "code",
   "execution_count": 6,
   "id": "680680e7",
   "metadata": {},
   "outputs": [
    {
     "name": "stderr",
     "output_type": "stream",
     "text": [
      "/Users/ajy/GDrive/code/dsml/projects/br/bestreads/bestreads/text.py:134: RuntimeWarning: NaN values detected in genre_and_votes; these will beskipped\n",
      "  warnings.warn('NaN values detected in genre_and_votes; these will be'\n",
      "100%|██████████| 39528/39528 [00:00<00:00, 39783.17it/s]\n"
     ]
    }
   ],
   "source": [
    "genre_and_votes = text.get_genres(data_train.genre_and_votes[is_english_description])\n",
    "combined = text.combine_genres(genre_and_votes.genre_1, cleaned_descriptions)"
   ]
  },
  {
   "cell_type": "markdown",
   "id": "fcaa2ec3",
   "metadata": {},
   "source": [
    "## Calculating TF-IDF"
   ]
  },
  {
   "cell_type": "code",
   "execution_count": 7,
   "id": "da387d30",
   "metadata": {
    "scrolled": true
   },
   "outputs": [
    {
     "name": "stderr",
     "output_type": "stream",
     "text": [
      "100%|██████████| 186/186 [00:49<00:00,  3.77it/s]\n"
     ]
    },
    {
     "data": {
      "text/html": [
       "<div>\n",
       "<style scoped>\n",
       "    .dataframe tbody tr th:only-of-type {\n",
       "        vertical-align: middle;\n",
       "    }\n",
       "\n",
       "    .dataframe tbody tr th {\n",
       "        vertical-align: top;\n",
       "    }\n",
       "\n",
       "    .dataframe thead th {\n",
       "        text-align: right;\n",
       "    }\n",
       "</style>\n",
       "<table border=\"1\" class=\"dataframe\">\n",
       "  <thead>\n",
       "    <tr style=\"text-align: right;\">\n",
       "      <th></th>\n",
       "      <th>Religion</th>\n",
       "      <th>Horror</th>\n",
       "      <th>Womens</th>\n",
       "      <th>Computer Science</th>\n",
       "      <th>Football</th>\n",
       "      <th>Drama</th>\n",
       "      <th>Contemporary</th>\n",
       "      <th>Environment</th>\n",
       "      <th>Roman</th>\n",
       "      <th>History</th>\n",
       "      <th>...</th>\n",
       "      <th>Marriage</th>\n",
       "      <th>Politics</th>\n",
       "      <th>Family Law</th>\n",
       "      <th>Linguistics</th>\n",
       "      <th>Christianity</th>\n",
       "      <th>Comics</th>\n",
       "      <th>Productivity</th>\n",
       "      <th>Asian Literature</th>\n",
       "      <th>Adult Fiction</th>\n",
       "      <th>Currency</th>\n",
       "    </tr>\n",
       "  </thead>\n",
       "  <tbody>\n",
       "    <tr>\n",
       "      <th>much</th>\n",
       "      <td>0.000660</td>\n",
       "      <td>0.000458</td>\n",
       "      <td>0.0</td>\n",
       "      <td>0.000255</td>\n",
       "      <td>0.000622</td>\n",
       "      <td>0.001743</td>\n",
       "      <td>0.001144</td>\n",
       "      <td>0.000498</td>\n",
       "      <td>0.0</td>\n",
       "      <td>0.000642</td>\n",
       "      <td>...</td>\n",
       "      <td>0.0</td>\n",
       "      <td>0.000721</td>\n",
       "      <td>0.0</td>\n",
       "      <td>0.0</td>\n",
       "      <td>0.002286</td>\n",
       "      <td>0.001339</td>\n",
       "      <td>0.0</td>\n",
       "      <td>0.0</td>\n",
       "      <td>0.000977</td>\n",
       "      <td>0.0</td>\n",
       "    </tr>\n",
       "    <tr>\n",
       "      <th>public</th>\n",
       "      <td>0.000501</td>\n",
       "      <td>0.000151</td>\n",
       "      <td>0.0</td>\n",
       "      <td>0.000653</td>\n",
       "      <td>0.000797</td>\n",
       "      <td>0.000248</td>\n",
       "      <td>0.000342</td>\n",
       "      <td>0.001278</td>\n",
       "      <td>0.0</td>\n",
       "      <td>0.000686</td>\n",
       "      <td>...</td>\n",
       "      <td>0.0</td>\n",
       "      <td>0.001480</td>\n",
       "      <td>0.0</td>\n",
       "      <td>0.0</td>\n",
       "      <td>0.000733</td>\n",
       "      <td>0.000000</td>\n",
       "      <td>0.0</td>\n",
       "      <td>0.0</td>\n",
       "      <td>0.000327</td>\n",
       "      <td>0.0</td>\n",
       "    </tr>\n",
       "    <tr>\n",
       "      <th>debat</th>\n",
       "      <td>0.000414</td>\n",
       "      <td>0.000000</td>\n",
       "      <td>0.0</td>\n",
       "      <td>0.000000</td>\n",
       "      <td>0.000000</td>\n",
       "      <td>0.000000</td>\n",
       "      <td>0.000000</td>\n",
       "      <td>0.000000</td>\n",
       "      <td>0.0</td>\n",
       "      <td>0.000565</td>\n",
       "      <td>...</td>\n",
       "      <td>0.0</td>\n",
       "      <td>0.000922</td>\n",
       "      <td>0.0</td>\n",
       "      <td>0.0</td>\n",
       "      <td>0.000000</td>\n",
       "      <td>0.000000</td>\n",
       "      <td>0.0</td>\n",
       "      <td>0.0</td>\n",
       "      <td>0.000000</td>\n",
       "      <td>0.0</td>\n",
       "    </tr>\n",
       "    <tr>\n",
       "      <th>unit</th>\n",
       "      <td>0.000323</td>\n",
       "      <td>0.000344</td>\n",
       "      <td>0.0</td>\n",
       "      <td>0.000000</td>\n",
       "      <td>0.001990</td>\n",
       "      <td>0.000000</td>\n",
       "      <td>0.000488</td>\n",
       "      <td>0.000399</td>\n",
       "      <td>0.0</td>\n",
       "      <td>0.001392</td>\n",
       "      <td>...</td>\n",
       "      <td>0.0</td>\n",
       "      <td>0.002366</td>\n",
       "      <td>0.0</td>\n",
       "      <td>0.0</td>\n",
       "      <td>0.000457</td>\n",
       "      <td>0.000000</td>\n",
       "      <td>0.0</td>\n",
       "      <td>0.0</td>\n",
       "      <td>0.000204</td>\n",
       "      <td>0.0</td>\n",
       "    </tr>\n",
       "    <tr>\n",
       "      <th>state</th>\n",
       "      <td>0.000614</td>\n",
       "      <td>0.000271</td>\n",
       "      <td>0.0</td>\n",
       "      <td>0.000000</td>\n",
       "      <td>0.003238</td>\n",
       "      <td>0.000000</td>\n",
       "      <td>0.000497</td>\n",
       "      <td>0.001622</td>\n",
       "      <td>0.0</td>\n",
       "      <td>0.001628</td>\n",
       "      <td>...</td>\n",
       "      <td>0.0</td>\n",
       "      <td>0.003849</td>\n",
       "      <td>0.0</td>\n",
       "      <td>0.0</td>\n",
       "      <td>0.000372</td>\n",
       "      <td>0.000000</td>\n",
       "      <td>0.0</td>\n",
       "      <td>0.0</td>\n",
       "      <td>0.000166</td>\n",
       "      <td>0.0</td>\n",
       "    </tr>\n",
       "  </tbody>\n",
       "</table>\n",
       "<p>5 rows × 186 columns</p>\n",
       "</div>"
      ],
      "text/plain": [
       "        Religion    Horror  Womens  Computer Science  Football     Drama  \\\n",
       "much    0.000660  0.000458     0.0          0.000255  0.000622  0.001743   \n",
       "public  0.000501  0.000151     0.0          0.000653  0.000797  0.000248   \n",
       "debat   0.000414  0.000000     0.0          0.000000  0.000000  0.000000   \n",
       "unit    0.000323  0.000344     0.0          0.000000  0.001990  0.000000   \n",
       "state   0.000614  0.000271     0.0          0.000000  0.003238  0.000000   \n",
       "\n",
       "        Contemporary  Environment  Roman   History  ...  Marriage  Politics  \\\n",
       "much        0.001144     0.000498    0.0  0.000642  ...       0.0  0.000721   \n",
       "public      0.000342     0.001278    0.0  0.000686  ...       0.0  0.001480   \n",
       "debat       0.000000     0.000000    0.0  0.000565  ...       0.0  0.000922   \n",
       "unit        0.000488     0.000399    0.0  0.001392  ...       0.0  0.002366   \n",
       "state       0.000497     0.001622    0.0  0.001628  ...       0.0  0.003849   \n",
       "\n",
       "        Family Law  Linguistics  Christianity    Comics  Productivity  \\\n",
       "much           0.0          0.0      0.002286  0.001339           0.0   \n",
       "public         0.0          0.0      0.000733  0.000000           0.0   \n",
       "debat          0.0          0.0      0.000000  0.000000           0.0   \n",
       "unit           0.0          0.0      0.000457  0.000000           0.0   \n",
       "state          0.0          0.0      0.000372  0.000000           0.0   \n",
       "\n",
       "        Asian Literature  Adult Fiction  Currency  \n",
       "much                 0.0       0.000977       0.0  \n",
       "public               0.0       0.000327       0.0  \n",
       "debat                0.0       0.000000       0.0  \n",
       "unit                 0.0       0.000204       0.0  \n",
       "state                0.0       0.000166       0.0  \n",
       "\n",
       "[5 rows x 186 columns]"
      ]
     },
     "execution_count": 7,
     "metadata": {},
     "output_type": "execute_result"
    }
   ],
   "source": [
    "tf_idf_table_train = text.tf_idf(combined)\n",
    "\n",
    "# Here, we save the index because each index is a word\n",
    "tf_idf_table_train.to_csv(savedir + 'tf_idf_table_train.csv')\n",
    "tf_idf_table_train.head()"
   ]
  },
  {
   "cell_type": "code",
   "execution_count": 8,
   "id": "a41a0dff",
   "metadata": {
    "scrolled": true
   },
   "outputs": [],
   "source": [
    "processed_data_train = (is_english_description.to_frame()\n",
    "                        .merge(cleaned_descriptions,\n",
    "                               left_index=True, right_index=True,\n",
    "                               validate='1:1')\n",
    "                        .merge(genre_and_votes,\n",
    "                               left_index=True, right_index=True,\n",
    "                               validate='1:1'))\n",
    "\n",
    "# Here, we save the index because some rows are now missing due to\n",
    "# english language selection\n",
    "processed_data_train.to_csv(savedir + 'goodreads_books_train_processed.csv')"
   ]
  },
  {
   "cell_type": "code",
   "execution_count": null,
   "id": "4b7a87e3",
   "metadata": {},
   "outputs": [],
   "source": []
  }
 ],
 "metadata": {
  "kernelspec": {
   "display_name": "Python 3 (ipykernel)",
   "language": "python",
   "name": "python3"
  },
  "language_info": {
   "codemirror_mode": {
    "name": "ipython",
    "version": 3
   },
   "file_extension": ".py",
   "mimetype": "text/x-python",
   "name": "python",
   "nbconvert_exporter": "python",
   "pygments_lexer": "ipython3",
   "version": "3.10.4"
  }
 },
 "nbformat": 4,
 "nbformat_minor": 5
}
