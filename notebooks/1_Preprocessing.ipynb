{
 "cells": [
  {
   "cell_type": "markdown",
   "id": "9c5889cc",
   "metadata": {},
   "source": [
    "# Preprocessing"
   ]
  },
  {
   "cell_type": "code",
   "execution_count": 1,
   "id": "26ea6f89",
   "metadata": {},
   "outputs": [],
   "source": [
    "import os\n",
    "import bestreads.text as text\n",
    "import pandas as pd\n",
    "from sklearn.model_selection import train_test_split\n",
    "\n",
    "data = pd.read_csv('./data/goodreads_books.csv')\n",
    "data_train = data.sample(frac = 0.9, random_state = 111)\n",
    "data_test = data.drop(data_train.index)"
   ]
  },
  {
   "cell_type": "markdown",
   "id": "73b66253",
   "metadata": {},
   "source": [
    "## Train-Test Set Splits"
   ]
  },
  {
   "cell_type": "code",
   "execution_count": 2,
   "id": "f0212a3b",
   "metadata": {},
   "outputs": [],
   "source": [
    "save_dir = './data/processed/'\n",
    "os.makedirs(save_dir, exist_ok=True)\n",
    "data_train.to_csv(save_dir + 'goodreads_books_train.csv', index = False)\n",
    "data_test.to_csv(save_dir + 'goodreads_books_test.csv', index = False)\n",
    "data_train.reset_index(inplace=True)\n",
    "data_test.reset_index(inplace=True)"
   ]
  },
  {
   "cell_type": "markdown",
   "id": "afbe8710",
   "metadata": {},
   "source": [
    "## Text Cleaning"
   ]
  },
  {
   "cell_type": "code",
   "execution_count": 3,
   "id": "c5cc918d",
   "metadata": {},
   "outputs": [],
   "source": [
    "is_english_description_train = text.is_english(data_train['description'])\n",
    "english_descriptions_train = data_train.description[is_english_description_train]\n",
    "cleaned_descriptions_train = text.clean_text(english_descriptions_train)\n",
    "is_english_description_train = is_english_description_train.rename('is_english_description',)\n",
    "cleaned_descriptions_train = cleaned_descriptions_train.rename('cleaned_descriptions')\n",
    "\n",
    "is_english_description_test = text.is_english(data_test['description'])\n",
    "english_descriptions_test = data_test.description[is_english_description_test]\n",
    "cleaned_descriptions_test = text.clean_text(english_descriptions_test)\n",
    "is_english_description_test = is_english_description_test.rename('is_english_description')\n",
    "cleaned_descriptions_test = cleaned_descriptions_test.rename('cleaned_descriptions')"
   ]
  },
  {
   "cell_type": "markdown",
   "id": "e12809e8",
   "metadata": {},
   "source": [
    "## Grouping Descriptions by Genre"
   ]
  },
  {
   "cell_type": "code",
   "execution_count": 4,
   "id": "680680e7",
   "metadata": {},
   "outputs": [
    {
     "name": "stderr",
     "output_type": "stream",
     "text": [
      "/Users/ajy/GDrive/code/dsml/projects/br/bestreads/bestreads/text.py:134: RuntimeWarning: NaN values detected in genre_and_votes; these will beskipped\n",
      "  warnings.warn('NaN values detected in genre_and_votes; these will be'\n",
      "100%|██████████| 39524/39524 [00:00<00:00, 41267.51it/s]\n",
      "100%|██████████| 4407/4407 [00:00<00:00, 38436.40it/s]\n"
     ]
    }
   ],
   "source": [
    "genre_and_votes_train = text.get_genres(data_train.genre_and_votes[is_english_description_train])\n",
    "genre_and_votes_test = text.get_genres(data_test.genre_and_votes[is_english_description_test])\n",
    "combined = text.combine_genres(genre_and_votes_train.genre_1, cleaned_descriptions_train)"
   ]
  },
  {
   "cell_type": "markdown",
   "id": "fcaa2ec3",
   "metadata": {},
   "source": [
    "## Calculating TF-IDF"
   ]
  },
  {
   "cell_type": "code",
   "execution_count": 5,
   "id": "da387d30",
   "metadata": {
    "scrolled": true
   },
   "outputs": [
    {
     "name": "stderr",
     "output_type": "stream",
     "text": [
      "100%|██████████| 186/186 [00:52<00:00,  3.52it/s]\n"
     ]
    },
    {
     "data": {
      "text/html": [
       "<div>\n",
       "<style scoped>\n",
       "    .dataframe tbody tr th:only-of-type {\n",
       "        vertical-align: middle;\n",
       "    }\n",
       "\n",
       "    .dataframe tbody tr th {\n",
       "        vertical-align: top;\n",
       "    }\n",
       "\n",
       "    .dataframe thead th {\n",
       "        text-align: right;\n",
       "    }\n",
       "</style>\n",
       "<table border=\"1\" class=\"dataframe\">\n",
       "  <thead>\n",
       "    <tr style=\"text-align: right;\">\n",
       "      <th></th>\n",
       "      <th>Historical</th>\n",
       "      <th>Textbooks</th>\n",
       "      <th>Alcohol</th>\n",
       "      <th>Pop Culture</th>\n",
       "      <th>Menage</th>\n",
       "      <th>History</th>\n",
       "      <th>Feminism</th>\n",
       "      <th>Marriage</th>\n",
       "      <th>Self Help</th>\n",
       "      <th>Academic</th>\n",
       "      <th>...</th>\n",
       "      <th>Humanities</th>\n",
       "      <th>Parenting</th>\n",
       "      <th>Fantasy</th>\n",
       "      <th>Cultural</th>\n",
       "      <th>Sports</th>\n",
       "      <th>Fairies</th>\n",
       "      <th>Harlequin</th>\n",
       "      <th>Buisness</th>\n",
       "      <th>Biography</th>\n",
       "      <th>African Literature</th>\n",
       "    </tr>\n",
       "  </thead>\n",
       "  <tbody>\n",
       "    <tr>\n",
       "      <th>brilliant</th>\n",
       "      <td>0.000468</td>\n",
       "      <td>0.0</td>\n",
       "      <td>0.0</td>\n",
       "      <td>0.0</td>\n",
       "      <td>0.0</td>\n",
       "      <td>0.000690</td>\n",
       "      <td>0.000421</td>\n",
       "      <td>0.0</td>\n",
       "      <td>0.000194</td>\n",
       "      <td>0.000000</td>\n",
       "      <td>...</td>\n",
       "      <td>0.0</td>\n",
       "      <td>0.000000</td>\n",
       "      <td>0.000206</td>\n",
       "      <td>0.000451</td>\n",
       "      <td>0.000174</td>\n",
       "      <td>0.0</td>\n",
       "      <td>0.0</td>\n",
       "      <td>0.0</td>\n",
       "      <td>0.000654</td>\n",
       "      <td>0.0</td>\n",
       "    </tr>\n",
       "    <tr>\n",
       "      <th>render</th>\n",
       "      <td>0.000194</td>\n",
       "      <td>0.0</td>\n",
       "      <td>0.0</td>\n",
       "      <td>0.0</td>\n",
       "      <td>0.0</td>\n",
       "      <td>0.000170</td>\n",
       "      <td>0.000000</td>\n",
       "      <td>0.0</td>\n",
       "      <td>0.000000</td>\n",
       "      <td>0.000000</td>\n",
       "      <td>...</td>\n",
       "      <td>0.0</td>\n",
       "      <td>0.000000</td>\n",
       "      <td>0.000056</td>\n",
       "      <td>0.000066</td>\n",
       "      <td>0.000094</td>\n",
       "      <td>0.0</td>\n",
       "      <td>0.0</td>\n",
       "      <td>0.0</td>\n",
       "      <td>0.000230</td>\n",
       "      <td>0.0</td>\n",
       "    </tr>\n",
       "    <tr>\n",
       "      <th>scandal</th>\n",
       "      <td>0.000556</td>\n",
       "      <td>0.0</td>\n",
       "      <td>0.0</td>\n",
       "      <td>0.0</td>\n",
       "      <td>0.0</td>\n",
       "      <td>0.000228</td>\n",
       "      <td>0.000294</td>\n",
       "      <td>0.0</td>\n",
       "      <td>0.000000</td>\n",
       "      <td>0.000000</td>\n",
       "      <td>...</td>\n",
       "      <td>0.0</td>\n",
       "      <td>0.000000</td>\n",
       "      <td>0.000029</td>\n",
       "      <td>0.000114</td>\n",
       "      <td>0.000565</td>\n",
       "      <td>0.0</td>\n",
       "      <td>0.0</td>\n",
       "      <td>0.0</td>\n",
       "      <td>0.000357</td>\n",
       "      <td>0.0</td>\n",
       "    </tr>\n",
       "    <tr>\n",
       "      <th>histor</th>\n",
       "      <td>0.001691</td>\n",
       "      <td>0.0</td>\n",
       "      <td>0.0</td>\n",
       "      <td>0.0</td>\n",
       "      <td>0.0</td>\n",
       "      <td>0.001918</td>\n",
       "      <td>0.000910</td>\n",
       "      <td>0.0</td>\n",
       "      <td>0.000000</td>\n",
       "      <td>0.005156</td>\n",
       "      <td>...</td>\n",
       "      <td>0.0</td>\n",
       "      <td>0.000127</td>\n",
       "      <td>0.000079</td>\n",
       "      <td>0.000814</td>\n",
       "      <td>0.000200</td>\n",
       "      <td>0.0</td>\n",
       "      <td>0.0</td>\n",
       "      <td>0.0</td>\n",
       "      <td>0.000393</td>\n",
       "      <td>0.0</td>\n",
       "    </tr>\n",
       "    <tr>\n",
       "      <th>figur</th>\n",
       "      <td>0.000382</td>\n",
       "      <td>0.0</td>\n",
       "      <td>0.0</td>\n",
       "      <td>0.0</td>\n",
       "      <td>0.0</td>\n",
       "      <td>0.000806</td>\n",
       "      <td>0.000179</td>\n",
       "      <td>0.0</td>\n",
       "      <td>0.000276</td>\n",
       "      <td>0.000000</td>\n",
       "      <td>...</td>\n",
       "      <td>0.0</td>\n",
       "      <td>0.000000</td>\n",
       "      <td>0.000324</td>\n",
       "      <td>0.000419</td>\n",
       "      <td>0.000443</td>\n",
       "      <td>0.0</td>\n",
       "      <td>0.0</td>\n",
       "      <td>0.0</td>\n",
       "      <td>0.001645</td>\n",
       "      <td>0.0</td>\n",
       "    </tr>\n",
       "  </tbody>\n",
       "</table>\n",
       "<p>5 rows × 186 columns</p>\n",
       "</div>"
      ],
      "text/plain": [
       "           Historical  Textbooks  Alcohol  Pop Culture  Menage   History  \\\n",
       "brilliant    0.000468        0.0      0.0          0.0     0.0  0.000690   \n",
       "render       0.000194        0.0      0.0          0.0     0.0  0.000170   \n",
       "scandal      0.000556        0.0      0.0          0.0     0.0  0.000228   \n",
       "histor       0.001691        0.0      0.0          0.0     0.0  0.001918   \n",
       "figur        0.000382        0.0      0.0          0.0     0.0  0.000806   \n",
       "\n",
       "           Feminism  Marriage  Self Help  Academic  ...  Humanities  \\\n",
       "brilliant  0.000421       0.0   0.000194  0.000000  ...         0.0   \n",
       "render     0.000000       0.0   0.000000  0.000000  ...         0.0   \n",
       "scandal    0.000294       0.0   0.000000  0.000000  ...         0.0   \n",
       "histor     0.000910       0.0   0.000000  0.005156  ...         0.0   \n",
       "figur      0.000179       0.0   0.000276  0.000000  ...         0.0   \n",
       "\n",
       "           Parenting   Fantasy  Cultural    Sports  Fairies  Harlequin  \\\n",
       "brilliant   0.000000  0.000206  0.000451  0.000174      0.0        0.0   \n",
       "render      0.000000  0.000056  0.000066  0.000094      0.0        0.0   \n",
       "scandal     0.000000  0.000029  0.000114  0.000565      0.0        0.0   \n",
       "histor      0.000127  0.000079  0.000814  0.000200      0.0        0.0   \n",
       "figur       0.000000  0.000324  0.000419  0.000443      0.0        0.0   \n",
       "\n",
       "           Buisness  Biography  African Literature  \n",
       "brilliant       0.0   0.000654                 0.0  \n",
       "render          0.0   0.000230                 0.0  \n",
       "scandal         0.0   0.000357                 0.0  \n",
       "histor          0.0   0.000393                 0.0  \n",
       "figur           0.0   0.001645                 0.0  \n",
       "\n",
       "[5 rows x 186 columns]"
      ]
     },
     "execution_count": 5,
     "metadata": {},
     "output_type": "execute_result"
    }
   ],
   "source": [
    "tf_idf_table_train = text.tf_idf(combined)\n",
    "\n",
    "# Here, we save the index because each index is a word\n",
    "tf_idf_table_train.to_csv(save_dir + 'tf_idf_table_train.csv', index_label='word')\n",
    "tf_idf_table_train.head()"
   ]
  },
  {
   "cell_type": "code",
   "execution_count": 6,
   "id": "a41a0dff",
   "metadata": {
    "scrolled": true
   },
   "outputs": [],
   "source": [
    "# Save the training data\n",
    "processed_data_train = (is_english_description_train.to_frame()\n",
    "                        .merge(cleaned_descriptions_train,\n",
    "                               left_index=True, right_index=True,\n",
    "                               validate='1:1')\n",
    "                        .merge(genre_and_votes_train,\n",
    "                               left_index=True, right_index=True,\n",
    "                               validate='1:1'))\n",
    "\n",
    "# Here, we save the index because some rows are now missing due to\n",
    "# english language selection\n",
    "processed_data_train.to_csv(save_dir + 'goodreads_books_train_processed.csv', \n",
    "                            index_label='index')\n",
    "\n",
    "# Save the test data\n",
    "processed_data_test = (is_english_description_test.to_frame()\n",
    "                        .merge(cleaned_descriptions_test,\n",
    "                               left_index=True, right_index=True,\n",
    "                               validate='1:1')\n",
    "                        .merge(genre_and_votes_test,\n",
    "                               left_index=True, right_index=True,\n",
    "                               validate='1:1'))\n",
    "\n",
    "# Here, we save the index because some rows are now missing due to\n",
    "# english language selection\n",
    "processed_data_test.to_csv(save_dir + 'goodreads_books_test_processed.csv', \n",
    "                           index_label='index')"
   ]
  },
  {
   "cell_type": "code",
   "execution_count": null,
   "id": "ea14375d",
   "metadata": {},
   "outputs": [],
   "source": []
  }
 ],
 "metadata": {
  "kernelspec": {
   "display_name": "Python 3 (ipykernel)",
   "language": "python",
   "name": "python3"
  },
  "language_info": {
   "codemirror_mode": {
    "name": "ipython",
    "version": 3
   },
   "file_extension": ".py",
   "mimetype": "text/x-python",
   "name": "python",
   "nbconvert_exporter": "python",
   "pygments_lexer": "ipython3",
   "version": "3.10.4"
  }
 },
 "nbformat": 4,
 "nbformat_minor": 5
}
