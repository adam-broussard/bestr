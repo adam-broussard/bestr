{
 "cells": [
  {
   "cell_type": "markdown",
   "id": "9c5889cc",
   "metadata": {},
   "source": [
    "# Analysis"
   ]
  },
  {
   "cell_type": "code",
   "execution_count": 1,
   "id": "f0212a3b",
   "metadata": {},
   "outputs": [],
   "source": [
    "import bestreads.text as text\n",
    "import pandas as pd\n",
    "\n",
    "data = pd.read_csv('./data/goodreads_books.csv')"
   ]
  },
  {
   "cell_type": "markdown",
   "id": "afbe8710",
   "metadata": {},
   "source": [
    "## Text Cleaning"
   ]
  },
  {
   "cell_type": "code",
   "execution_count": 2,
   "id": "c5cc918d",
   "metadata": {},
   "outputs": [],
   "source": [
    "data = text.add_english_column(data)\n",
    "english_descriptions = data.description[data.english_description]\n",
    "cleaned_descriptions = text.clean_text(english_descriptions)"
   ]
  },
  {
   "cell_type": "markdown",
   "id": "e12809e8",
   "metadata": {},
   "source": [
    "## Grouping Descriptions by Genre"
   ]
  },
  {
   "cell_type": "code",
   "execution_count": 3,
   "id": "680680e7",
   "metadata": {},
   "outputs": [
    {
     "name": "stderr",
     "output_type": "stream",
     "text": [
      "/home/adam/Documents/bestreads/bestreads/text.py:79: RuntimeWarning: NaN values detected in genre_and_votes; these will beskipped\n",
      "  + 'skipped', category=RuntimeWarning)\n",
      "100%|███████████████████████████████████████████████| 43937/43937 [00:00<00:00, 155749.62it/s]\n"
     ]
    }
   ],
   "source": [
    "genre_and_votes = text.get_genres(data.genre_and_votes[data.english_description])\n",
    "combined = text.combine_genres(genre_and_votes.genre_1, cleaned_descriptions)"
   ]
  },
  {
   "cell_type": "markdown",
   "id": "fcaa2ec3",
   "metadata": {},
   "source": [
    "## Calculating TF-IDF"
   ]
  },
  {
   "cell_type": "code",
   "execution_count": 4,
   "id": "da387d30",
   "metadata": {},
   "outputs": [
    {
     "name": "stderr",
     "output_type": "stream",
     "text": [
      "100%|███████████████████████████████████████████████████████| 427/427 [03:08<00:00,  2.27it/s]\n"
     ]
    }
   ],
   "source": [
    "tf_idf_table = text.tf_idf(combined)"
   ]
  },
  {
   "cell_type": "code",
   "execution_count": 5,
   "id": "a41a0dff",
   "metadata": {
    "scrolled": true
   },
   "outputs": [
    {
     "data": {
      "text/html": [
       "<div>\n",
       "<style scoped>\n",
       "    .dataframe tbody tr th:only-of-type {\n",
       "        vertical-align: middle;\n",
       "    }\n",
       "\n",
       "    .dataframe tbody tr th {\n",
       "        vertical-align: top;\n",
       "    }\n",
       "\n",
       "    .dataframe thead th {\n",
       "        text-align: right;\n",
       "    }\n",
       "</style>\n",
       "<table border=\"1\" class=\"dataframe\">\n",
       "  <thead>\n",
       "    <tr style=\"text-align: right;\">\n",
       "      <th></th>\n",
       "      <th>Christian-Christian Living</th>\n",
       "      <th>Law</th>\n",
       "      <th>Paranormal-Witches</th>\n",
       "      <th>Northern Africa-Egypt</th>\n",
       "      <th>Fiction</th>\n",
       "      <th>Manga-Yaoi</th>\n",
       "      <th>Womens</th>\n",
       "      <th>Fantasy-Dragons</th>\n",
       "      <th>Science Fiction-Aliens</th>\n",
       "      <th>Fan Fiction</th>\n",
       "      <th>...</th>\n",
       "      <th>Academic-College</th>\n",
       "      <th>Music</th>\n",
       "      <th>Animals-Cats</th>\n",
       "      <th>Mental Health-Mental Illness</th>\n",
       "      <th>Christianity-Evangelism</th>\n",
       "      <th>Humanities-Language</th>\n",
       "      <th>Classics</th>\n",
       "      <th>Young Adult-Coming Of Age</th>\n",
       "      <th>Football</th>\n",
       "      <th>Gay Romance-Gay For You</th>\n",
       "    </tr>\n",
       "  </thead>\n",
       "  <tbody>\n",
       "    <tr>\n",
       "      <th>must</th>\n",
       "      <td>0.009200</td>\n",
       "      <td>0.0</td>\n",
       "      <td>0.004495</td>\n",
       "      <td>0.0</td>\n",
       "      <td>0.001017</td>\n",
       "      <td>0.0</td>\n",
       "      <td>0.0</td>\n",
       "      <td>0.0</td>\n",
       "      <td>0.0</td>\n",
       "      <td>0.001512</td>\n",
       "      <td>...</td>\n",
       "      <td>0.0</td>\n",
       "      <td>0.00000</td>\n",
       "      <td>0.00966</td>\n",
       "      <td>0.000000</td>\n",
       "      <td>0.0</td>\n",
       "      <td>0.0</td>\n",
       "      <td>0.000864</td>\n",
       "      <td>0.0</td>\n",
       "      <td>0.0</td>\n",
       "      <td>0.0</td>\n",
       "    </tr>\n",
       "    <tr>\n",
       "      <th>stumbl</th>\n",
       "      <td>0.020592</td>\n",
       "      <td>0.0</td>\n",
       "      <td>0.000000</td>\n",
       "      <td>0.0</td>\n",
       "      <td>0.000282</td>\n",
       "      <td>0.0</td>\n",
       "      <td>0.0</td>\n",
       "      <td>0.0</td>\n",
       "      <td>0.0</td>\n",
       "      <td>0.000000</td>\n",
       "      <td>...</td>\n",
       "      <td>0.0</td>\n",
       "      <td>0.00000</td>\n",
       "      <td>0.00000</td>\n",
       "      <td>0.000000</td>\n",
       "      <td>0.0</td>\n",
       "      <td>0.0</td>\n",
       "      <td>0.000022</td>\n",
       "      <td>0.0</td>\n",
       "      <td>0.0</td>\n",
       "      <td>0.0</td>\n",
       "    </tr>\n",
       "    <tr>\n",
       "      <th>sorrow</th>\n",
       "      <td>0.024796</td>\n",
       "      <td>0.0</td>\n",
       "      <td>0.000000</td>\n",
       "      <td>0.0</td>\n",
       "      <td>0.000263</td>\n",
       "      <td>0.0</td>\n",
       "      <td>0.0</td>\n",
       "      <td>0.0</td>\n",
       "      <td>0.0</td>\n",
       "      <td>0.000000</td>\n",
       "      <td>...</td>\n",
       "      <td>0.0</td>\n",
       "      <td>0.00000</td>\n",
       "      <td>0.00000</td>\n",
       "      <td>0.000000</td>\n",
       "      <td>0.0</td>\n",
       "      <td>0.0</td>\n",
       "      <td>0.000183</td>\n",
       "      <td>0.0</td>\n",
       "      <td>0.0</td>\n",
       "      <td>0.0</td>\n",
       "    </tr>\n",
       "    <tr>\n",
       "      <th>tragedi</th>\n",
       "      <td>0.024891</td>\n",
       "      <td>0.0</td>\n",
       "      <td>0.000000</td>\n",
       "      <td>0.0</td>\n",
       "      <td>0.000788</td>\n",
       "      <td>0.0</td>\n",
       "      <td>0.0</td>\n",
       "      <td>0.0</td>\n",
       "      <td>0.0</td>\n",
       "      <td>0.005454</td>\n",
       "      <td>...</td>\n",
       "      <td>0.0</td>\n",
       "      <td>0.00041</td>\n",
       "      <td>0.00000</td>\n",
       "      <td>0.006534</td>\n",
       "      <td>0.0</td>\n",
       "      <td>0.0</td>\n",
       "      <td>0.001068</td>\n",
       "      <td>0.0</td>\n",
       "      <td>0.0</td>\n",
       "      <td>0.0</td>\n",
       "    </tr>\n",
       "    <tr>\n",
       "      <th>witout</th>\n",
       "      <td>0.064093</td>\n",
       "      <td>0.0</td>\n",
       "      <td>0.000000</td>\n",
       "      <td>0.0</td>\n",
       "      <td>0.000000</td>\n",
       "      <td>0.0</td>\n",
       "      <td>0.0</td>\n",
       "      <td>0.0</td>\n",
       "      <td>0.0</td>\n",
       "      <td>0.000000</td>\n",
       "      <td>...</td>\n",
       "      <td>0.0</td>\n",
       "      <td>0.00000</td>\n",
       "      <td>0.00000</td>\n",
       "      <td>0.000000</td>\n",
       "      <td>0.0</td>\n",
       "      <td>0.0</td>\n",
       "      <td>0.000000</td>\n",
       "      <td>0.0</td>\n",
       "      <td>0.0</td>\n",
       "      <td>0.0</td>\n",
       "    </tr>\n",
       "  </tbody>\n",
       "</table>\n",
       "<p>5 rows × 427 columns</p>\n",
       "</div>"
      ],
      "text/plain": [
       "         Christian-Christian Living  Law  Paranormal-Witches  \\\n",
       "must                       0.009200  0.0            0.004495   \n",
       "stumbl                     0.020592  0.0            0.000000   \n",
       "sorrow                     0.024796  0.0            0.000000   \n",
       "tragedi                    0.024891  0.0            0.000000   \n",
       "witout                     0.064093  0.0            0.000000   \n",
       "\n",
       "         Northern Africa-Egypt   Fiction  Manga-Yaoi  Womens  Fantasy-Dragons  \\\n",
       "must                       0.0  0.001017         0.0     0.0              0.0   \n",
       "stumbl                     0.0  0.000282         0.0     0.0              0.0   \n",
       "sorrow                     0.0  0.000263         0.0     0.0              0.0   \n",
       "tragedi                    0.0  0.000788         0.0     0.0              0.0   \n",
       "witout                     0.0  0.000000         0.0     0.0              0.0   \n",
       "\n",
       "         Science Fiction-Aliens  Fan Fiction  ...  Academic-College    Music  \\\n",
       "must                        0.0     0.001512  ...               0.0  0.00000   \n",
       "stumbl                      0.0     0.000000  ...               0.0  0.00000   \n",
       "sorrow                      0.0     0.000000  ...               0.0  0.00000   \n",
       "tragedi                     0.0     0.005454  ...               0.0  0.00041   \n",
       "witout                      0.0     0.000000  ...               0.0  0.00000   \n",
       "\n",
       "         Animals-Cats  Mental Health-Mental Illness  Christianity-Evangelism  \\\n",
       "must          0.00966                      0.000000                      0.0   \n",
       "stumbl        0.00000                      0.000000                      0.0   \n",
       "sorrow        0.00000                      0.000000                      0.0   \n",
       "tragedi       0.00000                      0.006534                      0.0   \n",
       "witout        0.00000                      0.000000                      0.0   \n",
       "\n",
       "         Humanities-Language  Classics  Young Adult-Coming Of Age  Football  \\\n",
       "must                     0.0  0.000864                        0.0       0.0   \n",
       "stumbl                   0.0  0.000022                        0.0       0.0   \n",
       "sorrow                   0.0  0.000183                        0.0       0.0   \n",
       "tragedi                  0.0  0.001068                        0.0       0.0   \n",
       "witout                   0.0  0.000000                        0.0       0.0   \n",
       "\n",
       "         Gay Romance-Gay For You  \n",
       "must                         0.0  \n",
       "stumbl                       0.0  \n",
       "sorrow                       0.0  \n",
       "tragedi                      0.0  \n",
       "witout                       0.0  \n",
       "\n",
       "[5 rows x 427 columns]"
      ]
     },
     "execution_count": 5,
     "metadata": {},
     "output_type": "execute_result"
    }
   ],
   "source": [
    "tf_idf_table.head()"
   ]
  },
  {
   "cell_type": "code",
   "execution_count": 6,
   "id": "d00dec9c",
   "metadata": {},
   "outputs": [
    {
     "data": {
      "text/plain": [
       "(130275, 427)"
      ]
     },
     "execution_count": 6,
     "metadata": {},
     "output_type": "execute_result"
    }
   ],
   "source": [
    "tf_idf_table.shape"
   ]
  }
 ],
 "metadata": {
  "kernelspec": {
   "display_name": "Python 3 (ipykernel)",
   "language": "python",
   "name": "python3"
  },
  "language_info": {
   "codemirror_mode": {
    "name": "ipython",
    "version": 3
   },
   "file_extension": ".py",
   "mimetype": "text/x-python",
   "name": "python",
   "nbconvert_exporter": "python",
   "pygments_lexer": "ipython3",
   "version": "3.7.13"
  }
 },
 "nbformat": 4,
 "nbformat_minor": 5
}
