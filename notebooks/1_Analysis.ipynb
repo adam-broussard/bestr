{
 "cells": [
  {
   "cell_type": "markdown",
   "id": "9c5889cc",
   "metadata": {},
   "source": [
    "# Analysis"
   ]
  },
  {
   "cell_type": "code",
   "execution_count": 2,
   "id": "f0212a3b",
   "metadata": {},
   "outputs": [],
   "source": [
    "import bestreads.text as text\n",
    "import pandas as pd\n",
    "\n",
    "data = pd.read_csv('./data/goodreads_books.csv')"
   ]
  },
  {
   "cell_type": "markdown",
   "id": "afbe8710",
   "metadata": {},
   "source": [
    "## Text Cleaning"
   ]
  },
  {
   "cell_type": "code",
   "execution_count": 5,
   "id": "c5cc918d",
   "metadata": {},
   "outputs": [],
   "source": [
    "data = text.add_english_column(data)\n",
    "english_descriptions = data.description[data.english_description]\n",
    "cleaned_descriptions = text.clean_text(english_descriptions)"
   ]
  },
  {
   "cell_type": "markdown",
   "id": "e12809e8",
   "metadata": {},
   "source": [
    "## Grouping Descriptions by Genre"
   ]
  },
  {
   "cell_type": "code",
   "execution_count": 6,
   "id": "680680e7",
   "metadata": {},
   "outputs": [
    {
     "name": "stderr",
     "output_type": "stream",
     "text": [
      "/home/adam/Documents/bestreads/bestreads/text.py:79: RuntimeWarning: NaN values detected in genre_and_votes; these will beskipped\n",
      "  + 'skipped', category=RuntimeWarning)\n",
      "100%|███████████████████████████████████████████████| 43936/43936 [00:00<00:00, 172905.81it/s]\n"
     ]
    }
   ],
   "source": [
    "genre_and_votes = text.get_genres(data.genre_and_votes[data.english_description])\n",
    "combined = text.combine_genres(genre_and_votes.genre_1, cleaned_descriptions)\n",
    "tf_idf_table = text.tf_idf(combined)"
   ]
  },
  {
   "cell_type": "markdown",
   "id": "fcaa2ec3",
   "metadata": {},
   "source": [
    "## Calculating TF-IDF"
   ]
  },
  {
   "cell_type": "code",
   "execution_count": 7,
   "id": "a41a0dff",
   "metadata": {},
   "outputs": [
    {
     "data": {
      "text/html": [
       "<div>\n",
       "<style scoped>\n",
       "    .dataframe tbody tr th:only-of-type {\n",
       "        vertical-align: middle;\n",
       "    }\n",
       "\n",
       "    .dataframe tbody tr th {\n",
       "        vertical-align: top;\n",
       "    }\n",
       "\n",
       "    .dataframe thead th {\n",
       "        text-align: right;\n",
       "    }\n",
       "</style>\n",
       "<table border=\"1\" class=\"dataframe\">\n",
       "  <thead>\n",
       "    <tr style=\"text-align: right;\">\n",
       "      <th></th>\n",
       "      <th>Young Adult-Coming Of Age</th>\n",
       "      <th>Paranormal Urban Fantasy</th>\n",
       "      <th>Fantasy-High Fantasy</th>\n",
       "      <th>Comics-Comic Book</th>\n",
       "      <th>Romance</th>\n",
       "      <th>Marriage</th>\n",
       "      <th>Literature-American</th>\n",
       "      <th>Psychology-Counselling</th>\n",
       "      <th>Nature-Outdoors</th>\n",
       "      <th>Cultural-Poland</th>\n",
       "      <th>...</th>\n",
       "      <th>Fantasy-Magic</th>\n",
       "      <th>Paranormal-Shapeshifters</th>\n",
       "      <th>Novels-Light Novel</th>\n",
       "      <th>Art</th>\n",
       "      <th>Christian</th>\n",
       "      <th>Games-Role Playing Games</th>\n",
       "      <th>Science</th>\n",
       "      <th>LGBT-Gay</th>\n",
       "      <th>Diary</th>\n",
       "      <th>Buisness</th>\n",
       "    </tr>\n",
       "  </thead>\n",
       "  <tbody>\n",
       "    <tr>\n",
       "      <th>thi</th>\n",
       "      <td>0.002494</td>\n",
       "      <td>0.001841</td>\n",
       "      <td>NaN</td>\n",
       "      <td>NaN</td>\n",
       "      <td>0.000856</td>\n",
       "      <td>0.001511</td>\n",
       "      <td>0.000856</td>\n",
       "      <td>0.001249</td>\n",
       "      <td>NaN</td>\n",
       "      <td>NaN</td>\n",
       "      <td>...</td>\n",
       "      <td>0.000393</td>\n",
       "      <td>0.001789</td>\n",
       "      <td>0.001288</td>\n",
       "      <td>0.002344</td>\n",
       "      <td>0.002296</td>\n",
       "      <td>0.001427</td>\n",
       "      <td>0.001950</td>\n",
       "      <td>0.000755</td>\n",
       "      <td>0.006378</td>\n",
       "      <td>0.004961</td>\n",
       "    </tr>\n",
       "    <tr>\n",
       "      <th>one</th>\n",
       "      <td>0.002839</td>\n",
       "      <td>NaN</td>\n",
       "      <td>0.014992</td>\n",
       "      <td>NaN</td>\n",
       "      <td>0.002882</td>\n",
       "      <td>0.001274</td>\n",
       "      <td>0.000406</td>\n",
       "      <td>NaN</td>\n",
       "      <td>NaN</td>\n",
       "      <td>0.009411</td>\n",
       "      <td>...</td>\n",
       "      <td>0.005957</td>\n",
       "      <td>0.003395</td>\n",
       "      <td>0.002730</td>\n",
       "      <td>0.001603</td>\n",
       "      <td>0.002115</td>\n",
       "      <td>0.001160</td>\n",
       "      <td>0.001676</td>\n",
       "      <td>0.002865</td>\n",
       "      <td>NaN</td>\n",
       "      <td>NaN</td>\n",
       "    </tr>\n",
       "    <tr>\n",
       "      <th>mani</th>\n",
       "      <td>0.010696</td>\n",
       "      <td>NaN</td>\n",
       "      <td>NaN</td>\n",
       "      <td>NaN</td>\n",
       "      <td>0.000463</td>\n",
       "      <td>NaN</td>\n",
       "      <td>NaN</td>\n",
       "      <td>NaN</td>\n",
       "      <td>NaN</td>\n",
       "      <td>NaN</td>\n",
       "      <td>...</td>\n",
       "      <td>0.002525</td>\n",
       "      <td>0.000384</td>\n",
       "      <td>NaN</td>\n",
       "      <td>0.001753</td>\n",
       "      <td>0.002248</td>\n",
       "      <td>NaN</td>\n",
       "      <td>0.002175</td>\n",
       "      <td>NaN</td>\n",
       "      <td>NaN</td>\n",
       "      <td>NaN</td>\n",
       "    </tr>\n",
       "    <tr>\n",
       "      <th>intrigu</th>\n",
       "      <td>0.008588</td>\n",
       "      <td>NaN</td>\n",
       "      <td>NaN</td>\n",
       "      <td>NaN</td>\n",
       "      <td>0.000502</td>\n",
       "      <td>NaN</td>\n",
       "      <td>NaN</td>\n",
       "      <td>NaN</td>\n",
       "      <td>NaN</td>\n",
       "      <td>NaN</td>\n",
       "      <td>...</td>\n",
       "      <td>NaN</td>\n",
       "      <td>NaN</td>\n",
       "      <td>0.001304</td>\n",
       "      <td>0.000235</td>\n",
       "      <td>0.000259</td>\n",
       "      <td>0.001755</td>\n",
       "      <td>0.000765</td>\n",
       "      <td>NaN</td>\n",
       "      <td>NaN</td>\n",
       "      <td>NaN</td>\n",
       "    </tr>\n",
       "    <tr>\n",
       "      <th>tale</th>\n",
       "      <td>0.008351</td>\n",
       "      <td>NaN</td>\n",
       "      <td>NaN</td>\n",
       "      <td>0.004223</td>\n",
       "      <td>0.000546</td>\n",
       "      <td>0.000937</td>\n",
       "      <td>0.003580</td>\n",
       "      <td>NaN</td>\n",
       "      <td>NaN</td>\n",
       "      <td>NaN</td>\n",
       "      <td>...</td>\n",
       "      <td>0.004380</td>\n",
       "      <td>NaN</td>\n",
       "      <td>0.001690</td>\n",
       "      <td>0.000456</td>\n",
       "      <td>0.000437</td>\n",
       "      <td>NaN</td>\n",
       "      <td>0.000496</td>\n",
       "      <td>0.002107</td>\n",
       "      <td>NaN</td>\n",
       "      <td>NaN</td>\n",
       "    </tr>\n",
       "  </tbody>\n",
       "</table>\n",
       "<p>5 rows × 428 columns</p>\n",
       "</div>"
      ],
      "text/plain": [
       "         Young Adult-Coming Of Age  Paranormal Urban Fantasy  \\\n",
       "thi                       0.002494                  0.001841   \n",
       "one                       0.002839                       NaN   \n",
       "mani                      0.010696                       NaN   \n",
       "intrigu                   0.008588                       NaN   \n",
       "tale                      0.008351                       NaN   \n",
       "\n",
       "         Fantasy-High Fantasy  Comics-Comic Book   Romance  Marriage  \\\n",
       "thi                       NaN                NaN  0.000856  0.001511   \n",
       "one                  0.014992                NaN  0.002882  0.001274   \n",
       "mani                      NaN                NaN  0.000463       NaN   \n",
       "intrigu                   NaN                NaN  0.000502       NaN   \n",
       "tale                      NaN           0.004223  0.000546  0.000937   \n",
       "\n",
       "         Literature-American  Psychology-Counselling  Nature-Outdoors  \\\n",
       "thi                 0.000856                0.001249              NaN   \n",
       "one                 0.000406                     NaN              NaN   \n",
       "mani                     NaN                     NaN              NaN   \n",
       "intrigu                  NaN                     NaN              NaN   \n",
       "tale                0.003580                     NaN              NaN   \n",
       "\n",
       "         Cultural-Poland  ...  Fantasy-Magic  Paranormal-Shapeshifters  \\\n",
       "thi                  NaN  ...       0.000393                  0.001789   \n",
       "one             0.009411  ...       0.005957                  0.003395   \n",
       "mani                 NaN  ...       0.002525                  0.000384   \n",
       "intrigu              NaN  ...            NaN                       NaN   \n",
       "tale                 NaN  ...       0.004380                       NaN   \n",
       "\n",
       "         Novels-Light Novel       Art  Christian  Games-Role Playing Games  \\\n",
       "thi                0.001288  0.002344   0.002296                  0.001427   \n",
       "one                0.002730  0.001603   0.002115                  0.001160   \n",
       "mani                    NaN  0.001753   0.002248                       NaN   \n",
       "intrigu            0.001304  0.000235   0.000259                  0.001755   \n",
       "tale               0.001690  0.000456   0.000437                       NaN   \n",
       "\n",
       "          Science  LGBT-Gay     Diary  Buisness  \n",
       "thi      0.001950  0.000755  0.006378  0.004961  \n",
       "one      0.001676  0.002865       NaN       NaN  \n",
       "mani     0.002175       NaN       NaN       NaN  \n",
       "intrigu  0.000765       NaN       NaN       NaN  \n",
       "tale     0.000496  0.002107       NaN       NaN  \n",
       "\n",
       "[5 rows x 428 columns]"
      ]
     },
     "execution_count": 7,
     "metadata": {},
     "output_type": "execute_result"
    }
   ],
   "source": [
    "tf_idf_table.head()"
   ]
  },
  {
   "cell_type": "code",
   "execution_count": 10,
   "id": "d00dec9c",
   "metadata": {},
   "outputs": [
    {
     "data": {
      "text/plain": [
       "(130281, 428)"
      ]
     },
     "execution_count": 10,
     "metadata": {},
     "output_type": "execute_result"
    }
   ],
   "source": [
    "tf_idf_table.shape"
   ]
  },
  {
   "cell_type": "code",
   "execution_count": null,
   "id": "30002e9a",
   "metadata": {},
   "outputs": [],
   "source": []
  }
 ],
 "metadata": {
  "kernelspec": {
   "display_name": "Python 3 (ipykernel)",
   "language": "python",
   "name": "python3"
  },
  "language_info": {
   "codemirror_mode": {
    "name": "ipython",
    "version": 3
   },
   "file_extension": ".py",
   "mimetype": "text/x-python",
   "name": "python",
   "nbconvert_exporter": "python",
   "pygments_lexer": "ipython3",
   "version": "3.7.13"
  }
 },
 "nbformat": 4,
 "nbformat_minor": 5
}
